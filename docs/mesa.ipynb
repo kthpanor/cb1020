{
 "cells": [
  {
   "cell_type": "markdown",
   "id": "bb5c930b-5a79-4e34-b320-f93a319c5990",
   "metadata": {},
   "source": [
    "# Mesa\n",
    "\n",
    "Introduction to the mesa package, the Model and Agent classes, and such."
   ]
  }
 ],
 "metadata": {
  "kernelspec": {
   "display_name": "Python 3 (ipykernel)",
   "language": "python",
   "name": "python3"
  },
  "language_info": {
   "codemirror_mode": {
    "name": "ipython",
    "version": 3
   },
   "file_extension": ".py",
   "mimetype": "text/x-python",
   "name": "python",
   "nbconvert_exporter": "python",
   "pygments_lexer": "ipython3",
   "version": "3.11.8"
  }
 },
 "nbformat": 4,
 "nbformat_minor": 5
}
