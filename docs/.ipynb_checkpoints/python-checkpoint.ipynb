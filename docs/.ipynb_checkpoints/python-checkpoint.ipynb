{
 "cells": [
  {
   "cell_type": "markdown",
   "id": "5778b5f9",
   "metadata": {},
   "source": [
    "# Python for this course\n",
    "\n",
    "## Motivation\n",
    "\n",
    "[Python](https://en.wikipedia.org/wiki/Python_(programming_language)) has developed into an (almost) indispensable tool in computational and engineering sciences.\n",
    "\n",
    "Python offers an intuitive syntax with a high degree of code readability and it is used for everything from simple scripting and fast prototyping to large-scale projects.\n",
    "\n",
    "Python is open source and free for use and distribution. It is available for all relevant platforms, including\n",
    "\n",
    "- Linux\n",
    "- MacOS\n",
    "- Windows"
   ]
  },
  {
   "cell_type": "markdown",
   "id": "544a2193",
   "metadata": {},
   "source": [
    "## Important modules\n",
    "\n",
    "Python code is typically written in the form of functions that are stored in libraries (or *modules*) and made available with the `import` statement. \n",
    "\n",
    "Modules of specific concern in this course include\n",
    "\n",
    "- [NumPy](https://numpy.org/doc/stable/user/absolute_beginners.html) introduces multi-dimensional arrays and provides efficient array operations\n",
    "- [SciPy](https://docs.scipy.org/doc/scipy/reference/tutorial/general.html) provides mathematical algorithms and convenience functions built on NumPy\n",
    "- [Matplotlib](https://matplotlib.org/stable/users/index.html) is a visualization library in Python for plotting arrays\n",
    "- [Pandas](https://pandas.pydata.org/docs/getting_started/overview.html) a flexible data analysis/manipulation tool\n",
    "- [Mesa](https://mesa.readthedocs.io/en/stable/) enables agent-based modeling in Python"
   ]
  },
  {
   "cell_type": "markdown",
   "id": "85243444",
   "metadata": {},
   "source": [
    "## Documentation\n",
    "\n",
    "The amount of Python documentation is vast and so is the community of module contributers. If you are in search of the solution to an isolated task or  problem, there is a great chance that someone has contributed an efficient and stable implementation on the web.\n",
    "\n",
    "- If you are new to Python, it can be a good idea to first read one of the several books available to get a coherent introduction. A recommended choice is the book titled *A Whirlwind Tour of Python* authored by Jake VanderPlas as it provides a short, clear, and to-the-point presentation {cite}`VanderPlas2016`.\n",
    "\n",
    "- If you have some experience and rather benefit from a more reference-oriented documentation, a recommended source is [W3Schools](https://www.w3schools.com/python/python_intro.asp)."
   ]
  },
  {
   "cell_type": "markdown",
   "id": "9d3f1e74",
   "metadata": {},
   "source": [
    "## Some necessities"
   ]
  },
  {
   "cell_type": "markdown",
   "id": "ebfe52b2",
   "metadata": {},
   "source": [
    "### Iterations\n",
    "A `for` loop is used for iterating over a sequence (that is either a list, a tuple, a dictionary, a set, or a string).\n",
    "\n",
    "A \"standard\" loop is accomplished with the `range` function. The `range` function returns a sequence of numbers, starting from 0 by default, and increments by 1 (by default), and ends at a specified number."
   ]
  },
  {
   "cell_type": "code",
   "execution_count": 1,
   "id": "28eaf8f6",
   "metadata": {},
   "outputs": [
    {
     "name": "stdout",
     "output_type": "stream",
     "text": [
      "0\n",
      "1\n",
      "2\n",
      "3\n",
      "4\n"
     ]
    }
   ],
   "source": [
    "for i in range(5):\n",
    "    print(i)"
   ]
  },
  {
   "cell_type": "markdown",
   "id": "597d7029",
   "metadata": {},
   "source": [
    "### Data types\n",
    "Basic Python data types include `integer`, `float`, `list`, and `dictionary`. "
   ]
  },
  {
   "cell_type": "code",
   "execution_count": 3,
   "id": "73442126",
   "metadata": {},
   "outputs": [
    {
     "name": "stdout",
     "output_type": "stream",
     "text": [
      "Elements in list:\n",
      "0 3.1 3.1\n",
      "1 text text\n",
      "2 [1, 2, 3] [1, 2, 3]\n",
      "Elements in dictionary:\n",
      "Key, value: first hello\n",
      "Key, value: second 3.1415\n",
      "Key, value: third [3.1, 'text', [1, 2, 3]]\n"
     ]
    }
   ],
   "source": [
    "i = 10     # integer\n",
    "x = 3.1415 # float\n",
    "\n",
    "a_list = [3.1, 'text', [1,2,3]] # list\n",
    "b_dict = {'first': 'hello', 'second': x, 'third': a_list} # dictonary\n",
    "\n",
    "print('Elements in list:')\n",
    "for i, a in enumerate(a_list):\n",
    "    print(i, a, a_list[i])\n",
    "\n",
    "print('Elements in dictionary:')\n",
    "for key in b_dict.keys():\n",
    "    print('Key, value:', key, b_dict[key])"
   ]
  },
  {
   "cell_type": "markdown",
   "id": "a34ecc90",
   "metadata": {},
   "source": [
    "The object type is revealed by the `type` function."
   ]
  },
  {
   "cell_type": "code",
   "execution_count": 5,
   "id": "1e16b57f",
   "metadata": {},
   "outputs": [
    {
     "data": {
      "text/plain": [
       "list"
      ]
     },
     "execution_count": 5,
     "metadata": {},
     "output_type": "execute_result"
    }
   ],
   "source": [
    "type(a_list)"
   ]
  },
  {
   "cell_type": "markdown",
   "id": "7910a5ee",
   "metadata": {},
   "source": [
    "```{note}\n",
    "A Python `list` with $N$ elements is indexed from 0 to $(N-1)$.\n",
    "```"
   ]
  },
  {
   "cell_type": "markdown",
   "id": "53f7265a",
   "metadata": {},
   "source": [
    "## Example\n",
    "\n",
    "Let us use `NumPy` to generate an array of random numbers distributed according to the Gaussian distribution\n",
    "\n",
    "$$\n",
    "f(x) = \\frac{1}{\\sqrt{2\\pi\\sigma^2}}\n",
    "e^{-(x-\\mu)^2 / (2\\sigma^2)}\n",
    "$$"
   ]
  },
  {
   "cell_type": "code",
   "execution_count": 8,
   "id": "849c5920",
   "metadata": {},
   "outputs": [
    {
     "name": "stdout",
     "output_type": "stream",
     "text": [
      "Object type: <class 'numpy.ndarray'>\n",
      "Number of values: 5000\n",
      "Mean value:  10.0002\n",
      "Standard deviation:  0.0996\n"
     ]
    }
   ],
   "source": [
    "import numpy as np\n",
    "\n",
    "# Fixing random state for reproducibility\n",
    "np.random.seed(20210722)\n",
    "\n",
    "mu, sigma = 10, 0.1 # mean and standard deviation\n",
    "s = np.random.normal(mu, sigma, 5000) # return a NumPy array\n",
    "\n",
    "print('Object type:', type(s))\n",
    "print('Number of values:', len(s))\n",
    "print(f'Mean value: {np.mean(s) : .4f}')\n",
    "print(f'Standard deviation: {np.std(s) : .4f}')"
   ]
  },
  {
   "cell_type": "markdown",
   "id": "24b0253a",
   "metadata": {},
   "source": [
    "We use `Matplotlib` to plot a histogram of the density distribution of the random numbers and compared it to the analytical Gaussian distribution function $f(x)$ given above."
   ]
  },
  {
   "cell_type": "code",
   "execution_count": null,
   "id": "915b49e5",
   "metadata": {},
   "outputs": [],
   "source": [
    "import matplotlib.pyplot as plt\n",
    "\n",
    "counts, bins, patches = plt.hist(s, bins=50, range=(9.5,10.5), density=True)\n",
    "\n",
    "gaussian = 1 / ( sigma * np.sqrt(2 * np.pi) ) * \\\n",
    "            np.exp( - (bins - mu)**2 / (2 * sigma**2) )\n",
    "\n",
    "plt.plot(bins, gaussian, linewidth=2, color='r')\n",
    "\n",
    "plt.grid(True)\n",
    "plt.setp(plt.gca(), xlim=(9.5,10.5), ylim=(0,4.5))\n",
    "plt.title('Normal distribution of pseudo random numbers')\n",
    "plt.xlabel(r'$x$')\n",
    "plt.ylabel(r'$f(x)$')\n",
    "\n",
    "plt.show()"
   ]
  },
  {
   "cell_type": "markdown",
   "id": "e526fe83",
   "metadata": {},
   "source": [
    "## Python help function\n",
    "\n",
    "The Python help function is used to display the documentation of modules, functions, classes, keywords etc. The help function has the following syntax: help([object]) If the help function is passed without an argument, then the interactive help utility starts up on the console."
   ]
  },
  {
   "cell_type": "code",
   "execution_count": null,
   "id": "f0a51cbd",
   "metadata": {},
   "outputs": [],
   "source": [
    "help(plt.hist)"
   ]
  }
 ],
 "metadata": {
  "kernelspec": {
   "display_name": "Python 3 (ipykernel)",
   "language": "python",
   "name": "python3"
  },
  "language_info": {
   "codemirror_mode": {
    "name": "ipython",
    "version": 3
   },
   "file_extension": ".py",
   "mimetype": "text/x-python",
   "name": "python",
   "nbconvert_exporter": "python",
   "pygments_lexer": "ipython3",
   "version": "3.9.6"
  }
 },
 "nbformat": 4,
 "nbformat_minor": 5
}
