{
 "cells": [
  {
   "cell_type": "markdown",
   "id": "0ffcb908-8a7c-453d-8dd8-48542a5a014c",
   "metadata": {},
   "source": [
    "(sec:agent)=\n",
    "# Agent-based modeling\n",
    "\n",
    "An [agent-based model](https://en.wikipedia.org/wiki/Agent-based_model) (ABM) is a computational model for simulating the actions and interactions of autonomous agents (both individual or collective entities such as organizations or groups) in order to understand the behavior of a system and what governs its outcomes.\n",
    "\n",
    "ABMs are created to simulate the seemingly stochastic behavior of microscopic individuals to build up and predict the appearance of complex macroscopic phenomena. Most agent-based models are composed of: (1) numerous agents specified at various scales (typically referred to as agent-granularity); (2) decision-making heuristics; (3) learning rules or adaptive processes; (4) an interaction topology; and (5) an environment.\n",
    "\n",
    "The use and advancements of [ABMs in biology](https://en.wikipedia.org/wiki/Agent-based_model_in_biology) and other fields is promoted by the increasing computational power of modern computers and there is a natural appeal in explaining macroscopic phenomena from microscopic interactions. There may be a risk, however, of not seeing the forest for all the trees as the complexity of decision-makinng can be increased."
   ]
  },
  {
   "cell_type": "markdown",
   "id": "60e04631-54ee-4f95-8e5b-2bc433216416",
   "metadata": {},
   "source": [
    "## Implementing ABM\n",
    "Every ABM requires two classes, one for the overall model and one for the agents. These classes will be derived classes of Mesa's base classes `Model` and `Agent`. The model class holds the model-level attributes, manages the agents, and generally handles the global level of our model. Each instantiation of the model class will be a specific model run. Each model will contain multiple agents, all of which are instantiations of the agent class."
   ]
  },
  {
   "cell_type": "code",
   "execution_count": 1,
   "id": "5069ef04-fce0-4ca1-852e-4a902e02efc8",
   "metadata": {},
   "outputs": [],
   "source": [
    "# Modeling\n",
    "from mesa import Agent, Model\n",
    "\n",
    "# Analysis\n",
    "from mesa.datacollection import DataCollector\n",
    "from mesa.space import MultiGrid"
   ]
  },
  {
   "cell_type": "markdown",
   "id": "b67995bf",
   "metadata": {},
   "source": [
    "### Model\n",
    "Our model will be that of $N$ agents randomly walking around in a 2D landscape grid of cells. To begin with, the agents are randomly positioned. The model defines a data collector that in each time step records the wealth of agents and an overall indicator for wealth distribution."
   ]
  },
  {
   "cell_type": "code",
   "execution_count": 2,
   "id": "be2e8b5c",
   "metadata": {},
   "outputs": [],
   "source": [
    "class MoneyModel(Model):\n",
    "    def __init__(self, N, width, height):\n",
    "        # run the __init__ method of the parent class\n",
    "        super().__init__()\n",
    "        # additional initialization for the derived class\n",
    "        self.num_agents = N\n",
    "        self.grid = MultiGrid(width, height, True)\n",
    "        self.datacollector = DataCollector(\n",
    "            model_reporters={\n",
    "                \"Gini coefficient\": compute_gini  # function defined below\n",
    "            },\n",
    "            agent_reporters={\n",
    "                \"Agent wealth\": \"wealth\",\n",
    "                \"Agent position\": \"pos\",\n",
    "            },  # agent attributes\n",
    "        )\n",
    "\n",
    "        # Create agents\n",
    "        for unique_id in range(self.num_agents):\n",
    "            agent = MoneyAgent(self)\n",
    "            # self.schedule.add(agent)\n",
    "\n",
    "            # Add the agent to a random grid cell\n",
    "            x = self.random.randrange(self.grid.width)\n",
    "            y = self.random.randrange(self.grid.height)\n",
    "            self.grid.place_agent(agent, (x, y))\n",
    "\n",
    "    def step(self):\n",
    "        self.datacollector.collect(self)\n",
    "        self.agents.shuffle_do(\"step\")"
   ]
  },
  {
   "cell_type": "markdown",
   "id": "daa19cbb",
   "metadata": {},
   "source": [
    "### Agent\n",
    "Every agent starts with a wealth of 1. If an agent has nonzero wealth and enters into a non-empty cell, the agent will give one unit of wealth to a random cellmate."
   ]
  },
  {
   "cell_type": "code",
   "execution_count": 3,
   "id": "b3662ecf",
   "metadata": {},
   "outputs": [],
   "source": [
    "class MoneyAgent(Agent):\n",
    "    def __init__(self, model):\n",
    "        # run the __init__ method of the parent class\n",
    "        super().__init__(model)\n",
    "        \n",
    "        # additional initialization for the derived class\n",
    "        self.wealth = 1\n",
    "\n",
    "    def move(self):\n",
    "        possible_steps = self.model.grid.get_neighborhood(\n",
    "            self.pos,  # current position\n",
    "            moore=True,  # including step on the diagonal\n",
    "            include_center=False,  # to remain at current position is not allowed\n",
    "        )\n",
    "        new_position = self.random.choice(possible_steps)\n",
    "        self.model.grid.move_agent(self, new_position)\n",
    "\n",
    "    def give_money(self):\n",
    "        cellmates = self.model.grid.get_cell_list_contents([self.pos])\n",
    "        if len(cellmates) > 1:\n",
    "            other = self.random.choice(cellmates)\n",
    "            other.wealth += 1\n",
    "            self.wealth -= 1\n",
    "\n",
    "    def step(self):\n",
    "        self.move()\n",
    "        if self.wealth > 0:\n",
    "            self.give_money()"
   ]
  },
  {
   "cell_type": "markdown",
   "id": "2a852106",
   "metadata": {},
   "source": [
    "As metric indicator of wealth distribution, we implement the [Gini coefficient](https://en.wikipedia.org/wiki/Gini_coefficient). Let $x_i$ for $i = 1,\\ldots, N$ be the wealth of $N$ individuals ordered such that $x_i \\leq x_{i+1}$. The Gini coefficient for this population is\n",
    "\n",
    "$$\n",
    "G = \\frac{1}{N}\n",
    "\\Big(\n",
    "N + 1 - \\frac{2}{X} \\sum_{i=1}^N (N+1-i) x_i\n",
    "\\Big)\n",
    "$$\n",
    "\n",
    "where $X$ is the sum of wealths, or, in other words, the total population wealth. There are two limting values for $G$. If every individual has the same wealth, then $G = 0$. If the total population wealth belongs to a single individual, then $G = (1 - 1/N)$."
   ]
  },
  {
   "cell_type": "code",
   "execution_count": 4,
   "id": "c54e3621",
   "metadata": {},
   "outputs": [],
   "source": [
    "def compute_gini(model):\n",
    "    N = model.num_agents\n",
    "\n",
    "    # collect wealth of agent into a list and sort it in increasing order\n",
    "    agent_wealths = [agent.wealth for agent in model.agents]\n",
    "    x = sorted(agent_wealths)\n",
    "\n",
    "    # calculate the Gini coefficient\n",
    "    B = sum(xi * (N - i) for i, xi in enumerate(x)) / sum(x)\n",
    "    G = (N + 1 - 2 * B) / N\n",
    "\n",
    "    return G"
   ]
  },
  {
   "cell_type": "markdown",
   "id": "f84d04b7",
   "metadata": {},
   "source": [
    "### Running the simulation\n",
    "We run the model with 50 agents distributed in a 10 $\\times$ 10 grid of cells for 100 time steps."
   ]
  },
  {
   "cell_type": "code",
   "execution_count": 5,
   "id": "67b480f8",
   "metadata": {},
   "outputs": [],
   "source": [
    "model = MoneyModel(50, 10, 10)\n",
    "\n",
    "for i in range(100):\n",
    "    model.step()"
   ]
  },
  {
   "cell_type": "markdown",
   "id": "c92a9589",
   "metadata": {},
   "source": [
    "### Collecting stored data\n",
    "After the simulation, we collect the model and agent data that are stored using the [Pandas](https://pandas.pydata.org/docs/getting_started/overview.html) `DataFrame` data structure."
   ]
  },
  {
   "cell_type": "code",
   "execution_count": 6,
   "id": "7e091d9b",
   "metadata": {},
   "outputs": [],
   "source": [
    "model_df = model.datacollector.get_model_vars_dataframe()\n",
    "agent_df = model.datacollector.get_agent_vars_dataframe()"
   ]
  },
  {
   "cell_type": "markdown",
   "id": "87416f03",
   "metadata": {},
   "source": [
    "We expose the data structures with use of the methods `head(n)` and `tail(n)` showing, respectively, the first and last *n* rows of the dataframe. A regular `print` statements can also be used."
   ]
  },
  {
   "cell_type": "code",
   "execution_count": 7,
   "id": "990fb99e",
   "metadata": {},
   "outputs": [
    {
     "data": {
      "text/html": [
       "<div>\n",
       "<style scoped>\n",
       "    .dataframe tbody tr th:only-of-type {\n",
       "        vertical-align: middle;\n",
       "    }\n",
       "\n",
       "    .dataframe tbody tr th {\n",
       "        vertical-align: top;\n",
       "    }\n",
       "\n",
       "    .dataframe thead th {\n",
       "        text-align: right;\n",
       "    }\n",
       "</style>\n",
       "<table border=\"1\" class=\"dataframe\">\n",
       "  <thead>\n",
       "    <tr style=\"text-align: right;\">\n",
       "      <th></th>\n",
       "      <th>Gini coefficient</th>\n",
       "    </tr>\n",
       "  </thead>\n",
       "  <tbody>\n",
       "    <tr>\n",
       "      <th>0</th>\n",
       "      <td>0.0000</td>\n",
       "    </tr>\n",
       "    <tr>\n",
       "      <th>1</th>\n",
       "      <td>0.3808</td>\n",
       "    </tr>\n",
       "    <tr>\n",
       "      <th>2</th>\n",
       "      <td>0.4904</td>\n",
       "    </tr>\n",
       "    <tr>\n",
       "      <th>3</th>\n",
       "      <td>0.5272</td>\n",
       "    </tr>\n",
       "    <tr>\n",
       "      <th>4</th>\n",
       "      <td>0.5376</td>\n",
       "    </tr>\n",
       "  </tbody>\n",
       "</table>\n",
       "</div>"
      ],
      "text/plain": [
       "   Gini coefficient\n",
       "0            0.0000\n",
       "1            0.3808\n",
       "2            0.4904\n",
       "3            0.5272\n",
       "4            0.5376"
      ]
     },
     "execution_count": 7,
     "metadata": {},
     "output_type": "execute_result"
    }
   ],
   "source": [
    "model_df.head(5)"
   ]
  },
  {
   "cell_type": "code",
   "execution_count": 8,
   "id": "1ef2a59a",
   "metadata": {},
   "outputs": [
    {
     "data": {
      "text/html": [
       "<div>\n",
       "<style scoped>\n",
       "    .dataframe tbody tr th:only-of-type {\n",
       "        vertical-align: middle;\n",
       "    }\n",
       "\n",
       "    .dataframe tbody tr th {\n",
       "        vertical-align: top;\n",
       "    }\n",
       "\n",
       "    .dataframe thead th {\n",
       "        text-align: right;\n",
       "    }\n",
       "</style>\n",
       "<table border=\"1\" class=\"dataframe\">\n",
       "  <thead>\n",
       "    <tr style=\"text-align: right;\">\n",
       "      <th></th>\n",
       "      <th></th>\n",
       "      <th>Agent wealth</th>\n",
       "      <th>Agent position</th>\n",
       "    </tr>\n",
       "    <tr>\n",
       "      <th>Step</th>\n",
       "      <th>AgentID</th>\n",
       "      <th></th>\n",
       "      <th></th>\n",
       "    </tr>\n",
       "  </thead>\n",
       "  <tbody>\n",
       "    <tr>\n",
       "      <th rowspan=\"4\" valign=\"top\">100</th>\n",
       "      <th>47</th>\n",
       "      <td>1</td>\n",
       "      <td>(7, 8)</td>\n",
       "    </tr>\n",
       "    <tr>\n",
       "      <th>48</th>\n",
       "      <td>0</td>\n",
       "      <td>(1, 6)</td>\n",
       "    </tr>\n",
       "    <tr>\n",
       "      <th>49</th>\n",
       "      <td>0</td>\n",
       "      <td>(2, 4)</td>\n",
       "    </tr>\n",
       "    <tr>\n",
       "      <th>50</th>\n",
       "      <td>0</td>\n",
       "      <td>(8, 2)</td>\n",
       "    </tr>\n",
       "  </tbody>\n",
       "</table>\n",
       "</div>"
      ],
      "text/plain": [
       "              Agent wealth Agent position\n",
       "Step AgentID                             \n",
       "100  47                  1         (7, 8)\n",
       "     48                  0         (1, 6)\n",
       "     49                  0         (2, 4)\n",
       "     50                  0         (8, 2)"
      ]
     },
     "execution_count": 8,
     "metadata": {},
     "output_type": "execute_result"
    }
   ],
   "source": [
    "agent_df.tail(4)"
   ]
  },
  {
   "cell_type": "code",
   "execution_count": 9,
   "id": "fa170231",
   "metadata": {},
   "outputs": [
    {
     "name": "stdout",
     "output_type": "stream",
     "text": [
      "              Agent wealth Agent position\n",
      "Step AgentID                             \n",
      "1    1                   1         (3, 1)\n",
      "     2                   1         (6, 7)\n",
      "     3                   1         (3, 2)\n",
      "     4                   1         (0, 5)\n",
      "     5                   1         (5, 3)\n",
      "...                    ...            ...\n",
      "100  46                  0         (2, 9)\n",
      "     47                  1         (7, 8)\n",
      "     48                  0         (1, 6)\n",
      "     49                  0         (2, 4)\n",
      "     50                  0         (8, 2)\n",
      "\n",
      "[5000 rows x 2 columns]\n"
     ]
    }
   ],
   "source": [
    "print(agent_df)"
   ]
  },
  {
   "cell_type": "markdown",
   "id": "ca4acabe",
   "metadata": {},
   "source": [
    "### Plotting results"
   ]
  },
  {
   "cell_type": "code",
   "execution_count": 10,
   "id": "a418a53c",
   "metadata": {},
   "outputs": [
    {
     "data": {
      "image/png": "[encoded data removed]",
      "text/plain": [
       "<Figure size 640x480 with 1 Axes>"
      ]
     },
     "metadata": {},
     "output_type": "display_data"
    }
   ],
   "source": [
    "import matplotlib.pyplot as plt\n",
    "\n",
    "model_df.plot(color=\"r\", lw=2)\n",
    "\n",
    "plt.ylabel(\"Gini coefficient\")\n",
    "plt.xlabel(\"Time step\")\n",
    "plt.grid(\"on\")\n",
    "plt.setp(plt.gca(), xlim=(-1, 100), ylim=(0, 1))\n",
    "\n",
    "plt.show()"
   ]
  },
  {
   "cell_type": "code",
   "execution_count": 11,
   "id": "159def8e",
   "metadata": {},
   "outputs": [
    {
     "data": {
      "image/png": "[encoded data removed]",
      "text/plain": [
       "<Figure size 640x480 with 1 Axes>"
      ]
     },
     "metadata": {},
     "output_type": "display_data"
    }
   ],
   "source": [
    "# extract a cross section of the dataframe for the final time step\n",
    "final_wealth_df = agent_df.xs(99, level=\"Step\")\n",
    "\n",
    "# plot a histogram\n",
    "final_wealth_df.hist(bins=range(11))\n",
    "\n",
    "plt.title(\"Wealth distribution\")\n",
    "plt.ylabel(\"Number agents\")\n",
    "plt.xlabel(\"Wealth\")\n",
    "plt.setp(\n",
    "    plt.gca(), xlim=(0, 10), xticks=range(11), ylim=(0, 30), yticks=range(0, 31, 2)\n",
    ")\n",
    "\n",
    "plt.show()"
   ]
  },
  {
   "cell_type": "markdown",
   "id": "48b8c966",
   "metadata": {},
   "source": [
    "Let us find the agent that accumulated maximum wealth and the time step at which this occured."
   ]
  },
  {
   "cell_type": "code",
   "execution_count": 12,
   "id": "7e630c78",
   "metadata": {},
   "outputs": [
    {
     "name": "stdout",
     "output_type": "stream",
     "text": [
      "Agent: 22\n",
      "Step: 76\n"
     ]
    }
   ],
   "source": [
    "step_idx, agent_idx = agent_df.idxmax().iloc[0]\n",
    "\n",
    "print(\"Agent:\", agent_idx)\n",
    "print(\"Step:\", step_idx)"
   ]
  },
  {
   "cell_type": "markdown",
   "id": "08265605",
   "metadata": {},
   "source": [
    "Let us plot the time series of wealth for this agent."
   ]
  },
  {
   "cell_type": "code",
   "execution_count": 13,
   "id": "d91b5ba6",
   "metadata": {},
   "outputs": [
    {
     "data": {
      "image/png": "[encoded data removed]",
      "text/plain": [
       "<Figure size 640x480 with 1 Axes>"
      ]
     },
     "metadata": {},
     "output_type": "display_data"
    }
   ],
   "source": [
    "one_agent_wealth_df = agent_df.xs(agent_idx, level=\"AgentID\")\n",
    "\n",
    "one_agent_wealth_df.plot(lw=2, color=\"b\")\n",
    "\n",
    "plt.ylabel(f\"Wealth of Agent {agent_idx}\")\n",
    "plt.xlabel(\"Time step\")\n",
    "\n",
    "plt.grid(True)\n",
    "plt.setp(\n",
    "    plt.gca(),\n",
    "    xlim=(0, 100),\n",
    "    xticks=range(0, 101, 10),\n",
    "    ylim=(0, 10),\n",
    "    yticks=range(0, 11, 2),\n",
    ")\n",
    "\n",
    "plt.show()"
   ]
  },
  {
   "cell_type": "markdown",
   "id": "bfbd4881-4df3-43b4-b796-d191caf14e55",
   "metadata": {},
   "source": [
    "## Forming your project"
   ]
  },
  {
   "cell_type": "markdown",
   "id": "9695371f-75bd-4074-bf98-0f36c28f529d",
   "metadata": {},
   "source": [
    "Below are examples which may serve as inspiration on the use of ABM modeling."
   ]
  },
  {
   "cell_type": "markdown",
   "id": "634191bd-2070-4b67-bf7e-fc2d2ece231e",
   "metadata": {},
   "source": [
    "### Agent-based modeling of the prostate tumor microenvironment\n",
    "\n",
    "Inhibiting androgen receptor (AR) signaling through androgen deprivation therapy (ADT) reduces prostate cancer (PCa) growth in virtually all patients, but response may be temporary, in which case resistance develops, ultimately leading to lethal castration-resistant prostate cancer (CRPC). \n",
    "\n",
    "The tumor microenvironment (TME) plays an important role in the development and progression of PCa. In addition to tumor cells, TME-resident macrophages and fibroblasts express AR and are therefore also affected by ADT. However, the interplay of different TME cell types in the development of CRPC remains largely unexplored. To understand the complex stochastic nature of cell-cell interactions, we created a PCa-specific agent-based model (PCABM) based on *in vitro* cell proliferation data [1]."
   ]
  },
  {
   "cell_type": "markdown",
   "id": "2febb9d4-6924-4290-8f7a-46c1f2b37b52",
   "metadata": {},
   "source": [
    "```{figure} ../images/abm-cancer-model.png\n",
    "---\n",
    "name: overview-fig\n",
    "width: 400px\n",
    "align: center\n",
    "---\n",
    "```"
   ]
  },
  {
   "cell_type": "markdown",
   "id": "ab540b2b-f0a3-4d1e-a430-230ba89d142d",
   "metadata": {
    "jp-MarkdownHeadingCollapsed": true
   },
   "source": [
    "[1] van Genderen, M.N.G., Kneppers, J., Zaalberg, A. *et al.* Agent-based modeling of the prostate tumor microenvironment uncovers spatial tumor growth constraints and immunomodulatory properties. *npj Syst Biol Appl* 10 (2024). [https://doi.org/10.1038/s41540-024-00344-6](https://doi.org/10.1038/s41540-024-00344-6)"
   ]
  },
  {
   "cell_type": "markdown",
   "id": "5ece2f91-f702-4ea2-af76-5d93158d38f3",
   "metadata": {},
   "source": [
    "### Previous course projects\n",
    "\n",
    "1. **Population dynamics of sea turtles under different temperature scenarios (Project from CB1020 HT23)** <br>\n",
    "There is a direct correlation between the number of male turtle hatchlings and the temperature during nesting season; increasing temperatures lead to decreasing number of males. The dynamics and interactions between sea turtles during and outside mating season can be modeled using ABM. By letting the temperature increase during the simulation, the effect of increasing temperatures on the gender distribution and reproduction patterns of sea turtles is illustrated.\n",
    "\n",
    "2. **Modeling the genetic damage of arsenic (Project from CB1020 HT23)** <br>\n",
    "Reactive oxygen species are byproducts of mitochondrial metabolism. In healthy mitochondria, there is a balance in the levels of ROS being produced, converted and consumed. One of the effects of arsenic in the cell is an increased amount of reactive oxygen species (ROS).\n",
    "If the concentration of ROSs becomes too high, it can cause damage to the host.\n",
    "This damage can be countered by the Base Excision Repair (BER) pathway, a DNA damage repair mechanism. With ABM, the course of ROS-induced damage followed by the repair mechanism can be simulated and the effect of different arsenic intakes and the time and amount it takes to cause permanent gene damage can be simulated and studied."
   ]
  }
 ],
 "metadata": {
  "kernelspec": {
   "display_name": "Python 3 (ipykernel)",
   "language": "python",
   "name": "python3"
  },
  "language_info": {
   "codemirror_mode": {
    "name": "ipython",
    "version": 3
   },
   "file_extension": ".py",
   "mimetype": "text/x-python",
   "name": "python",
   "nbconvert_exporter": "python",
   "pygments_lexer": "ipython3",
   "version": "3.13.7"
  }
 },
 "nbformat": 4,
 "nbformat_minor": 5
}
