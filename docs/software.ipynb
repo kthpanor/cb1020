{
 "cells": [
  {
   "cell_type": "markdown",
   "id": "6e3367a3-c99c-4c10-b427-93de5b2730a5",
   "metadata": {},
   "source": [
    "# Software for this course\n",
    "\n",
    "In this course, we will be programming Python in Jupyter notebooks. The needed software must be installed on your local/private laptop. \n",
    "\n",
    "Information on installation procedure and Python in Jupyter notebooks:\n",
    "- [Software installation](./installation.md)\n",
    "- [Python and notebooks](./python.ipynb)\n",
    "\n",
    "Information on the three Python packages relevent for the three types of modeling:\n",
    "- [Pandas](./pandas.ipynb)\n",
    "- [Mesa](./mesa.ipynb)\n",
    "- [PyTorch](./pytorch.ipynb)"
   ]
  }
 ],
 "metadata": {
  "kernelspec": {
   "display_name": "Python 3 (ipykernel)",
   "language": "python",
   "name": "python3"
  },
  "language_info": {
   "codemirror_mode": {
    "name": "ipython",
    "version": 3
   },
   "file_extension": ".py",
   "mimetype": "text/x-python",
   "name": "python",
   "nbconvert_exporter": "python",
   "pygments_lexer": "ipython3",
   "version": "3.11.8"
  }
 },
 "nbformat": 4,
 "nbformat_minor": 5
}
