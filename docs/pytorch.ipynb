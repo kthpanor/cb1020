{
 "cells": [
  {
   "cell_type": "markdown",
   "id": "d8c6bf05-2e31-46b6-8a24-6e8bac97382d",
   "metadata": {},
   "source": [
    "# PyTorch\n",
    "\n",
    "[PyTorch](https://en.wikipedia.org/wiki/PyTorch) is a machine learning framework based on the Torch library, used for applications such as computer vision and natural language processing. PyTorch provides two high-level features:\n",
    "\n",
    "- Tensor computing with acceleration via graphics processing units (GPUs)\n",
    "- Deep neural networks built on a tape-based automatic differentiation system"
   ]
  },
  {
   "cell_type": "code",
   "execution_count": 19,
   "id": "5f044dec-3842-4719-af51-781875b9c870",
   "metadata": {},
   "outputs": [],
   "source": [
    "import torch"
   ]
  },
  {
   "cell_type": "markdown",
   "id": "e4bb2939-a279-4162-b8f1-0b51b521235a",
   "metadata": {},
   "source": [
    "## Tensors\n",
    "\n",
    "The central data abstraction in PyTorch is given by the `torch.tensor` class. It represents the counterpart of the `numpy.ndarray` class in NumPy, and many of the respective class methods have similar syntax."
   ]
  },
  {
   "cell_type": "markdown",
   "id": "659ecc5c-383a-4d12-8080-e74895567339",
   "metadata": {},
   "source": [
    "### Tensor creation"
   ]
  },
  {
   "cell_type": "markdown",
   "id": "96366641-264e-4043-8f5c-d073ed9edb35",
   "metadata": {},
   "source": [
    "Ways to create PyTorch tensors include:\n",
    "\n",
    "- `torch.tensor()`\n",
    "- `torch.empty()`\n",
    "- `torch.zeros()`\n",
    "- `torch.ones()`\n",
    "- `torch.rand()`"
   ]
  },
  {
   "cell_type": "code",
   "execution_count": 15,
   "id": "1eccc351-9363-4820-be60-bf22b527ae6a",
   "metadata": {},
   "outputs": [],
   "source": [
    "a = torch.rand(3, 3, dtype=torch.float32)"
   ]
  },
  {
   "cell_type": "code",
   "execution_count": 16,
   "id": "39a7c974-c503-4868-acf1-dd4f07f91bf2",
   "metadata": {},
   "outputs": [
    {
     "name": "stdout",
     "output_type": "stream",
     "text": [
      "tensor([[0.2181, 0.5665, 0.1810],\n",
      "        [0.2315, 0.9513, 0.4370],\n",
      "        [0.2049, 0.1661, 0.2148]])\n"
     ]
    }
   ],
   "source": [
    "print(a)"
   ]
  },
  {
   "cell_type": "markdown",
   "id": "7310b3be-bf97-4ffd-992c-336a51a10896",
   "metadata": {},
   "source": [
    "By default, PyTorch tensors are populated with 32-bit (single precision) floating point numbers suitable for arithmetic operations on GPUs, but many other data types are available and include:\n",
    "\n",
    "- `torch.bool`\n",
    "- `torch.int8`\n",
    "- `torch.int16`\n",
    "- `torch.int32`\n",
    "- `torch.int64`\n",
    "- `torch.half` or `torch.float16`\n",
    "- `torch.float`\n",
    "- `torch.double` or `torch.float64`"
   ]
  },
  {
   "cell_type": "markdown",
   "id": "eaaabecd-9cf0-4946-9bc5-129b989b2472",
   "metadata": {},
   "source": [
    "A PyTorch tensor can be converted to a regular Python list."
   ]
  },
  {
   "cell_type": "code",
   "execution_count": 4,
   "id": "01f18192-e2d7-4ca6-897d-6a7821306aa7",
   "metadata": {},
   "outputs": [
    {
     "data": {
      "text/plain": [
       "[[0.6990807056427002, 0.6508345603942871, 0.6472038626670837],\n",
       " [0.30571407079696655, 0.07050120830535889, 0.4252395033836365],\n",
       " [0.6484412550926208, 0.5886563062667847, 0.9803081154823303]]"
      ]
     },
     "execution_count": 4,
     "metadata": {},
     "output_type": "execute_result"
    }
   ],
   "source": [
    "a.tolist()"
   ]
  },
  {
   "cell_type": "markdown",
   "id": "e6175487-afd5-4275-9636-9478f001c5da",
   "metadata": {},
   "source": [
    "Conversely, a Python list can be converted to a PyTorch tensor."
   ]
  },
  {
   "cell_type": "code",
   "execution_count": 5,
   "id": "88abbc97-078a-454a-b2be-9ebabd727162",
   "metadata": {},
   "outputs": [
    {
     "data": {
      "text/plain": [
       "tensor([[0.6991, 0.6508, 0.6472],\n",
       "        [0.3057, 0.0705, 0.4252],\n",
       "        [0.6484, 0.5887, 0.9803]])"
      ]
     },
     "execution_count": 5,
     "metadata": {},
     "output_type": "execute_result"
    }
   ],
   "source": [
    "torch.tensor(a.tolist())"
   ]
  },
  {
   "cell_type": "markdown",
   "id": "235e0d98-581a-4578-a4e0-8d3254699069",
   "metadata": {},
   "source": [
    "### Tensor operations\n",
    "\n",
    "PyTorch tensors have over three hundred operations that can be performed on them, including:\n",
    "\n",
    "- `torch.abs()`\n",
    "- `torch.max()`\n",
    "- `torch.mean()`\n",
    "- `torch.std()`\n",
    "- `torch.prod()`\n",
    "- `torch.unique()`\n",
    "- `torch.matmul()`\n",
    "- `torch.svd()`\n",
    "- `torch.sin()`\n",
    "- `torch.cos()`\n",
    "- `torch.flatten()`"
   ]
  },
  {
   "cell_type": "code",
   "execution_count": 6,
   "id": "aa48c00b-0b64-49c9-9a1a-5519930c21ce",
   "metadata": {},
   "outputs": [
    {
     "data": {
      "text/plain": [
       "tensor(0.5573)"
      ]
     },
     "execution_count": 6,
     "metadata": {},
     "output_type": "execute_result"
    }
   ],
   "source": [
    "a.mean()"
   ]
  },
  {
   "cell_type": "markdown",
   "id": "30e0309c-93df-4509-8867-e3a6f4b80a8e",
   "metadata": {},
   "source": [
    "Note that a tensor with a scalar number is given in return. To instead get a Python number in return, we can perform"
   ]
  },
  {
   "cell_type": "code",
   "execution_count": 7,
   "id": "ca4d6f69-69a2-4531-9326-4c34125c3d35",
   "metadata": {},
   "outputs": [
    {
     "data": {
      "text/plain": [
       "0.5573310852050781"
      ]
     },
     "execution_count": 7,
     "metadata": {},
     "output_type": "execute_result"
    }
   ],
   "source": [
    "a.mean().item()"
   ]
  },
  {
   "cell_type": "markdown",
   "id": "8802d60a-d627-4247-ab5d-83f97642def9",
   "metadata": {},
   "source": [
    "### NumPy bridge"
   ]
  },
  {
   "cell_type": "code",
   "execution_count": 20,
   "id": "7b5d2bf4-cb2c-43a8-aa2c-8cbb741340e8",
   "metadata": {},
   "outputs": [],
   "source": [
    "import numpy as np"
   ]
  },
  {
   "cell_type": "code",
   "execution_count": 21,
   "id": "51233599-9c2d-4c5e-aa27-48cb2a79ee5a",
   "metadata": {},
   "outputs": [],
   "source": [
    "np_array = np.ones((2, 3))\n",
    "pth_tensor = torch.from_numpy(np_array)"
   ]
  },
  {
   "cell_type": "code",
   "execution_count": 10,
   "id": "498c2ae8-55b3-4760-85ff-dd502be0615f",
   "metadata": {},
   "outputs": [
    {
     "name": "stdout",
     "output_type": "stream",
     "text": [
      "tensor([[1., 1., 1.],\n",
      "        [1., 1., 1.]], dtype=torch.float64)\n"
     ]
    }
   ],
   "source": [
    "print(pth_tensor)"
   ]
  },
  {
   "cell_type": "markdown",
   "id": "7fa5f1f5-299f-4b7c-82c8-82540e71f047",
   "metadata": {},
   "source": [
    "We note that the NumPy array default data type of float64 (double precision) is preserved. In fact, we merely created a pointer to the same data in memory such that a change in one object is reflected in both."
   ]
  },
  {
   "cell_type": "code",
   "execution_count": 12,
   "id": "7f44bd8d-3e35-4a37-a17b-44bb600e9104",
   "metadata": {},
   "outputs": [],
   "source": [
    "np_array[1, 2] = 2"
   ]
  },
  {
   "cell_type": "code",
   "execution_count": 14,
   "id": "bee37edc-ac34-41aa-81bd-b072c35241ac",
   "metadata": {},
   "outputs": [
    {
     "name": "stdout",
     "output_type": "stream",
     "text": [
      "Modified numpy array:\n",
      " [[1. 1. 1.]\n",
      " [1. 1. 2.]]\n",
      "Bridged pytorch tensor:\n",
      " tensor([[1., 1., 1.],\n",
      "        [1., 1., 2.]], dtype=torch.float64)\n"
     ]
    }
   ],
   "source": [
    "print(\"Modified numpy array:\\n\", np_array)\n",
    "print(\"Bridged pytorch tensor:\\n\", pth_tensor)"
   ]
  },
  {
   "cell_type": "markdown",
   "id": "1471e1c6-44ec-434d-a292-bd767ddafba4",
   "metadata": {},
   "source": [
    "A reason to create a bridge between data can e.g. be to take advantage of the easy accessible  GPU acceleration available in PyTorch for scientific codes developed with NumPy. "
   ]
  },
  {
   "cell_type": "markdown",
   "id": "75cd2249-5563-47a5-9120-f80601180f15",
   "metadata": {},
   "source": [
    "## Neural networks"
   ]
  },
  {
   "cell_type": "markdown",
   "id": "7943a0e9-7780-4e50-91c0-f447e8aef8ea",
   "metadata": {},
   "source": [
    "The machine learning models in PyTorch are built as neural networks with layers of neurons. The input layers received input data; hidden layers transforms the data; and the output layer provides the results upon which model predictions are made.\n",
    "\n",
    "Every neuron has an associated activation level. The input level apart, activation levels in a given level, say $L$, are determined from those in the previous layer by use of weights that are collected in a matrix $\\boldsymbol{W}$ and biases that are collected in a row vector $\\boldsymbol{b}$. \n",
    "\n",
    "A layer is referred to as *linear* if the weights and biases are applied in a linear transformation\n",
    "\n",
    "$$\n",
    "\\boldsymbol{a}^{(L)} = f(\\boldsymbol{a}^{(L-1)} \\boldsymbol{W}^T \n",
    "+ \\boldsymbol{b})\n",
    "$$\n",
    "\n",
    "As indicated, to get the final activation levels also involves the elementwise operation of a  (typically) nonlinear activation function, $f$."
   ]
  },
  {
   "cell_type": "markdown",
   "id": "d80d91b9-fa63-4284-86dc-4b721e50aab7",
   "metadata": {},
   "source": [
    "![Neural Network](../images/Colored_neural_network.svg)"
   ]
  },
  {
   "cell_type": "markdown",
   "id": "8e4e825b-c1b7-4201-9e95-e73f0dff4b3e",
   "metadata": {},
   "source": [
    "### Flatten tensors\n",
    "\n",
    "PyTorch receives input data in the form of batches of PyTorch tensors of rank 1. If data is stored as tensors of higher rank, they first need to be flattened. \n",
    "\n",
    "Let us assume having three $2\\times 2$ tensors as input, e.g. three greyscale images of two-by-two pixels."
   ]
  },
  {
   "cell_type": "code",
   "execution_count": 117,
   "id": "37d1fc2a-87d7-4a51-9789-ae0d23702b68",
   "metadata": {},
   "outputs": [],
   "source": [
    "batch_size = 3\n",
    "\n",
    "tensor_batch = torch.rand(batch_size, 2, 2)"
   ]
  },
  {
   "cell_type": "code",
   "execution_count": 118,
   "id": "42847885-e3f7-43c6-9556-d7a7b921fd64",
   "metadata": {},
   "outputs": [],
   "source": [
    "flatten = torch.nn.Flatten()"
   ]
  },
  {
   "cell_type": "code",
   "execution_count": 133,
   "id": "0cf9ab92-95f1-41c2-8fec-ca3dd7f4ad0d",
   "metadata": {},
   "outputs": [],
   "source": [
    "a0 = flatten(tensor_batch)"
   ]
  },
  {
   "cell_type": "markdown",
   "id": "7b418d45-34f4-4583-ba12-aaedb98ab6a2",
   "metadata": {},
   "source": [
    "These have now been flattened to become three row vectors of dimension four."
   ]
  },
  {
   "cell_type": "code",
   "execution_count": 134,
   "id": "98b4d3ae-41a4-4a9d-bb8d-daaf327b0f9a",
   "metadata": {},
   "outputs": [
    {
     "name": "stdout",
     "output_type": "stream",
     "text": [
      "tensor([[0.7951, 0.5572, 0.1773, 0.1704],\n",
      "        [0.2147, 0.7379, 0.1298, 0.5695],\n",
      "        [0.7706, 0.5067, 0.2309, 0.8878]])\n"
     ]
    }
   ],
   "source": [
    "print(a0)"
   ]
  },
  {
   "cell_type": "markdown",
   "id": "6745fd18-740c-4dc8-b491-61053c623cb3",
   "metadata": {},
   "source": [
    "### Layer transformations\n",
    "\n",
    "The linear layer transformation described above is achieved with the `torch.nn.Linear` class."
   ]
  },
  {
   "cell_type": "code",
   "execution_count": 121,
   "id": "9f62a37d-84b6-4ffc-9d3e-c40d12c2a5f6",
   "metadata": {},
   "outputs": [],
   "source": [
    "linear_layer = torch.nn.Linear(4, 2, bias=True)"
   ]
  },
  {
   "cell_type": "markdown",
   "id": "cb3ee301-14b9-4a1b-afa1-7c261c513558",
   "metadata": {},
   "source": [
    "When instantiated, the layer object receives weight and bias attributed that are initialized randomly. Here we consider a transformation from an input layer with four neurons to a hidden layer with only two."
   ]
  },
  {
   "cell_type": "code",
   "execution_count": 122,
   "id": "e31176b8-a828-4448-af13-960a2b663e73",
   "metadata": {},
   "outputs": [
    {
     "data": {
      "text/plain": [
       "Parameter containing:\n",
       "tensor([[ 0.4356,  0.0209, -0.4890, -0.3637],\n",
       "        [-0.2066, -0.1390,  0.0430,  0.2331]], requires_grad=True)"
      ]
     },
     "execution_count": 122,
     "metadata": {},
     "output_type": "execute_result"
    }
   ],
   "source": [
    "linear_layer.weight"
   ]
  },
  {
   "cell_type": "code",
   "execution_count": 123,
   "id": "a0cefe79-513f-461a-8556-0fbd8201bae1",
   "metadata": {},
   "outputs": [
    {
     "data": {
      "text/plain": [
       "Parameter containing:\n",
       "tensor([0.0178, 0.1455], requires_grad=True)"
      ]
     },
     "execution_count": 123,
     "metadata": {},
     "output_type": "execute_result"
    }
   ],
   "source": [
    "linear_layer.bias"
   ]
  },
  {
   "cell_type": "markdown",
   "id": "a0698d17-e8da-4450-b85c-3dec87c97e65",
   "metadata": {},
   "source": [
    "Use PyToch to perform the layer transoformation."
   ]
  },
  {
   "cell_type": "code",
   "execution_count": 141,
   "id": "ac750bcc-4ebc-4442-89ad-d8ab601228b0",
   "metadata": {},
   "outputs": [],
   "source": [
    "intermediate_result = linear_layer(a0)"
   ]
  },
  {
   "cell_type": "code",
   "execution_count": 142,
   "id": "5ccd284e-88bd-4b32-a19c-3e33c71b5fef",
   "metadata": {},
   "outputs": [
    {
     "data": {
      "text/plain": [
       "tensor([[ 0.2271, -0.0488],\n",
       "        [-0.1438,  0.1369],\n",
       "        [-0.0717,  0.1328]], grad_fn=<AddmmBackward0>)"
      ]
     },
     "execution_count": 142,
     "metadata": {},
     "output_type": "execute_result"
    }
   ],
   "source": [
    "intermediate_result"
   ]
  },
  {
   "cell_type": "markdown",
   "id": "f0301857-d985-4791-ac59-b02e73e40d33",
   "metadata": {},
   "source": [
    "Check the transformation with an explicit calculation of the linear transformation:\n",
    "\n",
    "$$\n",
    "\\boldsymbol{a}^{(0)} \\boldsymbol{W}^T \n",
    "+ \\boldsymbol{b}\n",
    "$$"
   ]
  },
  {
   "cell_type": "code",
   "execution_count": 143,
   "id": "a0cda628-033f-4d8b-b9d1-6207c06f02f0",
   "metadata": {},
   "outputs": [
    {
     "data": {
      "text/plain": [
       "tensor([[ 0.2271, -0.0488],\n",
       "        [-0.1438,  0.1369],\n",
       "        [-0.0717,  0.1328]], grad_fn=<AddBackward0>)"
      ]
     },
     "execution_count": 143,
     "metadata": {},
     "output_type": "execute_result"
    }
   ],
   "source": [
    "torch.matmul(a0, linear_layer.weight.T) + linear_layer.bias"
   ]
  },
  {
   "cell_type": "markdown",
   "id": "47851075-f623-49ce-a88f-bb75c4030322",
   "metadata": {},
   "source": [
    "We note that the two results are identical.\n",
    "\n",
    "Now remains the application of the nonlinear activation function, $f$, according to\n",
    "\n",
    "$$\n",
    "\\boldsymbol{a}^{(1)} =f( \n",
    "\\boldsymbol{a}^{(0)} \\boldsymbol{W}^T \n",
    "+ \\boldsymbol{b})\n",
    "$$\n",
    "\n",
    "A common choice in machine learning is to adopt the rectifier linear unit function\n",
    "\n",
    "$$\n",
    "\\mathrm{ReLU}(x) = \\max(0,x) = \\frac{x + |x|}{2}\n",
    "$$"
   ]
  },
  {
   "cell_type": "code",
   "execution_count": 144,
   "id": "1819c3ec-40a6-4cb9-bc97-0c58ecbd65ca",
   "metadata": {},
   "outputs": [],
   "source": [
    "relu = torch.nn.ReLU()"
   ]
  },
  {
   "cell_type": "code",
   "execution_count": 145,
   "id": "97af27bc-8774-4d6c-8b5d-bbe46e937fa9",
   "metadata": {},
   "outputs": [],
   "source": [
    "a1 = relu(intermediate_result)"
   ]
  },
  {
   "cell_type": "code",
   "execution_count": 146,
   "id": "d6425907-d7da-4537-962d-d3ee9f5bf0a9",
   "metadata": {},
   "outputs": [
    {
     "data": {
      "text/plain": [
       "tensor([[0.2271, 0.0000],\n",
       "        [0.0000, 0.1369],\n",
       "        [0.0000, 0.1328]], grad_fn=<ReluBackward0>)"
      ]
     },
     "execution_count": 146,
     "metadata": {},
     "output_type": "execute_result"
    }
   ],
   "source": [
    "a1"
   ]
  },
  {
   "cell_type": "markdown",
   "id": "ab0d3f73-e377-4680-8d47-34c5b0f6a144",
   "metadata": {},
   "source": [
    "The effect of the ReLU function is as anticipated."
   ]
  },
  {
   "cell_type": "markdown",
   "id": "7faaed89-24b0-419e-b20f-3595da3862fc",
   "metadata": {},
   "source": [
    "## Loss function"
   ]
  },
  {
   "cell_type": "markdown",
   "id": "78228633-3b65-4981-bcf9-8f1d9e6c94f6",
   "metadata": {},
   "source": [
    "## Backward propagation"
   ]
  }
 ],
 "metadata": {
  "kernelspec": {
   "display_name": "Python 3 (ipykernel)",
   "language": "python",
   "name": "python3"
  },
  "language_info": {
   "codemirror_mode": {
    "name": "ipython",
    "version": 3
   },
   "file_extension": ".py",
   "mimetype": "text/x-python",
   "name": "python",
   "nbconvert_exporter": "python",
   "pygments_lexer": "ipython3",
   "version": "3.11.8"
  }
 },
 "nbformat": 4,
 "nbformat_minor": 5
}
