{
 "cells": [
  {
   "cell_type": "markdown",
   "id": "d8c6bf05-2e31-46b6-8a24-6e8bac97382d",
   "metadata": {},
   "source": [
    "# PyTorch"
   ]
  },
  {
   "cell_type": "code",
   "execution_count": 19,
   "id": "5f044dec-3842-4719-af51-781875b9c870",
   "metadata": {},
   "outputs": [],
   "source": [
    "import torch"
   ]
  },
  {
   "cell_type": "markdown",
   "id": "e4bb2939-a279-4162-b8f1-0b51b521235a",
   "metadata": {},
   "source": [
    "## Tensors\n",
    "\n",
    "The central data abstraction in PyTorch is given by the `torch.tensor` class. It represents the counterpart of the `numpy.ndarray` class in NumPy, and many of the respective class methods have similar syntax."
   ]
  },
  {
   "cell_type": "markdown",
   "id": "659ecc5c-383a-4d12-8080-e74895567339",
   "metadata": {},
   "source": [
    "### Tensor creation"
   ]
  },
  {
   "cell_type": "markdown",
   "id": "96366641-264e-4043-8f5c-d073ed9edb35",
   "metadata": {},
   "source": [
    "Ways to create PyTorch tensors include:\n",
    "\n",
    "- `torch.tensor()`\n",
    "- `torch.empty()`\n",
    "- `torch.zeros()`\n",
    "- `torch.ones()`\n",
    "- `torch.rand()`"
   ]
  },
  {
   "cell_type": "code",
   "execution_count": 15,
   "id": "1eccc351-9363-4820-be60-bf22b527ae6a",
   "metadata": {},
   "outputs": [],
   "source": [
    "a = torch.rand(3, 3, dtype=torch.float32)"
   ]
  },
  {
   "cell_type": "code",
   "execution_count": 16,
   "id": "39a7c974-c503-4868-acf1-dd4f07f91bf2",
   "metadata": {},
   "outputs": [
    {
     "name": "stdout",
     "output_type": "stream",
     "text": [
      "tensor([[0.2181, 0.5665, 0.1810],\n",
      "        [0.2315, 0.9513, 0.4370],\n",
      "        [0.2049, 0.1661, 0.2148]])\n"
     ]
    }
   ],
   "source": [
    "print(a)"
   ]
  },
  {
   "cell_type": "markdown",
   "id": "7310b3be-bf97-4ffd-992c-336a51a10896",
   "metadata": {},
   "source": [
    "By default, PyTorch tensors are populated with 32-bit (single precision) floating point numbers suitable for arithmetic operations on GPUs, but many other data types are available and include:\n",
    "\n",
    "- `torch.bool`\n",
    "- `torch.int8`\n",
    "- `torch.int16`\n",
    "- `torch.int32`\n",
    "- `torch.int64`\n",
    "- `torch.half` or `torch.float16`\n",
    "- `torch.float`\n",
    "- `torch.double` or `torch.float64`"
   ]
  },
  {
   "cell_type": "markdown",
   "id": "eaaabecd-9cf0-4946-9bc5-129b989b2472",
   "metadata": {},
   "source": [
    "A PyTorch tensor can be converted to a regular Python list."
   ]
  },
  {
   "cell_type": "code",
   "execution_count": 4,
   "id": "01f18192-e2d7-4ca6-897d-6a7821306aa7",
   "metadata": {},
   "outputs": [
    {
     "data": {
      "text/plain": [
       "[[0.6990807056427002, 0.6508345603942871, 0.6472038626670837],\n",
       " [0.30571407079696655, 0.07050120830535889, 0.4252395033836365],\n",
       " [0.6484412550926208, 0.5886563062667847, 0.9803081154823303]]"
      ]
     },
     "execution_count": 4,
     "metadata": {},
     "output_type": "execute_result"
    }
   ],
   "source": [
    "a.tolist()"
   ]
  },
  {
   "cell_type": "markdown",
   "id": "e6175487-afd5-4275-9636-9478f001c5da",
   "metadata": {},
   "source": [
    "Conversely, a Python list can be converted to a PyTorch tensor."
   ]
  },
  {
   "cell_type": "code",
   "execution_count": 5,
   "id": "88abbc97-078a-454a-b2be-9ebabd727162",
   "metadata": {},
   "outputs": [
    {
     "data": {
      "text/plain": [
       "tensor([[0.6991, 0.6508, 0.6472],\n",
       "        [0.3057, 0.0705, 0.4252],\n",
       "        [0.6484, 0.5887, 0.9803]])"
      ]
     },
     "execution_count": 5,
     "metadata": {},
     "output_type": "execute_result"
    }
   ],
   "source": [
    "torch.tensor(a.tolist())"
   ]
  },
  {
   "cell_type": "markdown",
   "id": "235e0d98-581a-4578-a4e0-8d3254699069",
   "metadata": {},
   "source": [
    "### Tensor operations\n",
    "\n",
    "PyTorch tensors have over three hundred operations that can be performed on them, including:\n",
    "\n",
    "- `torch.abs()`\n",
    "- `torch.max()`\n",
    "- `torch.mean()`\n",
    "- `torch.std()`\n",
    "- `torch.prod()`\n",
    "- `torch.unique()`\n",
    "- `torch.matmul()`\n",
    "- `torch.svd()`\n",
    "- `torch.sin()`\n",
    "- `torch.cos()`"
   ]
  },
  {
   "cell_type": "code",
   "execution_count": 6,
   "id": "aa48c00b-0b64-49c9-9a1a-5519930c21ce",
   "metadata": {},
   "outputs": [
    {
     "data": {
      "text/plain": [
       "tensor(0.5573)"
      ]
     },
     "execution_count": 6,
     "metadata": {},
     "output_type": "execute_result"
    }
   ],
   "source": [
    "a.mean()"
   ]
  },
  {
   "cell_type": "markdown",
   "id": "30e0309c-93df-4509-8867-e3a6f4b80a8e",
   "metadata": {},
   "source": [
    "Note that a tensor with a scalar number is given in return. To instead get a Python number in return, we can perform"
   ]
  },
  {
   "cell_type": "code",
   "execution_count": 7,
   "id": "ca4d6f69-69a2-4531-9326-4c34125c3d35",
   "metadata": {},
   "outputs": [
    {
     "data": {
      "text/plain": [
       "0.5573310852050781"
      ]
     },
     "execution_count": 7,
     "metadata": {},
     "output_type": "execute_result"
    }
   ],
   "source": [
    "a.mean().item()"
   ]
  },
  {
   "cell_type": "markdown",
   "id": "8802d60a-d627-4247-ab5d-83f97642def9",
   "metadata": {},
   "source": [
    "### NumPy bridge"
   ]
  },
  {
   "cell_type": "code",
   "execution_count": 20,
   "id": "7b5d2bf4-cb2c-43a8-aa2c-8cbb741340e8",
   "metadata": {},
   "outputs": [],
   "source": [
    "import numpy as np"
   ]
  },
  {
   "cell_type": "code",
   "execution_count": 21,
   "id": "51233599-9c2d-4c5e-aa27-48cb2a79ee5a",
   "metadata": {},
   "outputs": [],
   "source": [
    "np_array = np.ones((2, 3))\n",
    "pth_tensor = torch.from_numpy(np_array)"
   ]
  },
  {
   "cell_type": "code",
   "execution_count": 10,
   "id": "498c2ae8-55b3-4760-85ff-dd502be0615f",
   "metadata": {},
   "outputs": [
    {
     "name": "stdout",
     "output_type": "stream",
     "text": [
      "tensor([[1., 1., 1.],\n",
      "        [1., 1., 1.]], dtype=torch.float64)\n"
     ]
    }
   ],
   "source": [
    "print(pth_tensor)"
   ]
  },
  {
   "cell_type": "markdown",
   "id": "7fa5f1f5-299f-4b7c-82c8-82540e71f047",
   "metadata": {},
   "source": [
    "We note that the NumPy array default data type of float64 (double precision) is preserved. In fact, we merely created a pointer to the same data in memory such that a change in one object is reflected in both."
   ]
  },
  {
   "cell_type": "code",
   "execution_count": 12,
   "id": "7f44bd8d-3e35-4a37-a17b-44bb600e9104",
   "metadata": {},
   "outputs": [],
   "source": [
    "np_array[1, 2] = 2"
   ]
  },
  {
   "cell_type": "code",
   "execution_count": 14,
   "id": "bee37edc-ac34-41aa-81bd-b072c35241ac",
   "metadata": {},
   "outputs": [
    {
     "name": "stdout",
     "output_type": "stream",
     "text": [
      "Modified numpy array:\n",
      " [[1. 1. 1.]\n",
      " [1. 1. 2.]]\n",
      "Bridged pytorch tensor:\n",
      " tensor([[1., 1., 1.],\n",
      "        [1., 1., 2.]], dtype=torch.float64)\n"
     ]
    }
   ],
   "source": [
    "print(\"Modified numpy array:\\n\", np_array)\n",
    "print(\"Bridged pytorch tensor:\\n\", pth_tensor)"
   ]
  },
  {
   "cell_type": "markdown",
   "id": "1471e1c6-44ec-434d-a292-bd767ddafba4",
   "metadata": {},
   "source": [
    "A reason to create a bridge between data can e.g. be to take advantage of the easy accessible  GPU acceleration available in PyTorch for scientific codes developed with NumPy. "
   ]
  }
 ],
 "metadata": {
  "kernelspec": {
   "display_name": "Python 3 (ipykernel)",
   "language": "python",
   "name": "python3"
  },
  "language_info": {
   "codemirror_mode": {
    "name": "ipython",
    "version": 3
   },
   "file_extension": ".py",
   "mimetype": "text/x-python",
   "name": "python",
   "nbconvert_exporter": "python",
   "pygments_lexer": "ipython3",
   "version": "3.11.8"
  }
 },
 "nbformat": 4,
 "nbformat_minor": 5
}
