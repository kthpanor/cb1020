{
 "cells": [
  {
   "cell_type": "markdown",
   "id": "023124c1-108c-4b06-b8e9-9836a9f7cc10",
   "metadata": {},
   "source": [
    "(sec:ml)=\n",
    "\n",
    "# Machine Learning\n",
    "\n",
    "Machine Learning (ML) is probably the widest applied tool from computer science. Ranging from mathematics over engineering to natural and even social sciences, we interact daily with it. Due to their simple nature and vast possibilities for their application, multiple frameworks exist that enable you to build and train a model with just a few lines of code. The two frameworks presented in the following are amongst the most common ones.\n",
    "\n",
    "- [machine learning with pytorch](sec:ml_pytorch)\n",
    "- [machine learning with scikit](sec:ml_scikit)"
   ]
  }
 ],
 "metadata": {
  "kernelspec": {
   "display_name": "Python 3 (ipykernel)",
   "language": "python",
   "name": "python3"
  },
  "language_info": {
   "codemirror_mode": {
    "name": "ipython",
    "version": 3
   },
   "file_extension": ".py",
   "mimetype": "text/x-python",
   "name": "python",
   "nbconvert_exporter": "python",
   "pygments_lexer": "ipython3",
   "version": "3.13.5"
  }
 },
 "nbformat": 4,
 "nbformat_minor": 5
}
