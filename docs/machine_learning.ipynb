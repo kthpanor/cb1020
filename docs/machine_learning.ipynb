{
 "cells": [
  {
   "cell_type": "markdown",
   "metadata": {},
   "source": [
    "(sec:ml)=\n",
    "# Machine learning"
   ]
  },
  {
   "cell_type": "markdown",
   "metadata": {},
   "source": [
    "[PyTorch](https://en.wikipedia.org/wiki/PyTorch) is an open source machine learning (ML) framework based on the Python programming language and the Torch library. "
   ]
  },
  {
   "cell_type": "code",
   "execution_count": 1,
   "metadata": {},
   "outputs": [],
   "source": [
    "import torch\n",
    "import torchvision"
   ]
  },
  {
   "cell_type": "code",
   "execution_count": 2,
   "metadata": {},
   "outputs": [],
   "source": [
    "import matplotlib.pyplot as plt\n",
    "import numpy as np"
   ]
  },
  {
   "cell_type": "markdown",
   "metadata": {},
   "source": [
    "PyTorch offers domain-specific libraries such as `TorchText`, `TorchVision`, and `TorchAudio`, all of which include datasets. We will use a TorchVision dataset named MNIST."
   ]
  },
  {
   "attachments": {},
   "cell_type": "markdown",
   "metadata": {},
   "source": [
    "## Data set\n",
    "\n",
    "The [MNIST data set](https://en.wikipedia.org/wiki/MNIST_database) consists of 28 x 28 pixel greyscale images of handwritten digits, along with labels for each image indicating which digit it represents. The data set has 60,000 images. "
   ]
  },
  {
   "attachments": {},
   "cell_type": "markdown",
   "metadata": {},
   "source": [
    "![MNIST handwritten numbers](../images/MnistExamplesModified.png)"
   ]
  },
  {
   "cell_type": "markdown",
   "metadata": {},
   "source": [
    "### Loading dataset"
   ]
  },
  {
   "cell_type": "code",
   "execution_count": 3,
   "metadata": {
    "editable": true,
    "slideshow": {
     "slide_type": ""
    },
    "tags": [
     "remove-output"
    ]
   },
   "outputs": [
    {
     "name": "stdout",
     "output_type": "stream",
     "text": [
      "Dataset MNIST\n",
      "    Number of datapoints: 60000\n",
      "    Root location: ../data_input/\n",
      "    Split: Train\n",
      "    StandardTransform\n",
      "Transform: ToTensor()\n"
     ]
    }
   ],
   "source": [
    "mnist_dataset = torchvision.datasets.MNIST(\n",
    "    root=\"../data_input/\",\n",
    "    download=True,\n",
    "    train=True,\n",
    "    transform=torchvision.transforms.ToTensor(),\n",
    ")\n",
    "print(mnist_dataset)"
   ]
  },
  {
   "cell_type": "code",
   "execution_count": 4,
   "metadata": {},
   "outputs": [],
   "source": [
    "idx_random_tensor = np.random.randint(60000)"
   ]
  },
  {
   "cell_type": "code",
   "execution_count": 5,
   "metadata": {},
   "outputs": [
    {
     "name": "stdout",
     "output_type": "stream",
     "text": [
      "Label: 9\n",
      "Dataset item: 5658\n",
      "Tensor shape: torch.Size([1, 28, 28])\n"
     ]
    }
   ],
   "source": [
    "image, label = mnist_dataset[idx_random_tensor]\n",
    "\n",
    "print(\"Label:\", label)\n",
    "print(\"Dataset item:\", idx_random_tensor)\n",
    "print(\"Tensor shape:\", image.shape)"
   ]
  },
  {
   "cell_type": "code",
   "execution_count": 6,
   "metadata": {},
   "outputs": [
    {
     "data": {
      "image/png": "[encoded data removed]",
      "text/plain": [
       "<Figure size 200x200 with 1 Axes>"
      ]
     },
     "metadata": {},
     "output_type": "display_data"
    }
   ],
   "source": [
    "fig = plt.figure(figsize=(2,2))\n",
    "plt.imshow(image[0, :, :], cmap=\"gray\")\n",
    "plt.show()"
   ]
  },
  {
   "cell_type": "markdown",
   "metadata": {},
   "source": [
    "### Split data set into subsets"
   ]
  },
  {
   "cell_type": "markdown",
   "metadata": {},
   "source": [
    "In machine learning, [data sets are typically divided into the three categories](https://en.wikipedia.org/wiki/Training,_validation,_and_test_data_sets) of training, validation, and test. We will divide data into two categories and skip the model tuning in the validation step. "
   ]
  },
  {
   "cell_type": "code",
   "execution_count": 7,
   "metadata": {},
   "outputs": [],
   "source": [
    "training_data, test_data = torch.utils.data.random_split(mnist_dataset, [50000, 10000])"
   ]
  },
  {
   "cell_type": "markdown",
   "metadata": {},
   "source": [
    "We create data loaders to be able to load the data in batches. \n",
    "\n",
    "The shuffle option is set for the training data loader, so that the batches generated in each epoch are different. As the validation data loader is used only for evaluating the model, there is no need to shuffle these data."
   ]
  },
  {
   "cell_type": "code",
   "execution_count": 8,
   "metadata": {},
   "outputs": [],
   "source": [
    "batch_size = 64\n",
    "\n",
    "train_dataloader = torch.utils.data.DataLoader(training_data, batch_size, shuffle=True)\n",
    "test_dataloader = torch.utils.data.DataLoader(test_data, batch_size, shuffle=False)"
   ]
  },
  {
   "cell_type": "markdown",
   "metadata": {},
   "source": [
    "## Neural network model"
   ]
  },
  {
   "cell_type": "markdown",
   "metadata": {},
   "source": [
    "### Setting up the model"
   ]
  },
  {
   "cell_type": "code",
   "execution_count": 9,
   "metadata": {},
   "outputs": [],
   "source": [
    "class MnistModel(torch.nn.Module):\n",
    "\n",
    "    input_layer_dim = 28 * 28\n",
    "    hidden_layer_dim = 512\n",
    "    number_classes = 10\n",
    "\n",
    "    def __init__(self):\n",
    "        super().__init__()\n",
    "\n",
    "        self.linear_stack = torch.nn.Sequential(\n",
    "            torch.nn.Flatten(),\n",
    "            torch.nn.Linear(self.input_layer_dim, self.hidden_layer_dim),\n",
    "            torch.nn.ReLU(),\n",
    "            torch.nn.Linear(self.hidden_layer_dim, self.hidden_layer_dim),\n",
    "            torch.nn.ReLU(),\n",
    "            torch.nn.Linear(self.hidden_layer_dim, self.number_classes),\n",
    "        )\n",
    "\n",
    "    def forward(self, x):\n",
    "        y = self.linear_stack(x)\n",
    "        return y"
   ]
  },
  {
   "cell_type": "code",
   "execution_count": 10,
   "metadata": {},
   "outputs": [],
   "source": [
    "model = MnistModel()"
   ]
  },
  {
   "cell_type": "code",
   "execution_count": 11,
   "metadata": {},
   "outputs": [
    {
     "name": "stdout",
     "output_type": "stream",
     "text": [
      "MnistModel(\n",
      "  (linear_stack): Sequential(\n",
      "    (0): Flatten(start_dim=1, end_dim=-1)\n",
      "    (1): Linear(in_features=784, out_features=512, bias=True)\n",
      "    (2): ReLU()\n",
      "    (3): Linear(in_features=512, out_features=512, bias=True)\n",
      "    (4): ReLU()\n",
      "    (5): Linear(in_features=512, out_features=10, bias=True)\n",
      "  )\n",
      ")\n"
     ]
    }
   ],
   "source": [
    "print(model)"
   ]
  },
  {
   "cell_type": "markdown",
   "metadata": {},
   "source": [
    "### Model assessment\n",
    "\n",
    "A loss function is defined to quantify the model output from the reference. "
   ]
  },
  {
   "cell_type": "code",
   "execution_count": 12,
   "metadata": {},
   "outputs": [],
   "source": [
    "loss_func = torch.nn.CrossEntropyLoss()"
   ]
  },
  {
   "cell_type": "markdown",
   "metadata": {},
   "source": [
    "With this loss function, we determine the averaged loss and the percentage of correct predictions."
   ]
  },
  {
   "cell_type": "code",
   "execution_count": 13,
   "metadata": {},
   "outputs": [],
   "source": [
    "def test(dataloader, model):\n",
    "\n",
    "    model.eval()\n",
    "\n",
    "    number_correct = 0\n",
    "    with torch.no_grad():\n",
    "        for images, labels in dataloader:  # batches of images and labels\n",
    "            output = model(images)\n",
    "            number_correct += (\n",
    "                (output.argmax(1) == labels).type(torch.float).sum().item()\n",
    "            )\n",
    "\n",
    "    size = len(dataloader.dataset)  # size is 10,000 in our case\n",
    "    accuracy = 100 * number_correct / size  # in percent\n",
    "\n",
    "    return accuracy"
   ]
  },
  {
   "cell_type": "markdown",
   "metadata": {},
   "source": [
    "### Initial model performance\n",
    "\n",
    "With random parameters, we expect to prediction success of about 10%."
   ]
  },
  {
   "cell_type": "code",
   "execution_count": 14,
   "metadata": {},
   "outputs": [
    {
     "name": "stdout",
     "output_type": "stream",
     "text": [
      "Accuracy: 8.2%\n"
     ]
    }
   ],
   "source": [
    "accuracy = test(test_dataloader, model)\n",
    "\n",
    "print(f\"Accuracy: {accuracy:>0.1f}%\")\n",
    "\n",
    "prediction_accuracies = [accuracy]  # saved in list for plotting"
   ]
  },
  {
   "cell_type": "markdown",
   "metadata": {},
   "source": [
    "### Model training"
   ]
  },
  {
   "cell_type": "code",
   "execution_count": 15,
   "metadata": {},
   "outputs": [],
   "source": [
    "number_of_epochs = 2  # number of iterations in the training\n",
    "\n",
    "learning_rate = 0.01  # step length in gradient descent\n",
    "optimizer = torch.optim.SGD(model.parameters(), lr=learning_rate)"
   ]
  },
  {
   "cell_type": "code",
   "execution_count": 16,
   "metadata": {},
   "outputs": [],
   "source": [
    "def train(dataloader, model, loss_func, optimizer):\n",
    "\n",
    "    for images, labels in dataloader:  # batches of images and labels\n",
    "\n",
    "        output = model(images)\n",
    "        loss = loss_func(output, labels)\n",
    "\n",
    "        # Back propagation\n",
    "        optimizer.zero_grad()\n",
    "        loss.backward()\n",
    "        optimizer.step()"
   ]
  },
  {
   "cell_type": "code",
   "execution_count": 17,
   "metadata": {
    "scrolled": true
   },
   "outputs": [
    {
     "name": "stdout",
     "output_type": "stream",
     "text": [
      "Epoch (1/2):\n",
      "  accuracy: 80.5%\n",
      "Epoch (2/2):\n",
      "  accuracy: 88.01%\n"
     ]
    }
   ],
   "source": [
    "for epoch in range(number_of_epochs):\n",
    "\n",
    "    print(f\"Epoch ({epoch+1}/{number_of_epochs}):\")\n",
    "\n",
    "    train(train_dataloader, model, loss_func, optimizer)\n",
    "\n",
    "    accuracy = test(test_dataloader, model)    \n",
    "    prediction_accuracies.append(accuracy)\n",
    "\n",
    "    print(f\"  accuracy: {accuracy}%\")"
   ]
  },
  {
   "cell_type": "code",
   "execution_count": 18,
   "metadata": {},
   "outputs": [
    {
     "data": {
      "image/png": "[encoded data removed]",
      "text/plain": [
       "<Figure size 800x400 with 1 Axes>"
      ]
     },
     "metadata": {},
     "output_type": "display_data"
    }
   ],
   "source": [
    "fig, ax = plt.subplots(figsize=(8, 4))\n",
    "\n",
    "ax.plot(prediction_accuracies, \"-\", color=\"navy\")\n",
    "ax.plot(prediction_accuracies, \"o\", color=\"deepskyblue\")\n",
    "\n",
    "ax.set_xticks(range(0, number_of_epochs + 1))\n",
    "ax.set_ylim((0, 100))\n",
    "ax.set_xlim((-0.2, number_of_epochs + 0.2))\n",
    "ax.grid(True)\n",
    "\n",
    "ax.set_xlabel(\"Number of epochs in model training\")\n",
    "ax.set_ylabel(\"Prediction accuraciy (%)\")\n",
    "\n",
    "plt.show()"
   ]
  },
  {
   "cell_type": "markdown",
   "metadata": {},
   "source": [
    "## Single image prediction"
   ]
  },
  {
   "cell_type": "code",
   "execution_count": 19,
   "metadata": {},
   "outputs": [],
   "source": [
    "def predict_image(x, model):\n",
    "\n",
    "    y = model(x)\n",
    "\n",
    "    _, prediction = torch.max(y, dim=1)\n",
    "\n",
    "    return prediction[0].item()"
   ]
  },
  {
   "cell_type": "code",
   "execution_count": 20,
   "metadata": {},
   "outputs": [],
   "source": [
    "idx_random_tensor = np.random.randint(10000)"
   ]
  },
  {
   "cell_type": "code",
   "execution_count": 21,
   "metadata": {},
   "outputs": [
    {
     "name": "stdout",
     "output_type": "stream",
     "text": [
      "Test data set item: 5972\n",
      "Label: 5\n",
      "Predicted : 0\n"
     ]
    },
    {
     "data": {
      "image/png": "[encoded data removed]",
      "text/plain": [
       "<Figure size 200x200 with 1 Axes>"
      ]
     },
     "metadata": {},
     "output_type": "display_data"
    }
   ],
   "source": [
    "image, label = test_data[idx_random_tensor]\n",
    "\n",
    "print(\"Test data set item:\", idx_random_tensor)\n",
    "print(\"Label:\", label)\n",
    "print(\"Predicted :\", predict_image(image, model))\n",
    "\n",
    "fig = plt.figure(figsize=(2,2))\n",
    "plt.imshow(image[0, :, :], cmap=\"gray\")\n",
    "plt.show()"
   ]
  },
  {
   "cell_type": "markdown",
   "metadata": {},
   "source": [
    "## Saving and loading models"
   ]
  },
  {
   "cell_type": "markdown",
   "metadata": {},
   "source": [
    "The model parameters (weights and biases) are returned by the `state_dict()` method."
   ]
  },
  {
   "cell_type": "markdown",
   "metadata": {},
   "source": [
    "The model parameters can be saved to a file."
   ]
  },
  {
   "cell_type": "code",
   "execution_count": 22,
   "metadata": {},
   "outputs": [],
   "source": [
    "# torch.save(model.state_dict(), \"mnist-model.pth\")"
   ]
  },
  {
   "cell_type": "markdown",
   "metadata": {},
   "source": [
    "A saved model can be read from file."
   ]
  },
  {
   "cell_type": "code",
   "execution_count": 23,
   "metadata": {},
   "outputs": [],
   "source": [
    "# model = MnistModel()\n",
    "# model.load_state_dict(torch.load(\"mnist-model.pth\"))"
   ]
  },
  {
   "cell_type": "markdown",
   "metadata": {},
   "source": [
    "## YouTube material"
   ]
  },
  {
   "cell_type": "markdown",
   "metadata": {},
   "source": [
    "If you choose a project in the category of machine learning, it is *highly* recommended (close to mandatory) that you also take the time to watch the series of four videos on neural networks from the (generally) excellent channel [3Blue1Brown](https://www.youtube.com/@3blue1brown)."
   ]
  },
  {
   "cell_type": "code",
   "execution_count": 24,
   "metadata": {
    "tags": [
     "remove-input"
    ]
   },
   "outputs": [
    {
     "data": {
      "text/html": [
       "\n",
       "        <iframe\n",
       "            width=\"400\"\n",
       "            height=\"300\"\n",
       "            src=\"https://www.youtube.com/embed/aircAruvnKk?si=p7eKKqYI8u8mqfIb\"\n",
       "            frameborder=\"0\"\n",
       "            allowfullscreen\n",
       "            \n",
       "        ></iframe>\n",
       "        "
      ],
      "text/plain": [
       "<IPython.lib.display.YouTubeVideo at 0x7c350021da50>"
      ]
     },
     "execution_count": 24,
     "metadata": {},
     "output_type": "execute_result"
    }
   ],
   "source": [
    "from IPython.display import YouTubeVideo\n",
    "\n",
    "YouTubeVideo(\"aircAruvnKk?si=p7eKKqYI8u8mqfIb\")"
   ]
  },
  {
   "cell_type": "markdown",
   "metadata": {},
   "source": [
    "## Forming your project"
   ]
  },
  {
   "cell_type": "markdown",
   "metadata": {},
   "source": [
    "### Data representation in the input layer\n",
    "\n",
    "In the case of images, it is rather obvious how to represent the input data in the input layer namely by associating neurons to the bits in the images.\n",
    "\n",
    "In other cases, it may be less obvious. How do we e.g. represent molecules and how can we get an objective measure of closeness  of chemical structures? In answer to these questions, molecular fingerprints have been developed."
   ]
  },
  {
   "cell_type": "code",
   "execution_count": 25,
   "metadata": {
    "tags": [
     "remove-input"
    ]
   },
   "outputs": [
    {
     "data": {
      "text/html": [
       "\n",
       "        <iframe\n",
       "            width=\"400\"\n",
       "            height=\"300\"\n",
       "            src=\"https://www.youtube.com/embed/kBk8HbjWwCw?si=3yspJyCsgnBynzT0\"\n",
       "            frameborder=\"0\"\n",
       "            allowfullscreen\n",
       "            \n",
       "        ></iframe>\n",
       "        "
      ],
      "text/plain": [
       "<IPython.lib.display.YouTubeVideo at 0x7c3500217dd0>"
      ]
     },
     "execution_count": 25,
     "metadata": {},
     "output_type": "execute_result"
    }
   ],
   "source": [
    "YouTubeVideo(\"kBk8HbjWwCw?si=3yspJyCsgnBynzT0\")"
   ]
  },
  {
   "cell_type": "markdown",
   "metadata": {},
   "source": [
    "### Machine Learning-Guided Protein Engineering\n",
    "\n",
    "Find inspiration for using machine learning in protein engineering in the perspective article below. The authors provide an overview of ongoing trends in this domain, highlight recent case studies, and examine the current limitations of machine learning-based methods. They present their opinions on the fundamental problems and outline the potential directions for future research.\n",
    "\n",
    "```{image} ../images/ml_protein.jpeg\n",
    ":alt: ML and proteins\n",
    ":class: bg-primary mb-1\n",
    ":width: 400px\n",
    ":align: left\n",
    "```\n",
    "\n",
    "*ACS Catalysis* **2023**, 13, 21, 13863–13895, [https://doi.org/10.1021/acscatal.3c02743](https://doi.org/10.1021/acscatal.3c02743)"
   ]
  },
  {
   "cell_type": "markdown",
   "metadata": {},
   "source": [
    "## Forming your project\n",
    "You are encouraged to develop your own model. Below is an example from CB1020 HT24 which may serve as inspiration.\n",
    "\n",
    "1. **Identification of risk factors for cardiovascular disease using data analysis and machine learning (Project from CB1020 HT24)** <br>\n",
    "Cardiovascular disease (CVD) is the leading cause of death in Sweden, with over 2 million affected and approximately 30,000 annual deaths.\n",
    "The aim of the project was to use data analysis combined with the machine learning algorithms GradientBoosting, RandomForest and SHAP in Python to investigate which five factors contribute most to CVD, and to use machine learning to predict whether a person has CVD or not. The project analyzed a csv file with patient data from 70,000 people in twelve different categories: age, height, weight, gender, systolic blood pressure, diastolic blood pressure, cholesterol level, glucose level,\n",
    "smoking, alcohol intake, physical activity and presence or absence of cardiovascular disease.\n",
    "The five most important risk factors for CVD were identified as systolic and diastolic blood pressure, BMI, age, and cholesterol. The results showed that older people and individuals with higher BMI had an increased risk of CVD, which is consistent with previous research. The machine learning algorithms GradientBoosting and RandomForest demonstrated a test accuracy of 73.6%, with a better ability to identify CVD cases than non-CVD cases. Data analysis also indicated that there were shortcomings in the representation of different age groups and gender, which may have influenced the results."
   ]
  }
 ],
 "metadata": {
  "kernelspec": {
   "display_name": "Python 3 (ipykernel)",
   "language": "python",
   "name": "python3"
  },
  "language_info": {
   "codemirror_mode": {
    "name": "ipython",
    "version": 3
   },
   "file_extension": ".py",
   "mimetype": "text/x-python",
   "name": "python",
   "nbconvert_exporter": "python",
   "pygments_lexer": "ipython3",
   "version": "3.11.8"
  }
 },
 "nbformat": 4,
 "nbformat_minor": 4
}
