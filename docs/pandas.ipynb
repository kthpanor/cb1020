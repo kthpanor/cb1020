{
 "cells": [
  {
   "cell_type": "markdown",
   "id": "4749fc50",
   "metadata": {},
   "source": [
    "# Pandas\n",
    "\n",
    "The [pandas](https://pandas.pydata.org/pandas-docs/stable/getting_started/index.html#getting-started) module is a powerful tool for data manipulation and analysis. Pandas allows for the import and export of data in several standard formats such as [comma-separatped values](https://en.wikipedia.org/wiki/Comma-separated_values) (.csv) and [Microsoft Excel](https://en.wikipedia.org/wiki/Microsoft_Excel) (.xls). If you are working with spreadsheets for data handling and would benefit from automatized ways to merge, reshape, select, clean, wrangle, plot, etc. your data, then you are likely to benefit from pandas. "
   ]
  },
  {
   "cell_type": "code",
   "execution_count": 1,
   "id": "35d62a45",
   "metadata": {},
   "outputs": [],
   "source": [
    "import pandas as pd"
   ]
  },
  {
   "cell_type": "markdown",
   "id": "cd102b6c",
   "metadata": {},
   "source": [
    "## Create dataframe from spreadsheet\n",
    "\n",
    "The most important class in pandas is `DataFrame`. An object of this class corresponds to a sheet in an Excel file. A dataframe can be constructed with the method `read.excel`:\n",
    "\n",
    "```\n",
    "pd.read_excel(\"path_to_file.xls\", sheet_name=\"Sheet1\")\n",
    "```"
   ]
  },
  {
   "cell_type": "markdown",
   "id": "59e56247",
   "metadata": {},
   "source": [
    "## Create dataframe from Python dictionary\n",
    "\n",
    "Dataframes can also be thought of as Python dictionaries and we can also create a dataframe from a Python dictonary."
   ]
  },
  {
   "cell_type": "code",
   "execution_count": 2,
   "id": "cf327f6a",
   "metadata": {},
   "outputs": [
    {
     "data": {
      "text/html": [
       "<div>\n",
       "<style scoped>\n",
       "    .dataframe tbody tr th:only-of-type {\n",
       "        vertical-align: middle;\n",
       "    }\n",
       "\n",
       "    .dataframe tbody tr th {\n",
       "        vertical-align: top;\n",
       "    }\n",
       "\n",
       "    .dataframe thead th {\n",
       "        text-align: right;\n",
       "    }\n",
       "</style>\n",
       "<table border=\"1\" class=\"dataframe\">\n",
       "  <thead>\n",
       "    <tr style=\"text-align: right;\">\n",
       "      <th></th>\n",
       "      <th>Name</th>\n",
       "      <th>Result</th>\n",
       "    </tr>\n",
       "  </thead>\n",
       "  <tbody>\n",
       "    <tr>\n",
       "      <th>0</th>\n",
       "      <td>Alice</td>\n",
       "      <td>33</td>\n",
       "    </tr>\n",
       "    <tr>\n",
       "      <th>1</th>\n",
       "      <td>Ceasar</td>\n",
       "      <td>25</td>\n",
       "    </tr>\n",
       "    <tr>\n",
       "      <th>2</th>\n",
       "      <td>David</td>\n",
       "      <td>18</td>\n",
       "    </tr>\n",
       "    <tr>\n",
       "      <th>3</th>\n",
       "      <td>Beatrice</td>\n",
       "      <td>22</td>\n",
       "    </tr>\n",
       "  </tbody>\n",
       "</table>\n",
       "</div>"
      ],
      "text/plain": [
       "       Name  Result\n",
       "0     Alice      33\n",
       "1    Ceasar      25\n",
       "2     David      18\n",
       "3  Beatrice      22"
      ]
     },
     "execution_count": 2,
     "metadata": {},
     "output_type": "execute_result"
    }
   ],
   "source": [
    "results = {\n",
    "    'Name': ['Alice', 'Ceasar', 'David', 'Beatrice'],\n",
    "    'Result': [33, 25, 18, 22]\n",
    "}\n",
    "\n",
    "# create dataframe\n",
    "df = pd.DataFrame(results)\n",
    "\n",
    "# display the 5 first lines\n",
    "df.head(5)"
   ]
  },
  {
   "cell_type": "markdown",
   "id": "36fa3760",
   "metadata": {},
   "source": [
    "## Manipulate data\n",
    "\n",
    "We can sort the dataframe by a certain column."
   ]
  },
  {
   "cell_type": "code",
   "execution_count": 3,
   "id": "19e79330",
   "metadata": {},
   "outputs": [
    {
     "data": {
      "text/html": [
       "<div>\n",
       "<style scoped>\n",
       "    .dataframe tbody tr th:only-of-type {\n",
       "        vertical-align: middle;\n",
       "    }\n",
       "\n",
       "    .dataframe tbody tr th {\n",
       "        vertical-align: top;\n",
       "    }\n",
       "\n",
       "    .dataframe thead th {\n",
       "        text-align: right;\n",
       "    }\n",
       "</style>\n",
       "<table border=\"1\" class=\"dataframe\">\n",
       "  <thead>\n",
       "    <tr style=\"text-align: right;\">\n",
       "      <th></th>\n",
       "      <th>Name</th>\n",
       "      <th>Result</th>\n",
       "    </tr>\n",
       "  </thead>\n",
       "  <tbody>\n",
       "    <tr>\n",
       "      <th>0</th>\n",
       "      <td>Alice</td>\n",
       "      <td>33</td>\n",
       "    </tr>\n",
       "    <tr>\n",
       "      <th>3</th>\n",
       "      <td>Beatrice</td>\n",
       "      <td>22</td>\n",
       "    </tr>\n",
       "    <tr>\n",
       "      <th>1</th>\n",
       "      <td>Ceasar</td>\n",
       "      <td>25</td>\n",
       "    </tr>\n",
       "    <tr>\n",
       "      <th>2</th>\n",
       "      <td>David</td>\n",
       "      <td>18</td>\n",
       "    </tr>\n",
       "  </tbody>\n",
       "</table>\n",
       "</div>"
      ],
      "text/plain": [
       "       Name  Result\n",
       "0     Alice      33\n",
       "3  Beatrice      22\n",
       "1    Ceasar      25\n",
       "2     David      18"
      ]
     },
     "execution_count": 3,
     "metadata": {},
     "output_type": "execute_result"
    }
   ],
   "source": [
    "df.sort_values(by='Name', ascending=True)"
   ]
  },
  {
   "cell_type": "markdown",
   "id": "71efcd2b",
   "metadata": {},
   "source": [
    "## Analyse data\n",
    "\n",
    "We can list a selection of elements in the dataframe, say those students that passed the examination point limit."
   ]
  },
  {
   "cell_type": "code",
   "execution_count": 4,
   "id": "22d414af",
   "metadata": {},
   "outputs": [
    {
     "data": {
      "text/html": [
       "<div>\n",
       "<style scoped>\n",
       "    .dataframe tbody tr th:only-of-type {\n",
       "        vertical-align: middle;\n",
       "    }\n",
       "\n",
       "    .dataframe tbody tr th {\n",
       "        vertical-align: top;\n",
       "    }\n",
       "\n",
       "    .dataframe thead th {\n",
       "        text-align: right;\n",
       "    }\n",
       "</style>\n",
       "<table border=\"1\" class=\"dataframe\">\n",
       "  <thead>\n",
       "    <tr style=\"text-align: right;\">\n",
       "      <th></th>\n",
       "      <th>Name</th>\n",
       "      <th>Result</th>\n",
       "    </tr>\n",
       "  </thead>\n",
       "  <tbody>\n",
       "    <tr>\n",
       "      <th>0</th>\n",
       "      <td>Alice</td>\n",
       "      <td>33</td>\n",
       "    </tr>\n",
       "    <tr>\n",
       "      <th>1</th>\n",
       "      <td>Ceasar</td>\n",
       "      <td>25</td>\n",
       "    </tr>\n",
       "    <tr>\n",
       "      <th>3</th>\n",
       "      <td>Beatrice</td>\n",
       "      <td>22</td>\n",
       "    </tr>\n",
       "  </tbody>\n",
       "</table>\n",
       "</div>"
      ],
      "text/plain": [
       "       Name  Result\n",
       "0     Alice      33\n",
       "1    Ceasar      25\n",
       "3  Beatrice      22"
      ]
     },
     "execution_count": 4,
     "metadata": {},
     "output_type": "execute_result"
    }
   ],
   "source": [
    "df[df['Result'] > 20]"
   ]
  },
  {
   "cell_type": "markdown",
   "id": "e8a4ca6d",
   "metadata": {},
   "source": [
    "We can perform statistical anlyses on the dataframe."
   ]
  },
  {
   "cell_type": "code",
   "execution_count": 5,
   "id": "a2816623",
   "metadata": {},
   "outputs": [
    {
     "name": "stdout",
     "output_type": "stream",
     "text": [
      "Averaged result is equal to 24.5 points.\n"
     ]
    }
   ],
   "source": [
    "print('Averaged result is equal to', df['Result'].mean(), 'points.')"
   ]
  },
  {
   "cell_type": "code",
   "execution_count": 6,
   "id": "259a5565",
   "metadata": {},
   "outputs": [
    {
     "data": {
      "text/plain": [
       "count     4.000000\n",
       "mean     24.500000\n",
       "std       6.350853\n",
       "min      18.000000\n",
       "25%      21.000000\n",
       "50%      23.500000\n",
       "75%      27.000000\n",
       "max      33.000000\n",
       "Name: Result, dtype: float64"
      ]
     },
     "execution_count": 6,
     "metadata": {},
     "output_type": "execute_result"
    }
   ],
   "source": [
    "df['Result'].describe()"
   ]
  },
  {
   "cell_type": "markdown",
   "id": "7b268aba",
   "metadata": {},
   "source": [
    "## Plot data\n",
    "We can plot the data in the dataframe. Pandas has built-in [dataframe plot functionality](https://pandas.pydata.org/docs/reference/api/pandas.DataFrame.plot.html) using [matplotlib](https://matplotlib.org/) as the underlying plot engine, so you can also import `matplotlib.pyplot` for additional plot control."
   ]
  },
  {
   "cell_type": "code",
   "execution_count": 7,
   "id": "5ac89e92",
   "metadata": {},
   "outputs": [
    {
     "data": {
      "image/png": "[encoded data removed]",
      "text/plain": [
       "<Figure size 432x288 with 1 Axes>"
      ]
     },
     "metadata": {
      "needs_background": "light"
     },
     "output_type": "display_data"
    }
   ],
   "source": [
    "import matplotlib.pyplot as plt\n",
    "\n",
    "df.plot(x='Name', y='Result', kind='bar', ylabel='Points on exam')\n",
    "\n",
    "plt.setp(plt.gca(), xticklabels=list(df['Name']))\n",
    "plt.axhline(20, color='lightgrey')\n",
    "plt.show()"
   ]
  },
  {
   "cell_type": "code",
   "execution_count": null,
   "id": "6ce40c3b",
   "metadata": {},
   "outputs": [],
   "source": []
  }
 ],
 "metadata": {
  "kernelspec": {
   "display_name": "Python 3",
   "language": "python",
   "name": "python3"
  },
  "language_info": {
   "codemirror_mode": {
    "name": "ipython",
    "version": 3
   },
   "file_extension": ".py",
   "mimetype": "text/x-python",
   "name": "python",
   "nbconvert_exporter": "python",
   "pygments_lexer": "ipython3",
   "version": "3.9.5"
  }
 },
 "nbformat": 4,
 "nbformat_minor": 5
}
