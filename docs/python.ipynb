{
 "cells": [
  {
   "cell_type": "markdown",
   "id": "5778b5f9",
   "metadata": {},
   "source": [
    "# Python and notebooks\n",
    "\n",
    "## Python"
   ]
  },
  {
   "cell_type": "markdown",
   "id": "544a2193",
   "metadata": {},
   "source": [
    "Python code is typically written in the form of functions that are stored in libraries (or *modules*) and made available with the `import` statement. \n",
    "\n",
    "Modules of specific concern in this course include\n",
    "\n",
    "- [NumPy](https://numpy.org/doc/stable/user/absolute_beginners.html) introduces multi-dimensional arrays and provides efficient array operations\n",
    "- [SciPy](https://docs.scipy.org/doc/scipy/reference/tutorial/general.html) provides mathematical algorithms and convenience functions built on NumPy\n",
    "- [Matplotlib](https://matplotlib.org/stable/users/index.html) is a visualization library in Python for plotting arrays\n",
    "- [Pandas](https://pandas.pydata.org/docs/getting_started/overview.html) is a flexible data analysis/manipulation tool\n",
    "- [Mesa](https://mesa.readthedocs.io/en/stable/) enables agent-based modeling in Python\n",
    "- [PyTorch](https://pytorch.org/) enables machine learning/deep learning in Python"
   ]
  },
  {
   "cell_type": "markdown",
   "id": "b014bb3a",
   "metadata": {},
   "source": [
    "Python naturally invites to good software engineering practices in terms of [object-oriented programming](https://www.w3schools.com/python/python_classes.asp). Almost everything in Python is an `object`, with its properties and methods and a `class` is like an object constructor, or a “blueprint” for creating objects known as *instances* of the class.\n",
    "\n",
    "It cannot be overemphasized that the use of object-oriented programming is highly enabling for code sharing and team development, and it is strongly recommended to adopt these practices."
   ]
  },
  {
   "cell_type": "markdown",
   "id": "90cbc796-22b0-47a3-a8c6-81f9e0f08673",
   "metadata": {},
   "source": [
    "## Jupyter notebooks\n",
    "A *Jupyter notebook* is an application to edit and run *notebook documents* via a web browser. A notebook document, in turn, is a human readable file in [JSON](https://en.wikipedia.org/wiki/JSON) format that contains both program code (written in e.g. Python) and text elements (paragraphs, figures, links, etc. using markdown) organized into *cells*. Notebook documents containing Python code have the file extension  `.ipynb`.\n",
    "\n",
    "You start a Jupyter notebook on the command line as follows\n",
    "\n",
    "```\n",
    "$ jupyter-lab\n",
    "```"
   ]
  },
  {
   "cell_type": "markdown",
   "id": "b9d77f14-1b07-44b6-a0dc-e21944af0bbc",
   "metadata": {},
   "source": [
    "### Auto-completion\n",
    "\n",
    "Press `tab` to auto-complete commands. If there is no unique completion available,  a list of suggestions is provided.\n",
    "\n",
    "E.g. if you enter `plt.` and press `tab`, you will get a list of the methods that `pyplot` implements."
   ]
  },
  {
   "cell_type": "markdown",
   "id": "0dbd63b0-aca9-4fe2-a36b-c62d1cfb06bc",
   "metadata": {},
   "source": [
    "### Keyboard shortcuts\n",
    "\n",
    "| Shortcut | Result |\n",
    "| :--- | :--- |\n",
    "| `Enter` | Enter edit mode of cell |\n",
    "| `Shift-Enter` | Leave edit mode of cell |\n",
    "| `C` | Copy cell |\n",
    "| `V` | Paste cell |\n",
    "| `Shift M` | Merge cell with that below |\n",
    "| `Ctrl-Shift -` | Split markdown cell at cursor position |\n",
    "| `M` | Change cell to markdown type |\n",
    "| `Y` | Change cell to code type |\n",
    "| `Ctrl-S` | Save checkpoint of notebook |"
   ]
  }
 ],
 "metadata": {
  "celltoolbar": "Tags",
  "kernelspec": {
   "display_name": "Python 3 (ipykernel)",
   "language": "python",
   "name": "python3"
  },
  "language_info": {
   "codemirror_mode": {
    "name": "ipython",
    "version": 3
   },
   "file_extension": ".py",
   "mimetype": "text/x-python",
   "name": "python",
   "nbconvert_exporter": "python",
   "pygments_lexer": "ipython3",
   "version": "3.11.8"
  }
 },
 "nbformat": 4,
 "nbformat_minor": 5
}
