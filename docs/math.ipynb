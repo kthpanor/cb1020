{
 "cells": [
  {
   "cell_type": "markdown",
   "id": "f0c6c986-b902-4abc-b90e-47fb41fb82a6",
   "metadata": {},
   "source": [
    "# Mathematical modeling\n",
    "\n",
    "[Mathematical modeling in biotechnology](https://en.wikipedia.org/wiki/Mathematical_and_theoretical_biology) dates back to around 1960 and is today widespread among the scientific subfields and also diverse in approaches.\n",
    "\n",
    "Four important classes of methodologies are given by\n",
    "\n",
    "- [ordinary differential equations](sec:ode)\n",
    "- [data analysis](sec:data)\n",
    "- [agent-based modeling](sec:agent)\n",
    "- [machine learning](sec:ml)\n",
    "\n",
    "We will here provide brief introductions to these categories of simulation techniques and you are asked to select one of them for further studies in your project groups."
   ]
  }
 ],
 "metadata": {
  "kernelspec": {
   "display_name": "Python 3 (ipykernel)",
   "language": "python",
   "name": "python3"
  },
  "language_info": {
   "codemirror_mode": {
    "name": "ipython",
    "version": 3
   },
   "file_extension": ".py",
   "mimetype": "text/x-python",
   "name": "python",
   "nbconvert_exporter": "python",
   "pygments_lexer": "ipython3",
   "version": "3.11.8"
  }
 },
 "nbformat": 4,
 "nbformat_minor": 5
}
