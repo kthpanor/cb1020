{
 "cells": [
  {
   "cell_type": "markdown",
   "id": "ad16b96d",
   "metadata": {},
   "source": [
    "# Agent-based modeling\n",
    "\n",
    "An [agent-based model](https://en.wikipedia.org/wiki/Agent-based_model) (ABM) is a computational model for simulating the actions and interactions of autonomous agents (both individual or collective entities such as organizations or groups) in order to understand the behavior of a system and what governs its outcomes.\n",
    "\n",
    "## Mesa\n",
    "\n",
    "[Mesa](https://mesa.readthedocs.io/en/stable/overview.html) is a Python framework for agent-based modeling. It contains three categories of modules:\n",
    "\n",
    "1. **Modeling**: Modules used to build the models themselves: a model and agent classes, a scheduler to determine the sequence in which the agents act, and space for them to move around on.\n",
    "\n",
    "2. **Analysis**: Tools to collect data generated from your model, or to run it multiple times with different parameter values.\n",
    "\n",
    "3. **Visualization**: Classes to create and launch an interactive model visualization, using a server with a JavaScript interface.\n",
    "\n",
    "Every ABM requires two classes, one for the overall model and one for the agents. These classes will be derived classes of Mesa's base classes `Model` and `Agent`. The model class holds the model-level attributes, manages the agents, and generally handles the global level of our model. Each instantiation of the model class will be a specific model run. Each model will contain multiple agents, all of which are instantiations of the agent class."
   ]
  },
  {
   "cell_type": "code",
   "execution_count": 1,
   "id": "318e120c",
   "metadata": {},
   "outputs": [],
   "source": [
    "# Modeling\n",
    "from mesa import Agent, Model\n",
    "from mesa.time import RandomActivation\n",
    "from mesa.space import MultiGrid\n",
    "# Analysis\n",
    "from mesa.datacollection import DataCollector"
   ]
  },
  {
   "cell_type": "markdown",
   "id": "b67995bf",
   "metadata": {},
   "source": [
    "### Model\n",
    "Our model will be that of $N$ agents randomly walking around in a 2D landscape grid of cells. To begin with, the agents are randomly positioned. The model defines a data collector that in each time step records the wealth of agents and an overall indicator for wealth distribution."
   ]
  },
  {
   "cell_type": "code",
   "execution_count": 2,
   "id": "be2e8b5c",
   "metadata": {},
   "outputs": [],
   "source": [
    "class MoneyModel(Model):\n",
    "   \n",
    "    def __init__(self, N, width, height):\n",
    "        self.num_agents = N\n",
    "        self.grid = MultiGrid(width, height, True)\n",
    "        self.schedule = RandomActivation(self)\n",
    "        self.datacollector = DataCollector(\n",
    "            model_reporters={\"Gini coefficient\": compute_gini}, # function defined below\n",
    "            agent_reporters={\"Wealth\": \"wealth\"})\n",
    "\n",
    "        # Create agents\n",
    "        for unique_id in range(self.num_agents):\n",
    "            agent = MoneyAgent(unique_id, self)\n",
    "            self.schedule.add(agent)\n",
    "            \n",
    "            # Add the agent to a random grid cell\n",
    "            x = self.random.randrange(self.grid.width)\n",
    "            y = self.random.randrange(self.grid.height)\n",
    "            self.grid.place_agent(agent, (x, y))\n",
    "\n",
    "    def step(self):\n",
    "        self.datacollector.collect(self)\n",
    "        self.schedule.step()"
   ]
  },
  {
   "cell_type": "markdown",
   "id": "daa19cbb",
   "metadata": {},
   "source": [
    "### Agent\n",
    "Every agent starts with a wealth of 1. If an agent has nonzero wealth and enters into a non-empty cell, the agent will give one unit of wealth to a random cellmate."
   ]
  },
  {
   "cell_type": "code",
   "execution_count": 3,
   "id": "b3662ecf",
   "metadata": {},
   "outputs": [],
   "source": [
    "class MoneyAgent(Agent):\n",
    "\n",
    "    def __init__(self, unique_id, model):\n",
    "        super().__init__(unique_id, model)\n",
    "        self.wealth = 1\n",
    "\n",
    "    def move(self):\n",
    "        possible_steps = self.model.grid.get_neighborhood(\n",
    "            self.pos,             # current position\n",
    "            moore=True,           # including step on the diagonal\n",
    "            include_center=False) # a step to remain at current position is not allowed\n",
    "        new_position = self.random.choice(possible_steps)\n",
    "        self.model.grid.move_agent(self, new_position)\n",
    "\n",
    "    def give_money(self):\n",
    "        cellmates = self.model.grid.get_cell_list_contents([self.pos])\n",
    "        if len(cellmates) > 1:\n",
    "            other = self.random.choice(cellmates)\n",
    "            other.wealth += 1\n",
    "            self.wealth -= 1\n",
    "\n",
    "    def step(self):\n",
    "        self.move()\n",
    "        if self.wealth > 0:\n",
    "            self.give_money()"
   ]
  },
  {
   "cell_type": "markdown",
   "id": "2a852106",
   "metadata": {},
   "source": [
    "As metric indicator of wealth distribution, we implement the [Gini coefficient](https://en.wikipedia.org/wiki/Gini_coefficient). Let $x_i$ for $i = 1,\\ldots, N$ be the wealth of $N$ individuals ordered such that $x_i \\leq x_{i+1}$. The Gini coefficient for this population is\n",
    "\n",
    "$$\n",
    "G = \\frac{1}{N}\n",
    "\\Big(\n",
    "N + 1 - \\frac{2}{X} \\sum_{i=1}^N (N+1-i) x_i\n",
    "\\Big)\n",
    "$$\n",
    "\n",
    "where $X$ is the sum of wealths, or, in other words, the total population wealth. There are two limting values for $G$. If every individual has the same wealth, then $G = 0$. If the total population wealth belongs to a single individual, then $G = (1 - 1/N)$."
   ]
  },
  {
   "cell_type": "code",
   "execution_count": 4,
   "id": "c54e3621",
   "metadata": {},
   "outputs": [],
   "source": [
    "def compute_gini(model):\n",
    "\n",
    "    N = model.num_agents\n",
    "\n",
    "    # collect wealth of agent into a list and sort it in increasing order\n",
    "    agent_wealths = [agent.wealth for agent in model.schedule.agents]\n",
    "    x = sorted(agent_wealths)\n",
    "\n",
    "    # calculate the Gini coefficient\n",
    "    B = sum( xi * (N-i) for i, xi in enumerate(x) ) / sum(x)\n",
    "    G = ( N + 1 - 2 * B ) / N\n",
    "\n",
    "    return G"
   ]
  },
  {
   "cell_type": "markdown",
   "id": "f84d04b7",
   "metadata": {},
   "source": [
    "### Running the simulation\n",
    "We run the model with 50 agents distributed in a 10 $\\times$ 10 grid of cells for 100 time steps."
   ]
  },
  {
   "cell_type": "code",
   "execution_count": 5,
   "id": "67b480f8",
   "metadata": {},
   "outputs": [],
   "source": [
    "model = MoneyModel(50, 10, 10)\n",
    "\n",
    "for i in range(100):\n",
    "    model.step()"
   ]
  },
  {
   "cell_type": "markdown",
   "id": "c92a9589",
   "metadata": {},
   "source": [
    "### Collecting stored data\n",
    "After the simulation, we collect the model and agent data that are stored using the [Pandas](https://pandas.pydata.org/docs/getting_started/overview.html) `DataFrame` data structure."
   ]
  },
  {
   "cell_type": "code",
   "execution_count": 6,
   "id": "7e091d9b",
   "metadata": {},
   "outputs": [],
   "source": [
    "model_df = model.datacollector.get_model_vars_dataframe()\n",
    "agent_df = model.datacollector.get_agent_vars_dataframe()"
   ]
  },
  {
   "cell_type": "markdown",
   "id": "87416f03",
   "metadata": {},
   "source": [
    "We expose the data structures with use of the methods `head(n)` and `tail(n)` showing, respectively, the first and last *n* rows of the dataframe. A regular `print` statements can also be used."
   ]
  },
  {
   "cell_type": "code",
   "execution_count": 9,
   "id": "990fb99e",
   "metadata": {},
   "outputs": [
    {
     "data": {
      "text/html": [
       "<div>\n",
       "<style scoped>\n",
       "    .dataframe tbody tr th:only-of-type {\n",
       "        vertical-align: middle;\n",
       "    }\n",
       "\n",
       "    .dataframe tbody tr th {\n",
       "        vertical-align: top;\n",
       "    }\n",
       "\n",
       "    .dataframe thead th {\n",
       "        text-align: right;\n",
       "    }\n",
       "</style>\n",
       "<table border=\"1\" class=\"dataframe\">\n",
       "  <thead>\n",
       "    <tr style=\"text-align: right;\">\n",
       "      <th></th>\n",
       "      <th>Gini coefficient</th>\n",
       "    </tr>\n",
       "  </thead>\n",
       "  <tbody>\n",
       "    <tr>\n",
       "      <th>0</th>\n",
       "      <td>0.0000</td>\n",
       "    </tr>\n",
       "    <tr>\n",
       "      <th>1</th>\n",
       "      <td>0.3648</td>\n",
       "    </tr>\n",
       "    <tr>\n",
       "      <th>2</th>\n",
       "      <td>0.4968</td>\n",
       "    </tr>\n",
       "    <tr>\n",
       "      <th>3</th>\n",
       "      <td>0.5272</td>\n",
       "    </tr>\n",
       "    <tr>\n",
       "      <th>4</th>\n",
       "      <td>0.5800</td>\n",
       "    </tr>\n",
       "  </tbody>\n",
       "</table>\n",
       "</div>"
      ],
      "text/plain": [
       "   Gini coefficient\n",
       "0            0.0000\n",
       "1            0.3648\n",
       "2            0.4968\n",
       "3            0.5272\n",
       "4            0.5800"
      ]
     },
     "execution_count": 9,
     "metadata": {},
     "output_type": "execute_result"
    }
   ],
   "source": [
    "model_df.head(5)"
   ]
  },
  {
   "cell_type": "code",
   "execution_count": 12,
   "id": "1ef2a59a",
   "metadata": {},
   "outputs": [
    {
     "data": {
      "text/html": [
       "<div>\n",
       "<style scoped>\n",
       "    .dataframe tbody tr th:only-of-type {\n",
       "        vertical-align: middle;\n",
       "    }\n",
       "\n",
       "    .dataframe tbody tr th {\n",
       "        vertical-align: top;\n",
       "    }\n",
       "\n",
       "    .dataframe thead th {\n",
       "        text-align: right;\n",
       "    }\n",
       "</style>\n",
       "<table border=\"1\" class=\"dataframe\">\n",
       "  <thead>\n",
       "    <tr style=\"text-align: right;\">\n",
       "      <th></th>\n",
       "      <th></th>\n",
       "      <th>Wealth</th>\n",
       "    </tr>\n",
       "    <tr>\n",
       "      <th>Step</th>\n",
       "      <th>AgentID</th>\n",
       "      <th></th>\n",
       "    </tr>\n",
       "  </thead>\n",
       "  <tbody>\n",
       "    <tr>\n",
       "      <th rowspan=\"4\" valign=\"top\">99</th>\n",
       "      <th>46</th>\n",
       "      <td>0</td>\n",
       "    </tr>\n",
       "    <tr>\n",
       "      <th>47</th>\n",
       "      <td>2</td>\n",
       "    </tr>\n",
       "    <tr>\n",
       "      <th>48</th>\n",
       "      <td>3</td>\n",
       "    </tr>\n",
       "    <tr>\n",
       "      <th>49</th>\n",
       "      <td>0</td>\n",
       "    </tr>\n",
       "  </tbody>\n",
       "</table>\n",
       "</div>"
      ],
      "text/plain": [
       "              Wealth\n",
       "Step AgentID        \n",
       "99   46            0\n",
       "     47            2\n",
       "     48            3\n",
       "     49            0"
      ]
     },
     "execution_count": 12,
     "metadata": {},
     "output_type": "execute_result"
    }
   ],
   "source": [
    "agent_df.tail(4)"
   ]
  },
  {
   "cell_type": "code",
   "execution_count": 11,
   "id": "fa170231",
   "metadata": {},
   "outputs": [
    {
     "name": "stdout",
     "output_type": "stream",
     "text": [
      "              Wealth\n",
      "Step AgentID        \n",
      "0    0             1\n",
      "     1             1\n",
      "     2             1\n",
      "     3             1\n",
      "     4             1\n",
      "...              ...\n",
      "99   45            2\n",
      "     46            0\n",
      "     47            2\n",
      "     48            3\n",
      "     49            0\n",
      "\n",
      "[5000 rows x 1 columns]\n"
     ]
    }
   ],
   "source": [
    "print(agent_df)"
   ]
  },
  {
   "cell_type": "markdown",
   "id": "ca4acabe",
   "metadata": {},
   "source": [
    "### Plotting results"
   ]
  },
  {
   "cell_type": "code",
   "execution_count": 17,
   "id": "a418a53c",
   "metadata": {},
   "outputs": [
    {
     "data": {
      "image/png": "[encoded data removed]",
      "text/plain": [
       "<Figure size 432x288 with 1 Axes>"
      ]
     },
     "metadata": {
      "needs_background": "light"
     },
     "output_type": "display_data"
    }
   ],
   "source": [
    "import matplotlib.pyplot as plt\n",
    "\n",
    "model_df.plot(color='r', lw=2)\n",
    "\n",
    "plt.ylabel('Gini coefficient')\n",
    "plt.xlabel('Time step')\n",
    "plt.grid('on')\n",
    "plt.setp(plt.gca(), xlim=(-1,100), ylim=(0,1))\n",
    "\n",
    "plt.show()"
   ]
  },
  {
   "cell_type": "code",
   "execution_count": 31,
   "id": "159def8e",
   "metadata": {
    "scrolled": true
   },
   "outputs": [
    {
     "data": {
      "image/png": "[encoded data removed]",
      "text/plain": [
       "<Figure size 432x288 with 1 Axes>"
      ]
     },
     "metadata": {
      "needs_background": "light"
     },
     "output_type": "display_data"
    }
   ],
   "source": [
    "# extract a cross section of the dataframe for the final time step\n",
    "final_wealth_df = agent_df.xs(99, level='Step')\n",
    "# find the maximum value and convert to integer\n",
    "max_wealth = int(final_wealth_df.max())\n",
    "\n",
    "final_wealth_df.hist(bins=range(max_wealth + 2))\n",
    "\n",
    "plt.title('Wealth distribution')\n",
    "plt.ylabel('Number agents')\n",
    "plt.xlabel('Wealth')\n",
    "plt.setp(plt.gca(), ylim=(0,30), yticks=range(0,31,2))\n",
    "\n",
    "plt.show()"
   ]
  },
  {
   "cell_type": "markdown",
   "id": "48b8c966",
   "metadata": {},
   "source": [
    "Let us find the agent that accumulated maximum wealth and the time step at which this occured."
   ]
  },
  {
   "cell_type": "code",
   "execution_count": 69,
   "id": "7e630c78",
   "metadata": {},
   "outputs": [
    {
     "name": "stdout",
     "output_type": "stream",
     "text": [
      "Agent: 17\n",
      "Step: 90\n"
     ]
    }
   ],
   "source": [
    "step_idx, agent_idx = agent_df.idxmax()[0]\n",
    "\n",
    "print('Agent:', agent_idx)\n",
    "print('Step:', step_idx)"
   ]
  },
  {
   "cell_type": "markdown",
   "id": "08265605",
   "metadata": {},
   "source": [
    "Let us plot the time series of wealth for this agent."
   ]
  },
  {
   "cell_type": "code",
   "execution_count": 78,
   "id": "d91b5ba6",
   "metadata": {},
   "outputs": [
    {
     "data": {
      "image/png": "[encoded data removed]",
      "text/plain": [
       "<Figure size 432x288 with 1 Axes>"
      ]
     },
     "metadata": {
      "needs_background": "light"
     },
     "output_type": "display_data"
    }
   ],
   "source": [
    "one_agent_wealth_df = agent_df.xs(agent_idx, level='AgentID')\n",
    "max_wealth = int(one_agent_wealth_df.max())\n",
    "\n",
    "one_agent_wealth_df.plot(lw=2, color='b')\n",
    "\n",
    "plt.ylabel(f'Wealth of Agent {agent_idx}')\n",
    "plt.xlabel('Time step')\n",
    "\n",
    "plt.grid('on')\n",
    "plt.setp(plt.gca(), xlim=(0,100), xticks=range(0,101,10), \n",
    "         ylim=(0, max_wealth + 2), yticks=range(max_wealth + 2))\n",
    "\n",
    "plt.show()"
   ]
  }
 ],
 "metadata": {
  "kernelspec": {
   "display_name": "Python 3",
   "language": "python",
   "name": "python3"
  },
  "language_info": {
   "codemirror_mode": {
    "name": "ipython",
    "version": 3
   },
   "file_extension": ".py",
   "mimetype": "text/x-python",
   "name": "python",
   "nbconvert_exporter": "python",
   "pygments_lexer": "ipython3",
   "version": "3.9.5"
  }
 },
 "nbformat": 4,
 "nbformat_minor": 5
}
