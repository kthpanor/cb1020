{
 "cells": [
  {
   "cell_type": "markdown",
   "id": "5778b5f9",
   "metadata": {},
   "source": [
    "# Python for this course\n",
    "\n",
    "## Motivation\n",
    "\n",
    "[Python](https://en.wikipedia.org/wiki/Python_(programming_language)) has developed into an (almost) indispensable tool in computational and engineering sciences.\n",
    "\n",
    "Python offers an intuitive syntax with a high degree of code readability and it is used for everything from simple scripting and fast prototyping to large-scale projects.\n",
    "\n",
    "Python is open source and free for use and distribution. It is available for all relevant platforms, including\n",
    "\n",
    "- Linux\n",
    "- MacOS\n",
    "- Windows"
   ]
  },
  {
   "cell_type": "markdown",
   "id": "544a2193",
   "metadata": {},
   "source": [
    "## Important modules\n",
    "\n",
    "Python code is typically written in the form of functions that are stored in libraries (or *modules*) and made available with the `import` statement. \n",
    "\n",
    "Modules of specific concern in this course include\n",
    "\n",
    "- [NumPy](https://numpy.org/doc/stable/user/absolute_beginners.html) introduces multi-dimensional arrays and provides efficient array operations\n",
    "- [SciPy](https://docs.scipy.org/doc/scipy/reference/tutorial/general.html) provides mathematical algorithms and convenience functions built on NumPy\n",
    "- [Matplotlib](https://matplotlib.org/stable/users/index.html) is a visualization library in Python for plotting arrays\n",
    "- [Pandas](https://pandas.pydata.org/docs/getting_started/overview.html) is a flexible data analysis/manipulation tool\n",
    "- [Mesa](https://mesa.readthedocs.io/en/stable/) enables agent-based modeling in Python"
   ]
  },
  {
   "cell_type": "markdown",
   "id": "85243444",
   "metadata": {},
   "source": [
    "## Documentation\n",
    "\n",
    "The amount of Python documentation is vast and so is the community of module contributers. If you are in search of the solution to an isolated task or  problem, there is a great chance that someone has contributed an efficient and stable implementation on the web.\n",
    "\n",
    "- If you are new to Python, it can be a good idea to first read one of the several books available to get a coherent introduction. A recommended choice is the book titled *A Whirlwind Tour of Python* authored by Jake VanderPlas as it provides a short, clear, and to-the-point presentation {cite}`VanderPlas2016`.\n",
    "\n",
    "- If you have some experience and rather benefit from a more reference-oriented documentation, a recommended source is [W3Schools](https://www.w3schools.com/python/python_intro.asp)."
   ]
  },
  {
   "cell_type": "markdown",
   "id": "9d3f1e74",
   "metadata": {},
   "source": [
    "## Some necessities"
   ]
  },
  {
   "cell_type": "markdown",
   "id": "91906288",
   "metadata": {},
   "source": [
    "### Iterations\n",
    "A `for` loop is used for iterating over a sequence (that is either a list, a tuple, a dictionary, a set, or a string).\n",
    "\n",
    "A \"standard\" loop is accomplished with the `range` function. The `range` function returns a sequence of numbers, starting from 0 by default, and increments by 1 (by default), and ends at a specified number."
   ]
  },
  {
   "cell_type": "code",
   "execution_count": 37,
   "id": "28eaf8f6",
   "metadata": {},
   "outputs": [
    {
     "name": "stdout",
     "output_type": "stream",
     "text": [
      "0\n",
      "1\n",
      "2\n",
      "3\n",
      "4\n"
     ]
    }
   ],
   "source": [
    "for i in range(5):\n",
    "    print(i)"
   ]
  },
  {
   "cell_type": "markdown",
   "id": "597d7029",
   "metadata": {},
   "source": [
    "### Data types\n",
    "Basic Python data types include `integer`, `float`, `list`, and `dictionary`. "
   ]
  },
  {
   "cell_type": "code",
   "execution_count": 38,
   "id": "73442126",
   "metadata": {},
   "outputs": [
    {
     "name": "stdout",
     "output_type": "stream",
     "text": [
      "Elements in list:\n",
      "0 3.1415 3.1415\n",
      "1 [1, 2, 3] [1, 2, 3]\n",
      "Elements in dictionary:\n",
      "Key, value: first text\n",
      "Key, value: second [3.1415, [1, 2, 3]]\n"
     ]
    }
   ],
   "source": [
    "i = 10     # integer\n",
    "x = 3.1415 # float\n",
    "s = 'text' # string\n",
    "\n",
    "a_list = [x, [1,2,3]] # list\n",
    "b_dict = {'first': s, 'second': a_list} # dictonary\n",
    "\n",
    "print('Elements in list:')\n",
    "for i, a in enumerate(a_list):\n",
    "    print(i, a, a_list[i])\n",
    "\n",
    "print('Elements in dictionary:')\n",
    "for key in b_dict.keys():\n",
    "    print('Key, value:', key, b_dict[key])"
   ]
  },
  {
   "cell_type": "markdown",
   "id": "503cabd7",
   "metadata": {},
   "source": [
    "The object type is revealed by the `type` function."
   ]
  },
  {
   "cell_type": "code",
   "execution_count": 39,
   "id": "5b1715c3",
   "metadata": {},
   "outputs": [
    {
     "data": {
      "text/plain": [
       "list"
      ]
     },
     "execution_count": 39,
     "metadata": {},
     "output_type": "execute_result"
    }
   ],
   "source": [
    "type(a_list)"
   ]
  },
  {
   "cell_type": "markdown",
   "id": "37a3b7b3",
   "metadata": {},
   "source": [
    "```{note}\n",
    "A Python `list` with $N$ elements is indexed from 0 to $(N-1)$.\n",
    "```"
   ]
  },
  {
   "cell_type": "markdown",
   "id": "04e45fd3",
   "metadata": {},
   "source": [
    "###  Arrays\n",
    "\n",
    "Arrays (such as vectors and matrices) should be represented as objects of the NumPy `ndarray` class. [Array creation](https://numpy.org/doc/stable/user/basics.creation.html) can be performed in numerous ways. Two ways to create a NumPy `array` from a Python `list` are given below."
   ]
  },
  {
   "cell_type": "code",
   "execution_count": 40,
   "id": "c529b6f1",
   "metadata": {},
   "outputs": [
    {
     "name": "stdout",
     "output_type": "stream",
     "text": [
      "Alternative 1:\n",
      " [[1 2 3]\n",
      " [4 5 6]\n",
      " [7 8 9]]\n",
      "Alternative 2:\n",
      " [[1 2 3]\n",
      " [4 5 6]\n",
      " [7 8 9]]\n"
     ]
    }
   ],
   "source": [
    "import numpy as np\n",
    "\n",
    "a = np.array([[1,2,3],[4,5,6],[7,8,9]])\n",
    "print('Alternative 1:\\n', a)\n",
    "\n",
    "a = np.array([1,2,3,4,5,6,7,8,9]).reshape((3,3))\n",
    "print('Alternative 2:\\n', a)"
   ]
  },
  {
   "cell_type": "markdown",
   "id": "6a62c2eb",
   "metadata": {},
   "source": [
    "There are several predeifined arrays, all available for different data types."
   ]
  },
  {
   "cell_type": "code",
   "execution_count": 41,
   "id": "23b741b9",
   "metadata": {},
   "outputs": [
    {
     "name": "stdout",
     "output_type": "stream",
     "text": [
      "Zero matrix:\n",
      " [[0 0 0]\n",
      " [0 0 0]\n",
      " [0 0 0]]\n",
      "One matrix:\n",
      " [[1. 1. 1.]\n",
      " [1. 1. 1.]\n",
      " [1. 1. 1.]]\n",
      "Identity matrix:\n",
      " [[1.+0.j 0.+0.j 0.+0.j]\n",
      " [0.+0.j 1.+0.j 0.+0.j]\n",
      " [0.+0.j 0.+0.j 1.+0.j]]\n"
     ]
    }
   ],
   "source": [
    "a = np.zeros((3,3), dtype='int')\n",
    "print('Zero matrix:\\n', a)\n",
    "\n",
    "a = np.ones((3,3), dtype='float')\n",
    "print('One matrix:\\n', a)\n",
    "\n",
    "a = np.identity(3, dtype='complex')\n",
    "print('Identity matrix:\\n', a)"
   ]
  },
  {
   "cell_type": "markdown",
   "id": "a580889d",
   "metadata": {},
   "source": [
    "### Array operations\n",
    "\n",
    "Array operations should be performed with NumPy routines. The NumPy array operation routines are based on optimized libraries that enable multi-thread execution with use of [OpenMP](https://en.wikipedia.org/wiki/OpenMP). On a computer equipped with an Intel processor, the underlying library for NumPy is normally chosen as the [Math Kernel Library (MKL)](https://en.wikipedia.org/wiki/Math_Kernel_Library). Never feel tempted to use `for` loops as the performance is tyically orders of magnitude slower. The two most important Numpy array operations are\n",
    "\n",
    "- `dot(a,b)`: [vector dot product](https://numpy.org/doc/stable/reference/generated/numpy.dot.html)\n",
    "- `matmul(a,b)`: [matrix mulitplication](https://numpy.org/doc/stable/reference/generated/numpy.matmul.html)\n",
    "\n",
    "A comparison of the use of `matmul` and `for` loops for the multiplication of two matrices of dimension 100$\\times$100 shows the following execution times (in ms)."
   ]
  },
  {
   "cell_type": "code",
   "execution_count": 42,
   "id": "b79633ec",
   "metadata": {},
   "outputs": [
    {
     "name": "stdout",
     "output_type": "stream",
     "text": [
      "  matmul:    13.4637 (ms)\n",
      "for loop:   505.4278 (ms)\n"
     ]
    }
   ],
   "source": [
    "import time\n",
    "\n",
    "# Fixing random state for reproducibility\n",
    "np.random.seed(20210802)\n",
    "\n",
    "N = 100\n",
    "\n",
    "a = np.random.rand(N*N).reshape((N,N))\n",
    "b = np.random.rand(N*N).reshape((N,N))\n",
    "\n",
    "ti = time.time()\n",
    "\n",
    "c = np.matmul(a,b)\n",
    "\n",
    "tf = time.time()\n",
    "\n",
    "print(f'  matmul: {(tf - ti) * 1000:10.4f} (ms)')\n",
    "\n",
    "ti = time.time()\n",
    "\n",
    "for i in range(N):\n",
    "    for j in range(N):\n",
    "        for k in range(N):\n",
    "            c[i,j] = a[i,k] * b[k,j]\n",
    "\n",
    "tf = time.time()\n",
    "\n",
    "print(f'for loop: {(tf - ti) * 1000:10.4f} (ms)')"
   ]
  },
  {
   "cell_type": "markdown",
   "id": "53f7265a",
   "metadata": {},
   "source": [
    "## Example\n",
    "\n",
    "Let us use `NumPy` to generate an array of random numbers distributed according to the Gaussian distribution\n",
    "\n",
    "$$\n",
    "f(x) = \\frac{1}{\\sqrt{2\\pi\\sigma^2}}\n",
    "e^{-(x-\\mu)^2 / (2\\sigma^2)}\n",
    "$$"
   ]
  },
  {
   "cell_type": "code",
   "execution_count": 43,
   "id": "849c5920",
   "metadata": {},
   "outputs": [
    {
     "name": "stdout",
     "output_type": "stream",
     "text": [
      "Object type: <class 'numpy.ndarray'>\n",
      "Number of values: 5000\n",
      "Mean value:  10.0002\n",
      "Standard deviation:  0.0996\n"
     ]
    }
   ],
   "source": [
    "import numpy as np\n",
    "\n",
    "# Fixing random state for reproducibility\n",
    "np.random.seed(20210722)\n",
    "\n",
    "mu, sigma = 10, 0.1 # mean and standard deviation\n",
    "s = np.random.normal(mu, sigma, 5000) # return a NumPy array\n",
    "\n",
    "print('Object type:', type(s))\n",
    "print('Number of values:', len(s))\n",
    "print(f'Mean value: {np.mean(s) : .4f}')\n",
    "print(f'Standard deviation: {np.std(s) : .4f}')"
   ]
  },
  {
   "cell_type": "markdown",
   "id": "24b0253a",
   "metadata": {},
   "source": [
    "We use `Matplotlib` to plot a histogram of the density distribution of the random numbers and compared it to the analytical Gaussian distribution function $f(x)$ given above."
   ]
  },
  {
   "cell_type": "code",
   "execution_count": 49,
   "id": "915b49e5",
   "metadata": {},
   "outputs": [
    {
     "data": {
      "image/png": "[encoded data removed]",
      "text/plain": [
       "<Figure size 432x288 with 1 Axes>"
      ]
     },
     "metadata": {
      "needs_background": "light"
     },
     "output_type": "display_data"
    }
   ],
   "source": [
    "import matplotlib.pyplot as plt\n",
    "\n",
    "counts, bins, patches = plt.hist(s, bins=50, range=(9.5,10.5), density=True)\n",
    "\n",
    "gaussian = 1 / ( sigma * np.sqrt(2 * np.pi) ) * \\\n",
    "            np.exp( - (bins - mu)**2 / (2 * sigma**2) )\n",
    "\n",
    "plt.plot(bins, gaussian, linewidth=2, color='r')\n",
    "\n",
    "plt.grid(True)\n",
    "plt.setp(plt.gca(), xlim=(9.5,10.5), ylim=(0,4.5))\n",
    "plt.title('Normal distribution of pseudo random numbers')\n",
    "plt.xlabel(r'$x$')\n",
    "plt.ylabel(r'$f(x)$')\n",
    "\n",
    "# save the figure in your favorite format\n",
    "#plt.savefig('figname.pdf')\n",
    "#plt.savefig('figname.png')\n",
    "\n",
    "plt.show()"
   ]
  },
  {
   "cell_type": "markdown",
   "id": "e526fe83",
   "metadata": {},
   "source": [
    "## Python help function\n",
    "\n",
    "The Python `help` function is used to display the documentation of modules, functions, classes, keywords etc."
   ]
  },
  {
   "cell_type": "code",
   "execution_count": 46,
   "id": "f0a51cbd",
   "metadata": {},
   "outputs": [
    {
     "name": "stdout",
     "output_type": "stream",
     "text": [
      "Help on function hist in module matplotlib.pyplot:\n",
      "\n",
      "hist(x, bins=None, range=None, density=False, weights=None, cumulative=False, bottom=None, histtype='bar', align='mid', orientation='vertical', rwidth=None, log=False, color=None, label=None, stacked=False, *, data=None, **kwargs)\n",
      "    Plot a histogram.\n",
      "    \n",
      "    Compute and draw the histogram of *x*.  The return value is a tuple\n",
      "    (*n*, *bins*, *patches*) or ([*n0*, *n1*, ...], *bins*, [*patches0*,\n",
      "    *patches1*, ...]) if the input contains multiple data.  See the\n",
      "    documentation of the *weights* parameter to draw a histogram of\n",
      "    already-binned data.\n",
      "    \n",
      "    Multiple data can be provided via *x* as a list of datasets\n",
      "    of potentially different length ([*x0*, *x1*, ...]), or as\n",
      "    a 2-D ndarray in which each column is a dataset.  Note that\n",
      "    the ndarray form is transposed relative to the list form.\n",
      "    \n",
      "    Masked arrays are not supported.\n",
      "    \n",
      "    The *bins*, *range*, *weights*, and *density* parameters behave as in\n",
      "    `numpy.histogram`.\n",
      "    \n",
      "    Parameters\n",
      "    ----------\n",
      "    x : (n,) array or sequence of (n,) arrays\n",
      "        Input values, this takes either a single array or a sequence of\n",
      "        arrays which are not required to be of the same length.\n",
      "    \n",
      "    bins : int or sequence or str, default: :rc:`hist.bins`\n",
      "        If *bins* is an integer, it defines the number of equal-width bins\n",
      "        in the range.\n",
      "    \n",
      "        If *bins* is a sequence, it defines the bin edges, including the\n",
      "        left edge of the first bin and the right edge of the last bin;\n",
      "        in this case, bins may be unequally spaced.  All but the last\n",
      "        (righthand-most) bin is half-open.  In other words, if *bins* is::\n",
      "    \n",
      "            [1, 2, 3, 4]\n",
      "    \n",
      "        then the first bin is ``[1, 2)`` (including 1, but excluding 2) and\n",
      "        the second ``[2, 3)``.  The last bin, however, is ``[3, 4]``, which\n",
      "        *includes* 4.\n",
      "    \n",
      "        If *bins* is a string, it is one of the binning strategies\n",
      "        supported by `numpy.histogram_bin_edges`: 'auto', 'fd', 'doane',\n",
      "        'scott', 'stone', 'rice', 'sturges', or 'sqrt'.\n",
      "    \n",
      "    range : tuple or None, default: None\n",
      "        The lower and upper range of the bins. Lower and upper outliers\n",
      "        are ignored. If not provided, *range* is ``(x.min(), x.max())``.\n",
      "        Range has no effect if *bins* is a sequence.\n",
      "    \n",
      "        If *bins* is a sequence or *range* is specified, autoscaling\n",
      "        is based on the specified bin range instead of the\n",
      "        range of x.\n",
      "    \n",
      "    density : bool, default: False\n",
      "        If ``True``, draw and return a probability density: each bin\n",
      "        will display the bin's raw count divided by the total number of\n",
      "        counts *and the bin width*\n",
      "        (``density = counts / (sum(counts) * np.diff(bins))``),\n",
      "        so that the area under the histogram integrates to 1\n",
      "        (``np.sum(density * np.diff(bins)) == 1``).\n",
      "    \n",
      "        If *stacked* is also ``True``, the sum of the histograms is\n",
      "        normalized to 1.\n",
      "    \n",
      "    weights : (n,) array-like or None, default: None\n",
      "        An array of weights, of the same shape as *x*.  Each value in\n",
      "        *x* only contributes its associated weight towards the bin count\n",
      "        (instead of 1).  If *density* is ``True``, the weights are\n",
      "        normalized, so that the integral of the density over the range\n",
      "        remains 1.\n",
      "    \n",
      "        This parameter can be used to draw a histogram of data that has\n",
      "        already been binned, e.g. using `numpy.histogram` (by treating each\n",
      "        bin as a single point with a weight equal to its count) ::\n",
      "    \n",
      "            counts, bins = np.histogram(data)\n",
      "            plt.hist(bins[:-1], bins, weights=counts)\n",
      "    \n",
      "        (or you may alternatively use `~.bar()`).\n",
      "    \n",
      "    cumulative : bool or -1, default: False\n",
      "        If ``True``, then a histogram is computed where each bin gives the\n",
      "        counts in that bin plus all bins for smaller values. The last bin\n",
      "        gives the total number of datapoints.\n",
      "    \n",
      "        If *density* is also ``True`` then the histogram is normalized such\n",
      "        that the last bin equals 1.\n",
      "    \n",
      "        If *cumulative* is a number less than 0 (e.g., -1), the direction\n",
      "        of accumulation is reversed.  In this case, if *density* is also\n",
      "        ``True``, then the histogram is normalized such that the first bin\n",
      "        equals 1.\n",
      "    \n",
      "    bottom : array-like, scalar, or None, default: None\n",
      "        Location of the bottom of each bin, ie. bins are drawn from\n",
      "        ``bottom`` to ``bottom + hist(x, bins)`` If a scalar, the bottom\n",
      "        of each bin is shifted by the same amount. If an array, each bin\n",
      "        is shifted independently and the length of bottom must match the\n",
      "        number of bins. If None, defaults to 0.\n",
      "    \n",
      "    histtype : {'bar', 'barstacked', 'step', 'stepfilled'}, default: 'bar'\n",
      "        The type of histogram to draw.\n",
      "    \n",
      "        - 'bar' is a traditional bar-type histogram.  If multiple data\n",
      "          are given the bars are arranged side by side.\n",
      "        - 'barstacked' is a bar-type histogram where multiple\n",
      "          data are stacked on top of each other.\n",
      "        - 'step' generates a lineplot that is by default unfilled.\n",
      "        - 'stepfilled' generates a lineplot that is by default filled.\n",
      "    \n",
      "    align : {'left', 'mid', 'right'}, default: 'mid'\n",
      "        The horizontal alignment of the histogram bars.\n",
      "    \n",
      "        - 'left': bars are centered on the left bin edges.\n",
      "        - 'mid': bars are centered between the bin edges.\n",
      "        - 'right': bars are centered on the right bin edges.\n",
      "    \n",
      "    orientation : {'vertical', 'horizontal'}, default: 'vertical'\n",
      "        If 'horizontal', `~.Axes.barh` will be used for bar-type histograms\n",
      "        and the *bottom* kwarg will be the left edges.\n",
      "    \n",
      "    rwidth : float or None, default: None\n",
      "        The relative width of the bars as a fraction of the bin width.  If\n",
      "        ``None``, automatically compute the width.\n",
      "    \n",
      "        Ignored if *histtype* is 'step' or 'stepfilled'.\n",
      "    \n",
      "    log : bool, default: False\n",
      "        If ``True``, the histogram axis will be set to a log scale. If\n",
      "        *log* is ``True`` and *x* is a 1D array, empty bins will be\n",
      "        filtered out and only the non-empty ``(n, bins, patches)``\n",
      "        will be returned.\n",
      "    \n",
      "    color : color or array-like of colors or None, default: None\n",
      "        Color or sequence of colors, one per dataset.  Default (``None``)\n",
      "        uses the standard line color sequence.\n",
      "    \n",
      "    label : str or None, default: None\n",
      "        String, or sequence of strings to match multiple datasets.  Bar\n",
      "        charts yield multiple patches per dataset, but only the first gets\n",
      "        the label, so that `~.Axes.legend` will work as expected.\n",
      "    \n",
      "    stacked : bool, default: False\n",
      "        If ``True``, multiple data are stacked on top of each other If\n",
      "        ``False`` multiple data are arranged side by side if histtype is\n",
      "        'bar' or on top of each other if histtype is 'step'\n",
      "    \n",
      "    Returns\n",
      "    -------\n",
      "    n : array or list of arrays\n",
      "        The values of the histogram bins. See *density* and *weights* for a\n",
      "        description of the possible semantics.  If input *x* is an array,\n",
      "        then this is an array of length *nbins*. If input is a sequence of\n",
      "        arrays ``[data1, data2, ...]``, then this is a list of arrays with\n",
      "        the values of the histograms for each of the arrays in the same\n",
      "        order.  The dtype of the array *n* (or of its element arrays) will\n",
      "        always be float even if no weighting or normalization is used.\n",
      "    \n",
      "    bins : array\n",
      "        The edges of the bins. Length nbins + 1 (nbins left edges and right\n",
      "        edge of last bin).  Always a single array even when multiple data\n",
      "        sets are passed in.\n",
      "    \n",
      "    patches : `.BarContainer` or list of a single `.Polygon` or list of such objects\n",
      "        Container of individual artists used to create the histogram\n",
      "        or list of such containers if there are multiple input datasets.\n",
      "    \n",
      "    Other Parameters\n",
      "    ----------------\n",
      "    **kwargs\n",
      "        `~matplotlib.patches.Patch` properties\n",
      "    \n",
      "    See Also\n",
      "    --------\n",
      "    hist2d : 2D histograms\n",
      "    \n",
      "    Notes\n",
      "    -----\n",
      "    For large numbers of bins (>1000), 'step' and 'stepfilled' can be\n",
      "    significantly faster than 'bar' and 'barstacked'.\n",
      "    \n",
      "    .. note::\n",
      "        In addition to the above described arguments, this function can take\n",
      "        a *data* keyword argument. If such a *data* argument is given,\n",
      "        the following arguments can also be string ``s``, which is\n",
      "        interpreted as ``data[s]`` (unless this raises an exception):\n",
      "        *x*, *weights*.\n",
      "    \n",
      "        Objects passed as **data** must support item access (``data[s]``) and\n",
      "        membership test (``s in data``).\n",
      "\n"
     ]
    }
   ],
   "source": [
    "help(plt.hist)"
   ]
  },
  {
   "cell_type": "code",
   "execution_count": null,
   "id": "a5eb3d4d",
   "metadata": {},
   "outputs": [],
   "source": []
  }
 ],
 "metadata": {
  "kernelspec": {
   "display_name": "Python 3",
   "language": "python",
   "name": "python3"
  },
  "language_info": {
   "codemirror_mode": {
    "name": "ipython",
    "version": 3
   },
   "file_extension": ".py",
   "mimetype": "text/x-python",
   "name": "python",
   "nbconvert_exporter": "python",
   "pygments_lexer": "ipython3",
   "version": "3.9.5"
  }
 },
 "nbformat": 4,
 "nbformat_minor": 5
}
