{
 "cells": [
  {
   "cell_type": "markdown",
   "id": "c09d05df-368b-4326-9cb5-5f3a4235ef8f",
   "metadata": {},
   "source": [
    "(sec:pandas)=\n",
    "# Pandas"
   ]
  },
  {
   "cell_type": "code",
   "execution_count": 1,
   "id": "bb5729d8-4dea-4588-b173-4530e844562d",
   "metadata": {},
   "outputs": [],
   "source": [
    "import pandas as pd"
   ]
  },
  {
   "cell_type": "markdown",
   "id": "e3a75c91-b07a-46e3-b3ec-cb26229d509d",
   "metadata": {},
   "source": [
    "## Dataframes\n",
    "\n",
    "The [pandas](https://pandas.pydata.org/pandas-docs/stable/getting_started/index.html#getting-started) module is a powerful tool for data manipulation and analysis. Pandas allows for the import and export of data in several standard formats such as [comma-separatped values](https://en.wikipedia.org/wiki/Comma-separated_values) (.csv) and [Microsoft Excel](https://en.wikipedia.org/wiki/Microsoft_Excel) (.xls). If you are working with spreadsheets for data handling and would benefit from automatized ways to merge, reshape, select, clean, wrangle, plot, etc. your data, then you are likely to benefit from pandas. "
   ]
  },
  {
   "cell_type": "markdown",
   "id": "9bc2cb08-df52-423d-98bc-e0a4df4faf34",
   "metadata": {},
   "source": [
    "### Create dataframe from spreadsheet\n",
    "\n",
    "The most important class in pandas is `DataFrame`. An object of this class corresponds to a sheet in an Excel file. A dataframe can be constructed with the method `read.excel`:\n",
    "\n",
    "```\n",
    "pd.read_excel(\"path_to_file.xls\", sheet_name=\"Sheet1\")\n",
    "```"
   ]
  },
  {
   "cell_type": "markdown",
   "id": "da0180b1-3df6-4ee8-9837-2d438a62e69f",
   "metadata": {},
   "source": [
    "### Create dataframe from Python dictionary\n",
    "\n",
    "Dataframes can also be thought of as Python dictionaries and we can also create a dataframe from a Python dictonary."
   ]
  },
  {
   "cell_type": "code",
   "execution_count": 2,
   "id": "717e0ed5-83f3-4511-ac79-bc3425637bbf",
   "metadata": {},
   "outputs": [
    {
     "data": {
      "text/html": [
       "<div>\n",
       "<style scoped>\n",
       "    .dataframe tbody tr th:only-of-type {\n",
       "        vertical-align: middle;\n",
       "    }\n",
       "\n",
       "    .dataframe tbody tr th {\n",
       "        vertical-align: top;\n",
       "    }\n",
       "\n",
       "    .dataframe thead th {\n",
       "        text-align: right;\n",
       "    }\n",
       "</style>\n",
       "<table border=\"1\" class=\"dataframe\">\n",
       "  <thead>\n",
       "    <tr style=\"text-align: right;\">\n",
       "      <th></th>\n",
       "      <th>Name</th>\n",
       "      <th>Result</th>\n",
       "    </tr>\n",
       "  </thead>\n",
       "  <tbody>\n",
       "    <tr>\n",
       "      <th>0</th>\n",
       "      <td>Alice</td>\n",
       "      <td>33</td>\n",
       "    </tr>\n",
       "    <tr>\n",
       "      <th>1</th>\n",
       "      <td>Ceasar</td>\n",
       "      <td>25</td>\n",
       "    </tr>\n",
       "    <tr>\n",
       "      <th>2</th>\n",
       "      <td>David</td>\n",
       "      <td>18</td>\n",
       "    </tr>\n",
       "    <tr>\n",
       "      <th>3</th>\n",
       "      <td>Beatrice</td>\n",
       "      <td>22</td>\n",
       "    </tr>\n",
       "  </tbody>\n",
       "</table>\n",
       "</div>"
      ],
      "text/plain": [
       "       Name  Result\n",
       "0     Alice      33\n",
       "1    Ceasar      25\n",
       "2     David      18\n",
       "3  Beatrice      22"
      ]
     },
     "execution_count": 2,
     "metadata": {},
     "output_type": "execute_result"
    }
   ],
   "source": [
    "results = {\"Name\": [\"Alice\", \"Ceasar\", \"David\", \"Beatrice\"], \"Result\": [33, 25, 18, 22]}\n",
    "\n",
    "# create dataframe\n",
    "df = pd.DataFrame(results)\n",
    "\n",
    "# display the 5 first lines\n",
    "df.head(5)"
   ]
  },
  {
   "cell_type": "markdown",
   "id": "d2c6878e-431a-4683-b77b-9603860431c9",
   "metadata": {},
   "source": [
    "### Manipulate data\n",
    "\n",
    "We can sort the dataframe by a certain column."
   ]
  },
  {
   "cell_type": "code",
   "execution_count": 3,
   "id": "9a3b91ed-75ae-4d69-89ef-7b8b6ddd08aa",
   "metadata": {},
   "outputs": [
    {
     "data": {
      "text/html": [
       "<div>\n",
       "<style scoped>\n",
       "    .dataframe tbody tr th:only-of-type {\n",
       "        vertical-align: middle;\n",
       "    }\n",
       "\n",
       "    .dataframe tbody tr th {\n",
       "        vertical-align: top;\n",
       "    }\n",
       "\n",
       "    .dataframe thead th {\n",
       "        text-align: right;\n",
       "    }\n",
       "</style>\n",
       "<table border=\"1\" class=\"dataframe\">\n",
       "  <thead>\n",
       "    <tr style=\"text-align: right;\">\n",
       "      <th></th>\n",
       "      <th>Name</th>\n",
       "      <th>Result</th>\n",
       "    </tr>\n",
       "  </thead>\n",
       "  <tbody>\n",
       "    <tr>\n",
       "      <th>0</th>\n",
       "      <td>Alice</td>\n",
       "      <td>33</td>\n",
       "    </tr>\n",
       "    <tr>\n",
       "      <th>3</th>\n",
       "      <td>Beatrice</td>\n",
       "      <td>22</td>\n",
       "    </tr>\n",
       "    <tr>\n",
       "      <th>1</th>\n",
       "      <td>Ceasar</td>\n",
       "      <td>25</td>\n",
       "    </tr>\n",
       "    <tr>\n",
       "      <th>2</th>\n",
       "      <td>David</td>\n",
       "      <td>18</td>\n",
       "    </tr>\n",
       "  </tbody>\n",
       "</table>\n",
       "</div>"
      ],
      "text/plain": [
       "       Name  Result\n",
       "0     Alice      33\n",
       "3  Beatrice      22\n",
       "1    Ceasar      25\n",
       "2     David      18"
      ]
     },
     "execution_count": 3,
     "metadata": {},
     "output_type": "execute_result"
    }
   ],
   "source": [
    "df.sort_values(by=\"Name\", ascending=True)"
   ]
  },
  {
   "cell_type": "markdown",
   "id": "5b4d770a-ff1e-4a4b-b574-d0117ccbf0f3",
   "metadata": {},
   "source": [
    "### Analyse data\n",
    "\n",
    "We can list a selection of elements in the dataframe, say those students that passed the examination point limit."
   ]
  },
  {
   "cell_type": "code",
   "execution_count": 4,
   "id": "53f5bbfe-4383-4810-a06a-562c5237f4fd",
   "metadata": {},
   "outputs": [
    {
     "data": {
      "text/html": [
       "<div>\n",
       "<style scoped>\n",
       "    .dataframe tbody tr th:only-of-type {\n",
       "        vertical-align: middle;\n",
       "    }\n",
       "\n",
       "    .dataframe tbody tr th {\n",
       "        vertical-align: top;\n",
       "    }\n",
       "\n",
       "    .dataframe thead th {\n",
       "        text-align: right;\n",
       "    }\n",
       "</style>\n",
       "<table border=\"1\" class=\"dataframe\">\n",
       "  <thead>\n",
       "    <tr style=\"text-align: right;\">\n",
       "      <th></th>\n",
       "      <th>Name</th>\n",
       "      <th>Result</th>\n",
       "    </tr>\n",
       "  </thead>\n",
       "  <tbody>\n",
       "    <tr>\n",
       "      <th>0</th>\n",
       "      <td>Alice</td>\n",
       "      <td>33</td>\n",
       "    </tr>\n",
       "    <tr>\n",
       "      <th>1</th>\n",
       "      <td>Ceasar</td>\n",
       "      <td>25</td>\n",
       "    </tr>\n",
       "    <tr>\n",
       "      <th>3</th>\n",
       "      <td>Beatrice</td>\n",
       "      <td>22</td>\n",
       "    </tr>\n",
       "  </tbody>\n",
       "</table>\n",
       "</div>"
      ],
      "text/plain": [
       "       Name  Result\n",
       "0     Alice      33\n",
       "1    Ceasar      25\n",
       "3  Beatrice      22"
      ]
     },
     "execution_count": 4,
     "metadata": {},
     "output_type": "execute_result"
    }
   ],
   "source": [
    "df[df[\"Result\"] > 20]"
   ]
  },
  {
   "cell_type": "markdown",
   "id": "924572c4-3858-474b-9faa-8e4a5fc2abb0",
   "metadata": {},
   "source": [
    "We can perform statistical anlyses on the dataframe."
   ]
  },
  {
   "cell_type": "code",
   "execution_count": 5,
   "id": "6cf2fcc2-fc98-4fce-86f3-de441de47b0d",
   "metadata": {},
   "outputs": [
    {
     "name": "stdout",
     "output_type": "stream",
     "text": [
      "Averaged result is equal to 24.5 points.\n"
     ]
    }
   ],
   "source": [
    "print(\"Averaged result is equal to\", df[\"Result\"].mean(), \"points.\")"
   ]
  },
  {
   "cell_type": "code",
   "execution_count": 6,
   "id": "8a0d97be-b2cd-4f62-a9c6-abac03ca2741",
   "metadata": {},
   "outputs": [
    {
     "data": {
      "text/plain": [
       "count     4.000000\n",
       "mean     24.500000\n",
       "std       6.350853\n",
       "min      18.000000\n",
       "25%      21.000000\n",
       "50%      23.500000\n",
       "75%      27.000000\n",
       "max      33.000000\n",
       "Name: Result, dtype: float64"
      ]
     },
     "execution_count": 6,
     "metadata": {},
     "output_type": "execute_result"
    }
   ],
   "source": [
    "df[\"Result\"].describe()"
   ]
  },
  {
   "cell_type": "markdown",
   "id": "a6a15288-de31-408b-a61b-1ffa599f835b",
   "metadata": {},
   "source": [
    "### Plot data\n",
    "We can plot the data in the dataframe. Pandas has built-in [dataframe plot functionality](https://pandas.pydata.org/docs/reference/api/pandas.DataFrame.plot.html) using [matplotlib](https://matplotlib.org/) as the underlying plot engine, so you can also import `matplotlib.pyplot` for additional plot control."
   ]
  },
  {
   "cell_type": "code",
   "execution_count": 7,
   "id": "5051f93b-6dcd-4b6f-bc78-0e8cc467b2e1",
   "metadata": {},
   "outputs": [
    {
     "data": {
      "image/png": "[encoded data removed]",
      "text/plain": [
       "<Figure size 640x480 with 1 Axes>"
      ]
     },
     "metadata": {},
     "output_type": "display_data"
    }
   ],
   "source": [
    "import matplotlib.pyplot as plt\n",
    "\n",
    "df.plot(x=\"Name\", y=\"Result\", kind=\"bar\", ylabel=\"Points on exam\")\n",
    "\n",
    "plt.setp(plt.gca(), xticklabels=list(df[\"Name\"]))\n",
    "plt.axhline(20, color=\"lightgrey\")\n",
    "plt.show()"
   ]
  }
 ],
 "metadata": {
  "kernelspec": {
   "display_name": "Python 3 (ipykernel)",
   "language": "python",
   "name": "python3"
  },
  "language_info": {
   "codemirror_mode": {
    "name": "ipython",
    "version": 3
   },
   "file_extension": ".py",
   "mimetype": "text/x-python",
   "name": "python",
   "nbconvert_exporter": "python",
   "pygments_lexer": "ipython3",
   "version": "3.11.8"
  }
 },
 "nbformat": 4,
 "nbformat_minor": 5
}
