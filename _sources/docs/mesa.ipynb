{
 "cells": [
  {
   "cell_type": "markdown",
   "id": "bb5c930b-5a79-4e34-b320-f93a319c5990",
   "metadata": {},
   "source": [
    "(sec:mesa)=\n",
    "\n",
    "# Mesa\n",
    "[Mesa](https://mesa.readthedocs.io/en/stable/overview.html) is a Python-based framework for agent-based modeling (ABM). It offers built-in core components from which one can quickly setup and customize the implementation of an ABM. Furthermore, Mesa has built-in tools for data collection and analysis of the results obtained from the ABM simulations. \n",
    "\n",
    "Mesacontains three categories of modules:\n",
    "\n",
    "1. **Modeling**: Modules used to build the models themselves: a model and agent classes, a scheduler to determine the sequence in which the agents act, and space for them to move around on.\n",
    "\n",
    "2. **Analysis**: Tools to collect data generated from your model, or to run it multiple times with different parameter values.\n",
    "\n",
    "3. **Visualization**: Classes to create and launch an interactive model visualization, using a server with a JavaScript interface."
   ]
  },
  {
   "cell_type": "markdown",
   "id": "b1329e35-f3f4-4e5f-8af7-49376434fa40",
   "metadata": {},
   "source": [
    "```{admonition} Installed version\n",
    ":class: note\n",
    "\n",
    "The version of Mesa installed via `conda install` is not up-to-date with the latest release. For some functionalities, it might be necessary to install Mesa with `pip install - U mesa` (*still inside your `cb1020 conda` environment*)\n",
    "```"
   ]
  }
 ],
 "metadata": {
  "kernelspec": {
   "display_name": "Python 3 (ipykernel)",
   "language": "python",
   "name": "python3"
  },
  "language_info": {
   "codemirror_mode": {
    "name": "ipython",
    "version": 3
   },
   "file_extension": ".py",
   "mimetype": "text/x-python",
   "name": "python",
   "nbconvert_exporter": "python",
   "pygments_lexer": "ipython3",
   "version": "3.11.8"
  }
 },
 "nbformat": 4,
 "nbformat_minor": 5
}
