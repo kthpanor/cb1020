{
 "cells": [
  {
   "cell_type": "markdown",
   "id": "852f4d4a-054b-4c26-9e2f-1f3a8a49cfe1",
   "metadata": {},
   "source": [
    "# Project work\n",
    "\n",
    "The *project work form* is omnipresent in industri and academia alike, making it an expected and all but required skill in every engineer. Thus, it makes good sense to develop this skillset already as a student and as a training ground we will use *problem-based learning* in our studies of the cross-disciplinary topic of mathematical modeling. An excellent guide to project work is the book titled *\"Projektarbete: En vägledning för studenter\"* by Andersen and Schwencke {cite}`Andersen2013`. A readthrough of this book is well invested time and will provide genreric, valuable, knowhow for future work.\n",
    "\n",
    "## Project proposals\n",
    "\n",
    "1. **Interactions Between Organisms and Their Environment** <br> \n",
    "An ecosystem is a group of interacting living and nonliving elements. Every real organism sits in such a mixture of living and nonliving elements, interacting with them all at once. A famous biologist, Barry Commoner, has summed this up with the observation that “Everything is connected to everything else.\" Living components of an organism’s environment include those organisms that it eats, those that eat it, those that exchange diseases and parasites with it, and those that try to occupy its space. Chapters 3 and 4 in the course book by Herod and Shonkwiler {cite}`Shonkwiler2009` serve as an introduction.\n",
    "\n",
    "2. **Diffusion and membrane transport** <br>\n",
    "Many biological phenomena, at all levels of organization, can be modeled by treating them as random processes, behaving much like the diffusion of ink in a container of water. The transmembrane movement of the normal water-soluble compounds of cellular metabolism is regulated by large biochemical molecules that span the membrane. They are called permeases, or transport proteins. Permeases have the ability to select the materials that cross a membrane. Chapter 6 in the course book by Herod and Shonkwiler {cite}`Shonkwiler2009` serves as an introduction. \n",
    "\n",
    "3. **Communication and signaling in organisms** <br>\n",
    "Neurons are separated by a synaptic cleft, and interneuronal transmission of information is chemically mediated. An action potential in a presynaptic neuron triggers the release of a neurotransmitter chemical that diffuses to the postsynaptic cell. The sum of all the excitatory and inhibitory neurotransmitters that reach a postsynaptic cell in a short period of time determines whether a new action potential is generated. Chapter 7 in the course book by Herod and Shonkwiler {cite}`Shonkwiler2009` serves as an introduction.\n",
    "\n",
    "4. **Enzyme kinetics** <br>\n",
    "Enzymes serve to catalyze reactions in living systems, enabling complex chemical transformations to occur at moderate temperatures, many times faster than their uncatalyzed counterparts. Proteins, serving as the catalysts, are first used and then regenerated in a multistep process. Overall, the simplest enzyme-catalyzed reactions transform the enzyme’s specific substrate into product, possibly with the release of a by-product. Referred to as enzyme saturation, these reactions are typically rate limited by the amount of enzyme itself. Chapter 8 in the course book by Herod and Shonkwiler {cite}`Shonkwiler2009` serves as an introduction.\n",
    "\n",
    "5. **Uptake of lead in mammals** <br>\n",
    "While lead interacts differently with the various tissues of the body, as a first approximation we need only distinguish three tissue types: bone, blood, and the other soft tissue of the body. Bone tends to take up lead slowly but retain it for very long periods of time, in contrast to soft tissue, other than blood, in which the turnover of lead is much quicker. Blood is the transport agent of the metal. The disposition of lead in the body can be followed as a three-compartment system by tracking its movement into and out of these three tissue types. Chapter 9 in the course book by Herod and Shonkwiler {cite}`Shonkwiler2009` serves as an introduction.\n",
    "\n",
    "6. **T-cell infection by HIV** <br>\n",
    "You could think of a question related to HIV infection and treatment, introducing three types of T-cells (normal, latent and active) and the virus to model as particles that interact according to rules that are similar to real life. Chapter 10 in the course book by Herod and Shonkwiler {cite}`Shonkwiler2009` serves as an introduction.\n",
    "\n",
    "7. **Other project** <br>\n",
    "Feel free to design a project on a different topic of your interest. You may find inspiration in any of the other chapters of the course book by Herod and Shonkwiler {cite}`Shonkwiler2009` or from any other source such as the reviews written by Bailey {cite}`Bailey1998` and Cvijovic *et al.* {cite}`Cvijovic2011`.\n"
   ]
  },
  {
   "cell_type": "code",
   "execution_count": null,
   "id": "139246fd-035c-400f-8af9-a803e56f7bff",
   "metadata": {},
   "outputs": [],
   "source": []
  }
 ],
 "metadata": {
  "kernelspec": {
   "display_name": "Python 3 (ipykernel)",
   "language": "python",
   "name": "python3"
  },
  "language_info": {
   "codemirror_mode": {
    "name": "ipython",
    "version": 3
   },
   "file_extension": ".py",
   "mimetype": "text/x-python",
   "name": "python",
   "nbconvert_exporter": "python",
   "pygments_lexer": "ipython3",
   "version": "3.9.7"
  }
 },
 "nbformat": 4,
 "nbformat_minor": 5
}
