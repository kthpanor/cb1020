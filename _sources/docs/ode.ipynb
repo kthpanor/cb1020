{
 "cells": [
  {
   "cell_type": "markdown",
   "id": "81046d44",
   "metadata": {},
   "source": [
    "#  Differential equations\n",
    "\n",
    "An equation relating one or more functions (or state variables) and their derivatives is known as a *differential equation*. They play a prominent role in natural sciences and engineering as exemplified by the heat equation\n",
    "\n",
    "$$\n",
    "\\frac{\\partial u}{\\partial t} =\n",
    "\\alpha \\Big(\n",
    "\\frac{\\partial^2 u}{\\partial x^2} +\n",
    "\\frac{\\partial^2 u}{\\partial y^2} +\n",
    "\\frac{\\partial^2 u}{\\partial z^2}\n",
    "\\Big)\n",
    "$$\n",
    "\n",
    "where $u(x,y,z,t)$ is the temperature at point $\\mathbf{r} = (x,y,z)$ at time $t$ and $\\alpha$ is a positive constant known as the thermal diffusivity of the medium."
   ]
  },
  {
   "cell_type": "markdown",
   "id": "3c880161",
   "metadata": {
    "slideshow": {
     "slide_type": "subslide"
    }
   },
   "source": [
    "## Finite difference method (FDM)\n",
    "\n",
    "Numerical solutions are obtained by discretizing the functions in space and time and approximating derivatives with finite differences, e.g.,\n",
    "\n",
    "$$\n",
    "\\frac{\\partial u}{\\partial t} \\approx\n",
    "\\frac{u(t + \\Delta t) - u(t)}{\\Delta t} \n",
    "$$\n",
    "\n",
    "and\n",
    "\n",
    "\\begin{align*}\n",
    "\\frac{\\partial^2 u}{\\partial x^2} & \\approx\n",
    "\\Big(\n",
    "\\frac{u(x + \\Delta x) - u(x)}{\\Delta x} \n",
    "-\n",
    "\\frac{u(x) - u(x - \\Delta x)}{\\Delta x}  \n",
    "\\Big) / \\Delta x\n",
    "\\\\ & =\n",
    "\\frac{u(x + \\Delta x) - 2 u(x) + u(x - \\Delta x)}{(\\Delta x)^2} \n",
    "\\end{align*}\n",
    "\n",
    "Providing initial values for the functions allows us to propogate the differential equation."
   ]
  },
  {
   "cell_type": "markdown",
   "id": "69f30e78",
   "metadata": {
    "slideshow": {
     "slide_type": "slide"
    }
   },
   "source": [
    "## Model heat transfer through a wall\n",
    "\n",
    "```{figure} ../images/wall-heat-transfer.*\n",
    "---\n",
    "name: heat-transfer-fig\n",
    "width: 600px\n",
    "align: center\n",
    "---\n",
    "Heat transfer through a wall as an example of solving the heat equation in 1D.\n",
    "```"
   ]
  },
  {
   "cell_type": "markdown",
   "id": "1f1cec3e",
   "metadata": {
    "slideshow": {
     "slide_type": "slide"
    }
   },
   "source": [
    "We write a `class` for a wall with heat transfer that stores the state variable $u(x)$ and contains a `method` to conduct an Euler step in the time propagation."
   ]
  },
  {
   "cell_type": "code",
   "execution_count": 24,
   "id": "52423ca3",
   "metadata": {},
   "outputs": [],
   "source": [
    "import numpy as np\n",
    "\n",
    "class HeatTransferWall:\n",
    "    def __init__(self, thickness, T_inside, T_outside, alpha = 19, N = 100):\n",
    "        \n",
    "        self.alpha = alpha # diffusivity with default value for air\n",
    "        self.number_elements = N\n",
    "        self.dx = thickness / N\n",
    "        \n",
    "        # initialization of state variable u(x)\n",
    "        self.x = np.linspace(0, thickness, N)\n",
    "        self.u = np.ones(N) * T_outside\n",
    "        self.u[0] = T_inside\n",
    "        \n",
    "    def step(self, dt = 0.1):\n",
    "\n",
    "        N = self.number_elements\n",
    "        \n",
    "        d2u_dx2 = np.zeros(N)\n",
    "        d2u_dx2[1:N-1] = (self.u[2:N] - 2* self.u[1:N-1] + self.u[0:N-2]) / self.dx**2\n",
    "        # Euler step \n",
    "        self.u[1:N-1] = self.u[1:N-1] + self.alpha * d2u_dx2[1:N-1] * dt"
   ]
  },
  {
   "cell_type": "markdown",
   "id": "461393f1",
   "metadata": {},
   "source": [
    "Propagate the heat equation for 5 min in time steps of 0.1 sec."
   ]
  },
  {
   "cell_type": "code",
   "execution_count": 27,
   "id": "ab86e0d5",
   "metadata": {},
   "outputs": [],
   "source": [
    "wall = HeatTransferWall(200, 20, 0)\n",
    "\n",
    "for i in range(3000):\n",
    "    wall.step()"
   ]
  },
  {
   "cell_type": "markdown",
   "id": "bf432b2b",
   "metadata": {
    "slideshow": {
     "slide_type": "slide"
    }
   },
   "source": [
    "Plot the final state, $u(x, T)$."
   ]
  },
  {
   "cell_type": "code",
   "execution_count": 28,
   "id": "0dd67f75",
   "metadata": {},
   "outputs": [
    {
     "data": {
      "image/png": "[encoded data removed]",
      "text/plain": [
       "<Figure size 576x288 with 1 Axes>"
      ]
     },
     "metadata": {
      "needs_background": "light"
     },
     "output_type": "display_data"
    }
   ],
   "source": [
    "import matplotlib.pyplot as plt\n",
    "\n",
    "fig = plt.figure(figsize = (8,4))\n",
    "\n",
    "plt.plot(wall.x, wall.u)\n",
    "\n",
    "plt.grid('on')\n",
    "plt.ylabel(r'Temperature ($^\\circ$C)')\n",
    "plt.xlabel('Wall position (mm)')\n",
    "\n",
    "plt.show()"
   ]
  },
  {
   "cell_type": "markdown",
   "id": "22995387",
   "metadata": {
    "slideshow": {
     "slide_type": "fragment"
    }
   },
   "source": [
    "In this implementation, we did not save the intermediate states, $u(x,t)$ for $0 \\leq t \\leq T$, but it is of course straighforward to do so."
   ]
  },
  {
   "cell_type": "markdown",
   "id": "106550c1",
   "metadata": {
    "slideshow": {
     "slide_type": "slide"
    }
   },
   "source": [
    "```{admonition} Bonus material: Plot animation\n",
    "Alternatively, the time evolution of the state can be illustrated by means of an animation. Plot animations are available with use of `animation.FuncAnimation`. The key steps are to (i) enable an interactive plot, (ii) create a `Line2D` line object and (iii) write a function `plot_update` that updates the line object in every frame of the animation.\n",
    "```\n",
    "\n",
    "```\n",
    "# enable an interactive plot\n",
    "%matplotlib notebook\n",
    "\n",
    "import numpy as np\n",
    "import matplotlib.pyplot as plt\n",
    "from matplotlib.animation import FuncAnimation\n",
    "\n",
    "wall = HeatTransferWall(200, 20, 0)\n",
    "\n",
    "fig = plt.figure(figsize = (8,4))\n",
    "ax = plt.axes(xlim=(0, 200), ylim=(-1, 21))\n",
    "ax.grid()\n",
    "\n",
    "plt.ylabel(r'Temperature ($^\\circ$C)')\n",
    "plt.xlabel('Wall position (mm)')\n",
    "\n",
    "# create line and text objects\n",
    "line, = ax.plot(wall.x, wall.u, lw=2)\n",
    "time_text = ax.text(130, 19, 'Time: 0 (sec)')\n",
    "\n",
    "def plot_update(frame_number, wall, line, time_text):\n",
    "\n",
    "    # perform a time step\n",
    "    wall.step()\n",
    "    \n",
    "    # update properties of line and text objects\n",
    "    line.set_data(wall.x, wall.u)\n",
    "    time_text.set_text(f'Time: {frame_number} (sec)')\n",
    "\n",
    "# run the animation\n",
    "anim = FuncAnimation(fig, plot_update, fargs = [wall, line, time_text], frames = 3000, interval = 2)\n",
    "\n",
    "plt.show()\n",
    "```"
   ]
  },
  {
   "cell_type": "markdown",
   "id": "a09c39ec",
   "metadata": {},
   "source": [
    "```{figure} ../images/wall-animation.*\n",
    "---\n",
    "name: wall-animation-fig\n",
    "width: 600px\n",
    "align: center\n",
    "---\n",
    "Animation of heat transfer through a wall.\n",
    "```"
   ]
  },
  {
   "cell_type": "markdown",
   "id": "b0a4d7c6",
   "metadata": {},
   "source": [
    "## Ordinary differential equations (ODEs)\n",
    "\n",
    "### Implicit form\n",
    "\n",
    "In describing the dynamics of biological system, we are typically concerned with *[ordinary differential equations](https://en.wikipedia.org/wiki/Ordinary_differential_equation)* (ODEs) in which case the state variables are functions of time only and partial derivatives are replaced by \"ordinary\" derivatives. A system of *implicit* ODEs may be quite generally written\n",
    "\n",
    "$$\n",
    "\\mathbf{F}(\\mathbf{y}', \\mathbf{y}, t) = 0\n",
    "$$\n",
    "\n",
    "where $\\mathbf{y}$ is the array collecting the set of state variables, $\\mathbf{y}'$ denotes its time derivative, and $\\mathbf{F}$ is the array collecting the set of scalar equations. For example, the Lotka–Volterra equations are seen to be of this form\n",
    "\n",
    "\\begin{align*}\n",
    "\\frac{dx}{dt} & = \\alpha x - \\beta xy \\\\\n",
    "\\frac{dy}{dt} & = \\delta xy - \\gamma y\n",
    "\\end{align*}\n",
    "\n",
    "where we identify $\\mathbf{y} = (y_1, y_2)$ with $y_1 = x$ and $y_2 = y$.\n",
    "\n",
    "It may at first sight appear limiting not to consider higher-order derivatives of $\\mathbf{y}$, such as the second-order derivative $\\mathbf{y}''$, as arguments of $\\mathbf{F}$. However, an ODE of order greater than one can be re-written as a system of ODEs of first order. As an illustration, let us consider the second-order differential equation describing the Newtonian mechanics of a damped harmonic oscillator\n",
    "\n",
    "$$\n",
    "m \\frac{d^2 x}{d t^2} = -c \\frac{d x}{d t} - k x\n",
    "$$\n",
    "\n",
    "where $k$ is the spring constant and the friction, or damping, is proportional to the velocity of the particle. Let us introduce\n",
    "\n",
    "\\begin{align*}\n",
    "y_1 & = x \\\\\n",
    "y_2 & = x'\n",
    "\\end{align*}\n",
    "\n",
    "which transforms the one-dimensional second-order differential equation into a two-dimensional first-order differential equation according to\n",
    "\n",
    "\\begin{align*}\n",
    "y_1' & = y_2 \\\\\n",
    "y_2' & = -\\frac{c}{m} y_2 - \\frac{k}{m} y_1\n",
    "\\end{align*}\n",
    "\n",
    "### Explicit form\n",
    "\n",
    "Less general than the implicit case, an *explicit* system of ODE takes the form\n",
    "\n",
    "$$\n",
    "\\mathbf{y}' = \\mathbf{F}(\\mathbf{y}, t) \n",
    "$$\n",
    "\n",
    "where it is thus required that the equations are linear in $\\mathbf{y}'$. The Lotka–Volterra equations represents an example of an explicit system of ODEs.\n",
    "\n",
    "## Numerical solutions\n",
    "\n",
    "### Euler's method\n",
    "\n",
    "Knowledge of the state variables collected in $\\mathbf{y}$ at some time $t_0$ makes it straightforward to find a numerical solution to an explicit system of ODEs. We discretize time and use a differential approximation of the derivative according to\n",
    "\n",
    "$$\n",
    "\\mathbf{y}(t + \\Delta t) = \\mathbf{y}(t)  +\n",
    "\\mathbf{F}(\\mathbf{y}, t) \\Delta t \n",
    "$$\n",
    "\n",
    "This approach is called the [Euler method](https://en.wikipedia.org/wiki/Euler_method) and we shall illustrate its use by finding a solution to the Lotka–Volterra equations. In doing so, we will also take the opportunity to illustrate that Python naturally invites to good software engineering practices in terms of [object-oriented programming](https://www.w3schools.com/python/python_classes.asp)."
   ]
  },
  {
   "cell_type": "code",
   "execution_count": 4,
   "id": "992e0515",
   "metadata": {},
   "outputs": [],
   "source": [
    "class PredatorPreyModel:\n",
    "    def __init__(self, x0, y0, alpha, beta, gamma, delta):\n",
    "        \"\"\"\n",
    "        Model parameters:\n",
    "        =================\n",
    "        x0: initial prey population\n",
    "        y0: initial predator population\n",
    "        \n",
    "        alpha: prey growth rate\n",
    "        beta: prey death rate\n",
    "        gamma: predator death rate\n",
    "        delta: predator growth rate\n",
    "        \"\"\"\n",
    "        self.alpha = alpha\n",
    "        self.beta = beta\n",
    "        self.gamma = gamma\n",
    "        self.delta = delta\n",
    "        \n",
    "        self.preys = [ x0 ]\n",
    "        self.predators = [ y0 ]\n",
    "        \n",
    "    def euler_step(self, dt):\n",
    "        \n",
    "        xi = self.preys[-1]\n",
    "        yi = self.predators[-1]\n",
    "        \n",
    "        xn = xi + (self.alpha * xi - self.beta * xi * yi) * dt\n",
    "        yn = yi + (self.delta * xi * yi - self.gamma * yi) * dt\n",
    "\n",
    "        self.preys.append(xn)\n",
    "        self.predators.append(yn)"
   ]
  },
  {
   "cell_type": "markdown",
   "id": "7aab052b",
   "metadata": {},
   "source": [
    "First, we discretize time."
   ]
  },
  {
   "cell_type": "code",
   "execution_count": 5,
   "id": "12883497",
   "metadata": {},
   "outputs": [],
   "source": [
    "import numpy as np\n",
    "\n",
    "# 365 days divided into 2000 time steps\n",
    "N = 2000\n",
    "t = np.linspace(0, 365, num=N)\n",
    "dt = 365 / N"
   ]
  },
  {
   "cell_type": "markdown",
   "id": "c279758f",
   "metadata": {},
   "source": [
    "Second, we create an object of the `PredatorPreyModel` class and time propagate with the Euler method that is implemented into the `PredatorPreyModel` class."
   ]
  },
  {
   "cell_type": "code",
   "execution_count": 6,
   "id": "ddbe1e5d",
   "metadata": {},
   "outputs": [],
   "source": [
    "ppm = PredatorPreyModel(1000, 10, 0.1, 0.01, 0.05, 0.0001)\n",
    "\n",
    "for i in range(N - 1):\n",
    "    ppm.euler_step(dt)"
   ]
  },
  {
   "cell_type": "markdown",
   "id": "ddb5d320",
   "metadata": {},
   "source": [
    "Third, we plot the prey and predator populations. "
   ]
  },
  {
   "cell_type": "code",
   "execution_count": 7,
   "id": "0fe313f2",
   "metadata": {},
   "outputs": [
    {
     "data": {
      "image/png": "[encoded data removed]",
      "text/plain": [
       "<Figure size 432x288 with 2 Axes>"
      ]
     },
     "metadata": {
      "needs_background": "light"
     },
     "output_type": "display_data"
    }
   ],
   "source": [
    "import matplotlib.pyplot as plt\n",
    "\n",
    "plt.title('Predator-Prey population dynamics')\n",
    "\n",
    "plt.plot(t, ppm.preys, 'b')\n",
    "plt.setp(plt.gca(), xlim=(0,365), ylim=(0,1200))\n",
    "plt.ylabel(r'Prey population')\n",
    "plt.xlabel(r'Time (days)')\n",
    "\n",
    "plt.gca().twinx()\n",
    "\n",
    "plt.plot(t, ppm.predators, 'r')\n",
    "plt.setp(plt.gca(), xlim=(0,365), ylim=(0,25))\n",
    "plt.ylabel(r'Predator population')\n",
    "\n",
    "plt.show()"
   ]
  },
  {
   "cell_type": "markdown",
   "id": "5805fa0b",
   "metadata": {},
   "source": [
    "### Runge–Kutta methods\n",
    "\n",
    "The Euler method is not very stable. The solutions to the predator–prey equations should be periodic, but due to accumulating numerical errors in the Euler time-propagation scheme this is not seen in our results. Errors can be reduced by decreasing the time step but that only works up to a certain point and is, in addition, involved with increasing computational costs. A better alternative is to turn to the family of [Runge–Kutta](https://en.wikipedia.org/wiki/Runge%E2%80%93Kutta_methods) methods. Let us consider a one-dimensional case\n",
    "\n",
    "$$\n",
    "y' = f(y,t)\n",
    "$$\n",
    "\n",
    "The most widely used member of the family is the fourth-order Runge–Kutta (RK4) method. In the RK4 method, the step is defined as\n",
    "\n",
    "\\begin{align*}\n",
    "y(t + \\Delta t) & =\n",
    "y(t) + \\frac{1}{6} (k_1 + 2 k_2 + 2 k_3 + k_4) \\Delta t\n",
    "\\end{align*}\n",
    "\n",
    "where\n",
    "\n",
    "\\begin{align*}\n",
    "k_1 & = f(y(t),t) \\\\\n",
    "k_2 & = f(y(t) + k_1 \\Delta t / 2, t + \\Delta t /2) \\\\\n",
    "k_3 & = f(y(t) + k_2 \\Delta t / 2, t + \\Delta t /2) \\\\\n",
    "k_4 & = f(y(t) + k_3 \\Delta t, t + \\Delta t) \n",
    "\\end{align*}\n",
    "\n",
    "As an example, let us study the difference in errors for the Euler and RK4 methods when\n",
    "\n",
    "$$\n",
    "f(y, t) = y \\sin^4(t); \\qquad y(0) = 1\n",
    "$$\n",
    "\n",
    "In this case, the exact solution is given by\n",
    "\n",
    "$$\n",
    "y(t) =\n",
    "\\exp \\big( \\frac{3 t}{8} - \\frac{1}{4} \\sin(2 t) + \n",
    "\\frac{1}{32} \\sin(4 t) \\big)\n",
    "$$\n",
    "\n",
    "The function $f(y,t)$ is conveniently implemented in Python as a [lambda function](https://www.w3schools.com/python/python_lambda.asp)."
   ]
  },
  {
   "cell_type": "code",
   "execution_count": 8,
   "id": "5fca55c9",
   "metadata": {},
   "outputs": [],
   "source": [
    "import numpy as np\n",
    "\n",
    "f = lambda y, t : y * np.sin(t)**4"
   ]
  },
  {
   "cell_type": "markdown",
   "id": "6f2126a7",
   "metadata": {},
   "source": [
    "The implementation of the Euler and RK4 methods is straightforward."
   ]
  },
  {
   "cell_type": "code",
   "execution_count": 9,
   "id": "1fca40b6",
   "metadata": {},
   "outputs": [],
   "source": [
    "def Euler(y, t, dt):\n",
    "\n",
    "    k1 = f(y,t)\n",
    "    yn = y + k1 * dt\n",
    "\n",
    "    return yn"
   ]
  },
  {
   "cell_type": "code",
   "execution_count": 10,
   "id": "8e7e0039",
   "metadata": {},
   "outputs": [],
   "source": [
    "def RK4(y, t, dt):\n",
    "    \n",
    "    k1 = f(y,t)\n",
    "    k2 = f(y + k1 * dt/2, t + dt/2)\n",
    "    k3 = f(y + k2 * dt/2, t + dt/2)\n",
    "    k4 = f(y + k3 * dt, t + dt)\n",
    "\n",
    "    yn = y + (k1  + 2* k2 + 2* k3 + k4) * dt / 6\n",
    "\n",
    "    return yn"
   ]
  },
  {
   "cell_type": "markdown",
   "id": "d4ab8916",
   "metadata": {},
   "source": [
    "As usual, we discretize time and time propagate."
   ]
  },
  {
   "cell_type": "code",
   "execution_count": 11,
   "id": "a83afd34",
   "metadata": {},
   "outputs": [],
   "source": [
    "N = 100 # discretize time in N steps\n",
    "\n",
    "initial, final = 0, 10\n",
    "t = np.linspace(initial, final, num=N)\n",
    "dt = (final - initial) / N\n",
    "\n",
    "y1 = np.zeros(N)\n",
    "y2 = np.zeros(N)\n",
    "\n",
    "y3 = np.exp( 3*t/8 - np.sin(2*t) / 4 + np.sin(4*t) / 32 )"
   ]
  },
  {
   "cell_type": "code",
   "execution_count": 12,
   "id": "fd50b562",
   "metadata": {},
   "outputs": [],
   "source": [
    "# initial value\n",
    "y1[0] = 1\n",
    "y2[0] = 1\n",
    "\n",
    "# numerical time propagation \n",
    "for n in range(N - 1):\n",
    "    y1[n+1] = Euler(y1[n], t[n], dt)\n",
    "    y2[n+1] = RK4(y2[n], t[n], dt)"
   ]
  },
  {
   "cell_type": "markdown",
   "id": "58e0059c",
   "metadata": {},
   "source": [
    "A comparison plot is made of the numerical results with the exact reference. The superiority of the RK4 method over the Euler method is evident."
   ]
  },
  {
   "cell_type": "code",
   "execution_count": 13,
   "id": "1835de5d",
   "metadata": {},
   "outputs": [
    {
     "data": {
      "image/png": "[encoded data removed]",
      "text/plain": [
       "<Figure size 432x288 with 1 Axes>"
      ]
     },
     "metadata": {
      "needs_background": "light"
     },
     "output_type": "display_data"
    }
   ],
   "source": [
    "import matplotlib.pyplot as plt\n",
    "\n",
    "plt.plot(t, y1, 'r', label='Euler')\n",
    "plt.plot(t, y2, 'b', label='RK4')\n",
    "plt.plot(t, y3, 'k', label='Exact')\n",
    "\n",
    "plt.grid(True)\n",
    "plt.setp(plt.gca(), xlim=(initial,final), ylim=(0,40))\n",
    "plt.title('Numerical stability')\n",
    "plt.xlabel(r'$t$')\n",
    "plt.ylabel(r'$y(t)$')\n",
    "plt.legend()\n",
    "\n",
    "plt.show()"
   ]
  },
  {
   "cell_type": "markdown",
   "id": "53f92699",
   "metadata": {},
   "source": [
    "### ODE solver library\n",
    "\n",
    "The SciPy library comes with an [ODE solver](https://docs.scipy.org/doc/scipy/reference/generated/scipy.integrate.odeint.html) named `odeint` that also serves as an alternative. We illustrate its use by returning to the predator–prey system and the Lotka–Volterra equations. The basic need of `odeint` is for the user to implement a function that returns the array $\\mathbf{y}'(t)$. This function is thereafter passed as an argument to `odeint` together with the initial values of $\\mathbf{y}$ and the additional arguments of the function."
   ]
  },
  {
   "cell_type": "code",
   "execution_count": 14,
   "id": "7149ab51",
   "metadata": {},
   "outputs": [],
   "source": [
    "def lotka_volterra(y, t, alpha, beta, gamma, delta):\n",
    "    y1, y2 = y\n",
    "    \n",
    "    dydt = [alpha * y1 - beta * y1 * y2, delta * y1 * y2 - gamma * y2]\n",
    "    \n",
    "    return dydt"
   ]
  },
  {
   "cell_type": "code",
   "execution_count": 15,
   "id": "5bcfca27",
   "metadata": {},
   "outputs": [],
   "source": [
    "import numpy as np\n",
    "\n",
    "t = np.linspace(0, 365, num=5000)\n",
    "\n",
    "y0 = [1000, 10] # initial values of y = [y1, y2]\n",
    "\n",
    "alpha, beta, gamma, delta = 0.1, 0.01, 0.05, 0.0001"
   ]
  },
  {
   "cell_type": "code",
   "execution_count": 16,
   "id": "2c002723",
   "metadata": {},
   "outputs": [],
   "source": [
    "from scipy.integrate import odeint\n",
    "\n",
    "y = odeint(lotka_volterra, y0, t, args=(alpha, beta, gamma, delta))"
   ]
  },
  {
   "cell_type": "code",
   "execution_count": 17,
   "id": "c52ff65c",
   "metadata": {},
   "outputs": [
    {
     "data": {
      "image/png": "[encoded data removed]",
      "text/plain": [
       "<Figure size 432x288 with 2 Axes>"
      ]
     },
     "metadata": {
      "needs_background": "light"
     },
     "output_type": "display_data"
    }
   ],
   "source": [
    "import matplotlib.pyplot as plt\n",
    "\n",
    "plt.title('Predator-Prey population dynamics')\n",
    "\n",
    "plt.plot(t, y[:,0], 'b', label='Prey')\n",
    "plt.setp(plt.gca(), xlim=(0,365), ylim=(0,1200))\n",
    "plt.ylabel(r'Prey population')\n",
    "plt.xlabel(r'Time (days)')\n",
    "\n",
    "plt.gca().twinx()\n",
    "\n",
    "plt.plot(t, y[:,1], 'r', label='Predator')\n",
    "plt.setp(plt.gca(), xlim=(0,365), ylim=(0,25))\n",
    "plt.ylabel(r'Predator population')\n",
    "\n",
    "plt.show()"
   ]
  },
  {
   "cell_type": "markdown",
   "id": "b0e5f82a",
   "metadata": {},
   "source": [
    "A comparison of this figure plot with that made above provides another illustration of the short-comings associated with the Euler method. "
   ]
  },
  {
   "cell_type": "markdown",
   "id": "e5c14d17",
   "metadata": {},
   "source": [
    "## Analysis of solutions\n",
    "While it is most natural to present the solutions to ODEs in terms of plots of state variables with respect to time, it can be revealing to plot solutions parametrically as [orbitals](https://en.wikipedia.org/wiki/Orbit_(dynamics)) in [phase space](https://en.wikipedia.org/wiki/Phase_space). Let us consider the solutions to our predator–prey model with vaying initial populations."
   ]
  },
  {
   "cell_type": "code",
   "execution_count": 18,
   "id": "6e6e76f3",
   "metadata": {},
   "outputs": [
    {
     "data": {
      "image/png": "[encoded data removed]",
      "text/plain": [
       "<Figure size 432x288 with 1 Axes>"
      ]
     },
     "metadata": {
      "needs_background": "light"
     },
     "output_type": "display_data"
    }
   ],
   "source": [
    "plt.title('Phase-space plot')\n",
    "\n",
    "plt.ylabel(r'Predators')\n",
    "plt.xlabel(r'Preys')\n",
    "\n",
    "y0_l = [[1000, 6], [800, 7], [600, 8], [500, 9]]\n",
    "\n",
    "for y0 in y0_l:\n",
    "\n",
    "    y = odeint(lotka_volterra, y0, t, args=(alpha, beta, gamma, delta))\n",
    "\n",
    "    plt.plot(y[:,0], y[:,1], '-')\n",
    "    plt.plot(y[0,0], y[0,1], 'o')\n",
    "\n",
    "plt.show()"
   ]
  },
  {
   "cell_type": "markdown",
   "id": "0978bf1a",
   "metadata": {},
   "source": [
    "The initial populations are depicted by the solid circles in the figure and the orbitals in phase space become gradually smaller, which corresponds to reduced variations in the populations. There appears to be a central point for which populations are static (not changing in time). This point correspond mathematically to a point where the array of derivatives of the Lotka–Volterra equation is zero:\n",
    "\n",
    "\\begin{align*}\n",
    "\\alpha x - \\beta xy & = 0 \\\\\n",
    "\\delta xy - \\gamma y & = 0\n",
    "\\end{align*}\n",
    "\n",
    "This set of equations has one trivial solution in terms of zero populations but also one nontrivial solution given by\n",
    "\n",
    "$$\n",
    "x = \\frac{\\gamma}{\\delta}; \\quad y = \\frac{\\alpha}{\\beta}\n",
    "$$\n",
    "\n",
    "With our choice of rate parameters, we get $x$ and $y$ equal to 500  and 10, respectively, and which corresponds to the central point in our figure plot."
   ]
  }
 ],
 "metadata": {
  "kernelspec": {
   "display_name": "Python 3",
   "language": "python",
   "name": "python3"
  },
  "language_info": {
   "codemirror_mode": {
    "name": "ipython",
    "version": 3
   },
   "file_extension": ".py",
   "mimetype": "text/x-python",
   "name": "python",
   "nbconvert_exporter": "python",
   "pygments_lexer": "ipython3",
   "version": "3.9.5"
  }
 },
 "nbformat": 4,
 "nbformat_minor": 5
}
