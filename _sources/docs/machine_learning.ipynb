{
 "cells": [
  {
   "cell_type": "markdown",
   "id": "58716b03-268f-4e17-99c6-1ab562792635",
   "metadata": {},
   "source": [
    "(sec:ml)=\n",
    "# Machine learning"
   ]
  },
  {
   "cell_type": "markdown",
   "id": "4dd441a5-7aed-48c4-a5c7-726eea740d7c",
   "metadata": {},
   "source": [
    "[Machine learning](https://en.wikipedia.org/wiki/Machine_learning) (ML) is a widely applied tool from computer science with applications in fields ranging from mathematics over engineering to natural and even social sciences. "
   ]
  },
  {
   "cell_type": "markdown",
   "id": "18230e16-dfd4-4e67-83b4-f87e9a078752",
   "metadata": {},
   "source": [
    "## ML models\n",
    "\n",
    "There are a multitude of ML models developed for different purposes and to navigate the landscape can seem overwhelming. A broad categorization includes the classes:\n",
    "\n",
    "- **Supervised Learning Models** <br>\n",
    "These models learn from labeled data to make predictions or classify new data. \n",
    "    - Linear Regression:\n",
    "      Predicts continuous values by identifying the relationship between input variables and a dependent variable. \n",
    "    - Logistic Regression:\n",
    "      Used for classification tasks, determining if an input belongs to a specific group. \n",
    "    - Decision Trees:\n",
    "      Create a flowchart-like structure to make predictions by traversing through nodes and leaves based on features. \n",
    "    - Random Forests:\n",
    "      An ensemble method that combines multiple decision trees to improve prediction accuracy and reduce overfitting. \n",
    "    - Support Vector Machines (SVM):\n",
    "      Creates a hyperplane to separate data points into categories based on their features. \n",
    "    - K-Nearest Neighbors (KNN):\n",
    "      Groups data points based on their similarity to their 'k' closest neighbors in the dataset. \n",
    "    - Naive Bayes:\n",
    "      A probabilistic classifier that uses Bayes' Theorem and assumes independence among variables. \n",
    "- **Unsupervised Learning Models** <br>\n",
    "  These models find patterns and structures in unlabeled data. \n",
    "    - K-Means Clustering: An algorithm for grouping data into 'k' distinct clusters based on similarity.\n",
    "- **Deep Learning Models** <br>\n",
    "  A subfield of machine learning that uses artificial neural networks with multiple layers to learn from vast amounts of data.\n",
    "  - Feedforward Neural Networks (FNNs)\n",
    "    The simplest type of neural network, where data moves in one direction from input to output, without loops or cycles. Applications: Used for tasks like image recognition and speech recognition, where data is processed without a temporal component. \n",
    "  - Recurrent Neural Networks (RNNs):\n",
    "      Networks designed to process sequential data by using connections that create cycles, allowing data to flow back and forth. They possess an \"internal memory\" to understand the order and context of inputs. Applications: Ideal for natural language processing, speech recognition, handwriting recognition, and other tasks involving time-series data. \n",
    "  - Convolutional Neural Networks (CNNs):\n",
    "    A specialized type of neural network based on multilayer perceptrons but with convolutional layers designed to extract spatial hierarchies of features from data. Applications: Highly effective for computer vision tasks such as image classification, object detection, and image generation. \n",
    "  - Transformer Networks:\n",
    "    A modern neural network architecture that relies on self-attention mechanisms to weigh the importance of different parts of the input data. This allows them to capture long-range dependencies more effectively than RNNs. Applications:\n",
    "Revolutionized natural language processing (NLP) and are a foundational technology behind large language models like ChatGPT, enabling tasks such as machine translation and text generation."
   ]
  },
  {
   "cell_type": "markdown",
   "id": "023124c1-108c-4b06-b8e9-9836a9f7cc10",
   "metadata": {
    "editable": true,
    "slideshow": {
     "slide_type": ""
    },
    "tags": [
     "remove-input"
    ]
   },
   "source": [
    "## ML frameworks\n",
    "\n",
    "A ML framework is a software (predominantly based on Python) into which ML models can be implemented and run.\n",
    "\n",
    "Owing to their simple nature and vast possibilities for their application, multiple ML frameworks exist that enable you to build and train a model with just a few lines of code. We will illustrate things with the classic example of identifying digits in hand-written images. The two ML frameworks we have adopted for this task are among the most used ones:\n",
    "\n",
    "- [ML with sklearn](sec:ml_scikit): Easy to use for supervised and unsupervised models.\n",
    "- [ML with PyTorch](sec:ml_pytorch): Developed by Meta AI and together with TensorFlow by Google, they are the dominant frameworks for deep learning and consequently AI."
   ]
  },
  {
   "cell_type": "markdown",
   "id": "3bc18d95-0b42-4e81-b02c-0b8f74a5c4a5",
   "metadata": {},
   "source": [
    "## What is a neural network"
   ]
  },
  {
   "cell_type": "markdown",
   "id": "9e5e3d62-f06f-4f7a-bd76-110cfc2f950a",
   "metadata": {},
   "source": [
    "If you choose a project in the category of machine learning, it is *highly* recommended (close to mandatory) that you also take the time to watch the series of four videos on neural networks from the (generally) excellent channel [3Blue1Brown](https://www.youtube.com/@3blue1brown)."
   ]
  },
  {
   "cell_type": "code",
   "execution_count": 2,
   "id": "70b77a18-fd6f-420b-a54f-0eda12a4dbdc",
   "metadata": {
    "editable": true,
    "slideshow": {
     "slide_type": ""
    },
    "tags": [
     "remove-input"
    ]
   },
   "outputs": [
    {
     "data": {
      "text/html": [
       "\n",
       "        <iframe\n",
       "            width=\"400\"\n",
       "            height=\"300\"\n",
       "            src=\"https://www.youtube.com/embed/aircAruvnKk?si=p7eKKqYI8u8mqfIb\"\n",
       "            frameborder=\"0\"\n",
       "            allowfullscreen\n",
       "            \n",
       "        ></iframe>\n",
       "        "
      ],
      "text/plain": [
       "<IPython.lib.display.YouTubeVideo at 0x112fc2900>"
      ]
     },
     "execution_count": 2,
     "metadata": {},
     "output_type": "execute_result"
    }
   ],
   "source": [
    "from IPython.display import YouTubeVideo\n",
    "\n",
    "YouTubeVideo(\"aircAruvnKk?si=p7eKKqYI8u8mqfIb\")"
   ]
  },
  {
   "cell_type": "markdown",
   "id": "3a5bf945-3ff9-41c6-b499-a9a34a4639fd",
   "metadata": {},
   "source": [
    "## Forming your project"
   ]
  },
  {
   "cell_type": "markdown",
   "id": "59bc1c05-6d3f-4181-aff1-4520fd73f8f8",
   "metadata": {},
   "source": [
    "### Data representation in the input layer\n",
    "\n",
    "In many cases, such as in classifications of images, it is rather obvious how to represent the input data in the input layer namely by associating neurons to the pixels in the images.\n",
    "\n",
    "In other cases, it may be less obvious. How do we e.g. represent molecules and how can we get an objective measure of closeness  of chemical structures? In answer to these questions, molecular fingerprints have been developed."
   ]
  },
  {
   "cell_type": "code",
   "execution_count": 3,
   "id": "bb4dddd7-ab84-4c45-b60c-cb9d84f4c84c",
   "metadata": {
    "editable": true,
    "slideshow": {
     "slide_type": ""
    },
    "tags": [
     "remove-input"
    ]
   },
   "outputs": [
    {
     "data": {
      "text/html": [
       "\n",
       "        <iframe\n",
       "            width=\"400\"\n",
       "            height=\"300\"\n",
       "            src=\"https://www.youtube.com/embed/kBk8HbjWwCw?si=3yspJyCsgnBynzT0\"\n",
       "            frameborder=\"0\"\n",
       "            allowfullscreen\n",
       "            \n",
       "        ></iframe>\n",
       "        "
      ],
      "text/plain": [
       "<IPython.lib.display.YouTubeVideo at 0x112fed310>"
      ]
     },
     "execution_count": 3,
     "metadata": {},
     "output_type": "execute_result"
    }
   ],
   "source": [
    "YouTubeVideo(\"kBk8HbjWwCw?si=3yspJyCsgnBynzT0\")"
   ]
  },
  {
   "cell_type": "markdown",
   "id": "6947a470-f439-4c97-ba03-1d101e9c6949",
   "metadata": {},
   "source": [
    "### Machine Learning-Guided Protein Engineering\n",
    "\n",
    "Find inspiration for using machine learning in protein engineering in the perspective article below. The authors provide an overview of ongoing trends in this domain, highlight recent case studies, and examine the current limitations of machine learning-based methods. They present their opinions on the fundamental problems and outline the potential directions for future research.\n",
    "\n",
    "```{image} ../images/ml_protein.jpeg\n",
    ":alt: ML and proteins\n",
    ":class: bg-primary mb-1\n",
    ":width: 400px\n",
    ":align: center\n",
    "```\n",
    "\n",
    "*ACS Catalysis* **2023**, 13, 21, 13863–13895, [https://doi.org/10.1021/acscatal.3c02743](https://doi.org/10.1021/acscatal.3c02743)"
   ]
  },
  {
   "cell_type": "markdown",
   "id": "5744280f-bf15-438e-b596-fd9dfc8c2a4c",
   "metadata": {},
   "source": [
    "\n",
    "### Previous course projects\n",
    "\n",
    "1. **Identification of risk factors for cardiovascular disease using data analysis and machine learning (Project from CB1020 HT24)** <br>\n",
    "Cardiovascular disease (CVD) is the leading cause of death in Sweden, with over 2 million affected and approximately 30,000 annual deaths.<br>\n",
    "The aim of this project was to use data analysis combined with the machine learning algorithms `GradientBoosting`, `RandomForest`, and `SHAP` in sklearn to investigate which five factors contribute most to CVD, and to use machine learning to predict whether a person has CVD or not.<br>\n",
    "The project analyzed a file with patient data from 70,000 people in twelve different categories: age, height, weight, gender, systolic blood pressure, diastolic blood pressure, cholesterol level, glucose level, smoking, alcohol intake, physical activity and presence or absence of cardiovascular disease.<br>\n",
    "The five most important risk factors for CVD were identified as systolic and diastolic blood pressure, BMI, age, and cholesterol. The results showed that older people and individuals with higher BMI had an increased risk of CVD, which is consistent with previous research.<br>\n",
    "The machine learning algorithms `GradientBoosting` and `RandomForest` demonstrated a test accuracy of 73.6%, with a better ability to identify CVD cases than non-CVD cases. Data analysis also indicated that there were shortcomings in the representation of different age groups and gender, which may have influenced the results."
   ]
  }
 ],
 "metadata": {
  "kernelspec": {
   "display_name": "Python 3 (ipykernel)",
   "language": "python",
   "name": "python3"
  },
  "language_info": {
   "codemirror_mode": {
    "name": "ipython",
    "version": 3
   },
   "file_extension": ".py",
   "mimetype": "text/x-python",
   "name": "python",
   "nbconvert_exporter": "python",
   "pygments_lexer": "ipython3",
   "version": "3.13.7"
  }
 },
 "nbformat": 4,
 "nbformat_minor": 5
}
