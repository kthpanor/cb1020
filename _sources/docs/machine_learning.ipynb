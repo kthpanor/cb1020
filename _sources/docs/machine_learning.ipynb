{
 "cells": [
  {
   "cell_type": "markdown",
   "id": "023124c1-108c-4b06-b8e9-9836a9f7cc10",
   "metadata": {},
   "source": [
    "(sec:ml)=\n",
    "# Machine learning\n",
    "\n",
    "[Machine learning](https://en.wikipedia.org/wiki/Machine_learning) (ML) is a widely applied tool from computer science, ranging from mathematics over engineering to natural and even social sciences. \n",
    "\n",
    "Due to their simple nature and vast possibilities for their application, multiple ML frameworks exist that enable you to build and train a model with just a few lines of code. We will illustrate things with the classic example of identifying digits in hand-written images. The two ML frameworks we have adopted for this task are among the most used ones:\n",
    "\n",
    "- [ML with PyTorch](sec:ml_pytorch)\n",
    "- [ML with sklearn](sec:ml_scikit)"
   ]
  }
 ],
 "metadata": {
  "kernelspec": {
   "display_name": "Python 3 (ipykernel)",
   "language": "python",
   "name": "python3"
  },
  "language_info": {
   "codemirror_mode": {
    "name": "ipython",
    "version": 3
   },
   "file_extension": ".py",
   "mimetype": "text/x-python",
   "name": "python",
   "nbconvert_exporter": "python",
   "pygments_lexer": "ipython3",
   "version": "3.13.7"
  }
 },
 "nbformat": 4,
 "nbformat_minor": 5
}
