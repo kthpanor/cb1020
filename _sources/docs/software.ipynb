{
 "cells": [
  {
   "cell_type": "markdown",
   "id": "6e3367a3-c99c-4c10-b427-93de5b2730a5",
   "metadata": {},
   "source": [
    "# Software for this course\n",
    "\n",
    "In this course, we will be programming Python in Jupyter notebooks. The needed software will be installed on your local laptop. \n",
    "\n",
    "Basic information:\n",
    "\n",
    "- [Python and notebooks](https://kthpanor.github.io/cb1020/docs/python.html)\n",
    "- [Software installation](./installation.md)"
   ]
  }
 ],
 "metadata": {
  "kernelspec": {
   "display_name": "Python 3 (ipykernel)",
   "language": "python",
   "name": "python3"
  },
  "language_info": {
   "codemirror_mode": {
    "name": "ipython",
    "version": 3
   },
   "file_extension": ".py",
   "mimetype": "text/x-python",
   "name": "python",
   "nbconvert_exporter": "python",
   "pygments_lexer": "ipython3",
   "version": "3.11.8"
  }
 },
 "nbformat": 4,
 "nbformat_minor": 5
}
