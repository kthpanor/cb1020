{
 "cells": [
  {
   "cell_type": "markdown",
   "id": "85451609",
   "metadata": {},
   "source": [
    "# Jupyter notebooks\n",
    "A *Jupyter notebook* is an application to edit and run *notebook documents* via a web browser. A notebook document, in turn, is a human readable file in [JSON](https://en.wikipedia.org/wiki/JSON) format that contains both program code (written in e.g. Python) and text elements (paragraphs, figures, links, etc. using markdown) organized into *cells*. Notebook documents containing Python code have the file extension  `.ipynb`.\n",
    "\n",
    "You start a Jupyter notebook on the command line as follows\n",
    "\n",
    "```\n",
    "$ jupyter-lab\n",
    "```\n",
    "\n",
    "A text cell, such as this one, allows you to document and explain your program implementation in a far more detailed manner compared to conventional program comment lines. Key equations and derivations are readily included:\n",
    "\n",
    "$$\n",
    "f(x) = \\sin(x)\n",
    "$$\n",
    "\n",
    "A text cell is written in markdown and converted to its final form by pressing the key combination `Shift-Enter`."
   ]
  },
  {
   "cell_type": "markdown",
   "id": "5aaa1ee8",
   "metadata": {},
   "source": [
    "## Text cell example\n",
    "\n",
    "```{figure} ../images/jupyter-notebook.*\n",
    "---\n",
    "name: ipynb-fig\n",
    "---\n",
    "Web browser interface to a Jupyter notebook containing a text cell in markdown.\n",
    "```"
   ]
  },
  {
   "cell_type": "markdown",
   "id": "2dac6902",
   "metadata": {},
   "source": [
    "## Code cell example\n",
    "This particular notebook also contains three code cells below to plot the elementary mathematical function `sin(x)` on the interval `[0,5π]`. In doing so, it makes use of the Python modules [NumPy](https://numpy.org/) \n",
    "and [Matplotlib](https://matplotlib.org/) that are further introduced in the coming section. Code cells can be run seperately by pressing the key combination `Shift-Enter` but do remember that program code in one cell may depend on the results from others."
   ]
  },
  {
   "cell_type": "code",
   "execution_count": 1,
   "id": "b020433e",
   "metadata": {},
   "outputs": [],
   "source": [
    "import matplotlib.pyplot as plt\n",
    "import numpy as np"
   ]
  },
  {
   "cell_type": "code",
   "execution_count": 2,
   "id": "20df81da",
   "metadata": {},
   "outputs": [],
   "source": [
    "# this is a comment line\n",
    "x = np.arange(0, 5*np.pi, 0.01)\n",
    "f = np.sin(x)"
   ]
  },
  {
   "cell_type": "code",
   "execution_count": 3,
   "id": "68aa51b2",
   "metadata": {},
   "outputs": [
    {
     "data": {
      "image/png": "[encoded data removed]",
      "text/plain": [
       "<Figure size 576x144 with 1 Axes>"
      ]
     },
     "metadata": {
      "needs_background": "light"
     },
     "output_type": "display_data"
    }
   ],
   "source": [
    "fig = plt.figure(1, figsize=(8,2))\n",
    "\n",
    "plt.plot(x,f)\n",
    "\n",
    "plt.axhline(y=0.0, color='0.5', linewidth = 0.7, dashes = [3,1,3,1])\n",
    "plt.setp(plt.gca(), xlim = (0, 5*np.pi), ylim = (-1.2, 1.2))\n",
    "plt.title(r'$f(x) = \\sin(x)$')\n",
    "plt.xlabel(r'$x$')\n",
    "plt.ylabel(r'$\\sin(x)$')\n",
    "\n",
    "\n",
    "plt.show()"
   ]
  },
  {
   "cell_type": "markdown",
   "id": "994348a6-66a1-4144-b214-d0007007635e",
   "metadata": {},
   "source": [
    "## Essential tips\n",
    "\n",
    "### Auto-completion\n",
    "\n",
    "Press `tab` to auto-complete commands. If there is no unique completion available,  a list of suggestions is provided.\n",
    "\n",
    "E.g. if you enter `plt.` and press `tab`, you will get a list of the methods that `pyplot` implements."
   ]
  },
  {
   "cell_type": "markdown",
   "id": "8141a8fa-399e-4eae-888e-9fbf9e511790",
   "metadata": {},
   "source": [
    "### Keyboard shortcuts\n",
    "\n",
    "| Shortcut | Result |\n",
    "| :--- | :--- |\n",
    "| `Enter` | Enter edit mode of cell |\n",
    "| `Shift-Enter` | Leave edit mode of cell |\n",
    "| `C` | Copy cell |\n",
    "| `V` | Paste cell |\n",
    "| `Shift M` | Merge cell with that below |\n",
    "| `Ctrl-Shift -` | Split markdown cell at cursor position |\n",
    "| `M` | Change cell to markdown type |\n",
    "| `Y` | Change cell to code type |\n",
    "| `Ctrl-S` | Save checkpoint of notebook |"
   ]
  }
 ],
 "metadata": {
  "kernelspec": {
   "display_name": "Python 3 (ipykernel)",
   "language": "python",
   "name": "python3"
  },
  "language_info": {
   "codemirror_mode": {
    "name": "ipython",
    "version": 3
   },
   "file_extension": ".py",
   "mimetype": "text/x-python",
   "name": "python",
   "nbconvert_exporter": "python",
   "pygments_lexer": "ipython3",
   "version": "3.11.5"
  }
 },
 "nbformat": 4,
 "nbformat_minor": 5
}
