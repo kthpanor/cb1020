{
 "cells": [
  {
   "cell_type": "markdown",
   "id": "8ffc7cf6-d5d0-4463-be02-5573e05867ac",
   "metadata": {},
   "source": [
    "# Introduction\n",
    "\n",
    "Welcome to the course *[Project in Mathematical Modeling (CB1020)](https://www.kth.se/student/kurser/kurs/CB1020)*.  \n",
    "\n",
    "The are three focus points in this course namely to obtain (i) a practical experience with the project work form, (ii) a deepened understanding of mathematical methods in biotechnology, and (iii) basic programming skills targeted toward mathematical modeling. \n",
    "\n",
    "```{figure} ../images/course-overview.*\n",
    "---\n",
    "name: overview-fig\n",
    "width: 400px\n",
    "align: center\n",
    "---\n",
    "```\n",
    "\n",
    "The *project work form* is omnipresent in industri and academia alike, making it an expected and all but required skill in every engineer. Thus, it makes good sense to develop this skillset already as a student and as a training ground we will use *problem-based learning* in our studies of the cross-disciplinary topic of mathematical modeling. An excellent guide to project work is the book titled *\"Projektarbete: En vägledning för studenter\"* by Andersen and Schwencke {cite}`Andersen2013`. A readthrough of this book is well invested time and will provide genreric, valuable, knowhow for future work.\n",
    "\n",
    "Mathematical models and simulations are used to rationalize and better understand a wide range of phenomena in biology and biotechnology. We will focus on four very different approaches to conduct mathematical modeling:\n",
    "\n",
    "- [ordinary differential equations (ODEs)](sec:ode)\n",
    "- [data analysis](sec:data)\n",
    "- [agent-based models (ABMs)](sec:agent)\n",
    "- [machine learning (ML)](sec:ml).\n",
    "\n",
    "In principle, the programming language in which we implement any given model is of minor importance *per se*. However, it makes good sense for every engineer to be well trained in using at least one versatile and generic programming language. Arguably, Python is a good choice to fill this role and it will therefore be the language of choice in this course."
   ]
  }
 ],
 "metadata": {
  "kernelspec": {
   "display_name": "Python 3 (ipykernel)",
   "language": "python",
   "name": "python3"
  },
  "language_info": {
   "codemirror_mode": {
    "name": "ipython",
    "version": 3
   },
   "file_extension": ".py",
   "mimetype": "text/x-python",
   "name": "python",
   "nbconvert_exporter": "python",
   "pygments_lexer": "ipython3",
   "version": "3.11.8"
  }
 },
 "nbformat": 4,
 "nbformat_minor": 5
}
